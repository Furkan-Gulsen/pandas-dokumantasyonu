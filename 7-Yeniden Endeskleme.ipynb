{
 "cells": [
  {
   "cell_type": "markdown",
   "metadata": {},
   "source": [
    "# PYTHON Pandas Yeniden Endeskleme(Reindexing)\n",
    "Satır etiketleri ve sütun etiketleri bir DataFrame reindexing değiştirir. Reindex'e, belirli bir eksen boyunca belirli bir etiket kümesiyle eşleşecek şekilde verileri uyması anlamına gelir.\n",
    "Çoklu işlemler aşağıdaki gibi indeksleme yoluyla gerçekleştirilebilir:\n",
    "- Varolan verileri yeni bir etiket kümesiyle eşleşecek şekilde yeniden sıralayın.\n",
    "- Eksik değer (NA) işaretçileri, etiketin veri olmadığı etiket konumlarına ekleyin.\n",
    "\n",
    "**Örnek**"
   ]
  },
  {
   "cell_type": "code",
   "execution_count": 1,
   "metadata": {},
   "outputs": [
    {
     "data": {
      "text/html": [
       "<div>\n",
       "<style scoped>\n",
       "    .dataframe tbody tr th:only-of-type {\n",
       "        vertical-align: middle;\n",
       "    }\n",
       "\n",
       "    .dataframe tbody tr th {\n",
       "        vertical-align: top;\n",
       "    }\n",
       "\n",
       "    .dataframe thead th {\n",
       "        text-align: right;\n",
       "    }\n",
       "</style>\n",
       "<table border=\"1\" class=\"dataframe\">\n",
       "  <thead>\n",
       "    <tr style=\"text-align: right;\">\n",
       "      <th></th>\n",
       "      <th>A</th>\n",
       "      <th>C</th>\n",
       "      <th>B</th>\n",
       "    </tr>\n",
       "  </thead>\n",
       "  <tbody>\n",
       "    <tr>\n",
       "      <th>0</th>\n",
       "      <td>2017-01-01</td>\n",
       "      <td>High</td>\n",
       "      <td>NaN</td>\n",
       "    </tr>\n",
       "    <tr>\n",
       "      <th>2</th>\n",
       "      <td>2017-01-03</td>\n",
       "      <td>High</td>\n",
       "      <td>NaN</td>\n",
       "    </tr>\n",
       "    <tr>\n",
       "      <th>5</th>\n",
       "      <td>2017-01-06</td>\n",
       "      <td>Medium</td>\n",
       "      <td>NaN</td>\n",
       "    </tr>\n",
       "  </tbody>\n",
       "</table>\n",
       "</div>"
      ],
      "text/plain": [
       "           A       C   B\n",
       "0 2017-01-01    High NaN\n",
       "2 2017-01-03    High NaN\n",
       "5 2017-01-06  Medium NaN"
      ]
     },
     "execution_count": 1,
     "metadata": {},
     "output_type": "execute_result"
    }
   ],
   "source": [
    "import pandas as pd\n",
    "import numpy as np\n",
    "\n",
    "N = 20\n",
    "df = pd.DataFrame({\n",
    "    'A': pd.date_range(start='2017-01-01',periods=N,freq='D'),\n",
    "    'x': np.linspace(0,stop=N,num=N),\n",
    "    'y': np.random.randn(N),\n",
    "    'C': np.random.choice(['Low','Medium','High'],N).tolist(),\n",
    "    'D': np.random.normal(100,10,size=(N)).tolist()\n",
    "})\n",
    "\n",
    "df_reindexed = df.reindex(index=[0,2,5],columns=['A','C','B'])\n",
    "df_reindexed"
   ]
  },
  {
   "cell_type": "markdown",
   "metadata": {},
   "source": [
    "**Not:** Yukarıda bulunan birkaç numpy özelliğini burada kısaca anlatayım.\n",
    "- tolist(): Dizi verilerinin bir kopyasını (iç içe geçmiş) bir Python listesi olarak döndürür. Veri öğeleri, öğe işlevi aracılığıyla en yakın uyumlu yerleşik Python türüne dönüştürülür.\n",
    "- linspace(): Belirtilen aralıkta eşit aralıklı sayılar döndürür.\n",
    "- choice(): Belirli bir 1-D dizisinden rastgele bir örnek oluşturur."
   ]
  },
  {
   "cell_type": "markdown",
   "metadata": {},
   "source": [
    "## Diğer nesnelerle hizalamak için Reindex\n",
    "Bir nesneyi almak ve eksenini başka bir nesneyle aynı şekilde etiketlemek için yeniden tanımlamak isteyebilirsiniz. Aynı olayını anlamak için aşağıdaki örneği göz atın."
   ]
  },
  {
   "cell_type": "code",
   "execution_count": 5,
   "metadata": {},
   "outputs": [
    {
     "data": {
      "text/html": [
       "<div>\n",
       "<style scoped>\n",
       "    .dataframe tbody tr th:only-of-type {\n",
       "        vertical-align: middle;\n",
       "    }\n",
       "\n",
       "    .dataframe tbody tr th {\n",
       "        vertical-align: top;\n",
       "    }\n",
       "\n",
       "    .dataframe thead th {\n",
       "        text-align: right;\n",
       "    }\n",
       "</style>\n",
       "<table border=\"1\" class=\"dataframe\">\n",
       "  <thead>\n",
       "    <tr style=\"text-align: right;\">\n",
       "      <th></th>\n",
       "      <th>col1</th>\n",
       "      <th>col2</th>\n",
       "      <th>col3</th>\n",
       "    </tr>\n",
       "  </thead>\n",
       "  <tbody>\n",
       "    <tr>\n",
       "      <th>0</th>\n",
       "      <td>1.907253</td>\n",
       "      <td>0.304880</td>\n",
       "      <td>1.761830</td>\n",
       "    </tr>\n",
       "    <tr>\n",
       "      <th>1</th>\n",
       "      <td>-0.190693</td>\n",
       "      <td>-0.690875</td>\n",
       "      <td>0.116094</td>\n",
       "    </tr>\n",
       "    <tr>\n",
       "      <th>2</th>\n",
       "      <td>-1.387675</td>\n",
       "      <td>-0.768699</td>\n",
       "      <td>0.913073</td>\n",
       "    </tr>\n",
       "    <tr>\n",
       "      <th>3</th>\n",
       "      <td>-1.905118</td>\n",
       "      <td>-0.047193</td>\n",
       "      <td>-0.436589</td>\n",
       "    </tr>\n",
       "    <tr>\n",
       "      <th>4</th>\n",
       "      <td>0.504060</td>\n",
       "      <td>1.737231</td>\n",
       "      <td>-1.703080</td>\n",
       "    </tr>\n",
       "    <tr>\n",
       "      <th>5</th>\n",
       "      <td>-0.316496</td>\n",
       "      <td>1.331819</td>\n",
       "      <td>1.186241</td>\n",
       "    </tr>\n",
       "    <tr>\n",
       "      <th>6</th>\n",
       "      <td>-1.044460</td>\n",
       "      <td>-0.919419</td>\n",
       "      <td>0.308286</td>\n",
       "    </tr>\n",
       "  </tbody>\n",
       "</table>\n",
       "</div>"
      ],
      "text/plain": [
       "       col1      col2      col3\n",
       "0  1.907253  0.304880  1.761830\n",
       "1 -0.190693 -0.690875  0.116094\n",
       "2 -1.387675 -0.768699  0.913073\n",
       "3 -1.905118 -0.047193 -0.436589\n",
       "4  0.504060  1.737231 -1.703080\n",
       "5 -0.316496  1.331819  1.186241\n",
       "6 -1.044460 -0.919419  0.308286"
      ]
     },
     "execution_count": 5,
     "metadata": {},
     "output_type": "execute_result"
    }
   ],
   "source": [
    "import pandas as pd\n",
    "import numpy as np\n",
    "\n",
    "df1 = pd.DataFrame(np.random.randn(10,3),columns=['col1','col2','col3'])\n",
    "df2 = pd.DataFrame(np.random.randn(7,3),columns=['col1','col2','col3'])\n",
    "\n",
    "df1 = df1.reindex_like(df2)\n",
    "df1"
   ]
  },
  {
   "cell_type": "markdown",
   "metadata": {},
   "source": [
    "## Reindexing sırasında doldurma\n",
    "reindex () aşağıdaki gibi değerlere sahip bir doldurma yöntemi olan isteğe bağlı bir parametre yöntemi alır.\n",
    "- pad/ffill: Değerleri ileri doldurur.\n",
    "- bfill/backfill: Değerleri geriye doğru doldurur.\n",
    "- nearest: En yakın dizin değerlerinden doldurur.\n",
    "\n",
    "**Örnek**"
   ]
  },
  {
   "cell_type": "code",
   "execution_count": 5,
   "metadata": {},
   "outputs": [
    {
     "name": "stdout",
     "output_type": "stream",
     "text": [
      "İleri doldurma ile DataFrame:\n"
     ]
    },
    {
     "data": {
      "text/html": [
       "<div>\n",
       "<style scoped>\n",
       "    .dataframe tbody tr th:only-of-type {\n",
       "        vertical-align: middle;\n",
       "    }\n",
       "\n",
       "    .dataframe tbody tr th {\n",
       "        vertical-align: top;\n",
       "    }\n",
       "\n",
       "    .dataframe thead th {\n",
       "        text-align: right;\n",
       "    }\n",
       "</style>\n",
       "<table border=\"1\" class=\"dataframe\">\n",
       "  <thead>\n",
       "    <tr style=\"text-align: right;\">\n",
       "      <th></th>\n",
       "      <th>col1</th>\n",
       "      <th>col2</th>\n",
       "      <th>col3</th>\n",
       "    </tr>\n",
       "  </thead>\n",
       "  <tbody>\n",
       "    <tr>\n",
       "      <th>0</th>\n",
       "      <td>2.026985</td>\n",
       "      <td>0.676323</td>\n",
       "      <td>-0.091326</td>\n",
       "    </tr>\n",
       "    <tr>\n",
       "      <th>1</th>\n",
       "      <td>-0.382700</td>\n",
       "      <td>0.084232</td>\n",
       "      <td>0.409528</td>\n",
       "    </tr>\n",
       "    <tr>\n",
       "      <th>2</th>\n",
       "      <td>-0.382700</td>\n",
       "      <td>0.084232</td>\n",
       "      <td>0.409528</td>\n",
       "    </tr>\n",
       "    <tr>\n",
       "      <th>3</th>\n",
       "      <td>-0.382700</td>\n",
       "      <td>0.084232</td>\n",
       "      <td>0.409528</td>\n",
       "    </tr>\n",
       "    <tr>\n",
       "      <th>4</th>\n",
       "      <td>-0.382700</td>\n",
       "      <td>0.084232</td>\n",
       "      <td>0.409528</td>\n",
       "    </tr>\n",
       "    <tr>\n",
       "      <th>5</th>\n",
       "      <td>-0.382700</td>\n",
       "      <td>0.084232</td>\n",
       "      <td>0.409528</td>\n",
       "    </tr>\n",
       "  </tbody>\n",
       "</table>\n",
       "</div>"
      ],
      "text/plain": [
       "       col1      col2      col3\n",
       "0  2.026985  0.676323 -0.091326\n",
       "1 -0.382700  0.084232  0.409528\n",
       "2 -0.382700  0.084232  0.409528\n",
       "3 -0.382700  0.084232  0.409528\n",
       "4 -0.382700  0.084232  0.409528\n",
       "5 -0.382700  0.084232  0.409528"
      ]
     },
     "execution_count": 5,
     "metadata": {},
     "output_type": "execute_result"
    }
   ],
   "source": [
    "import pandas as pd\n",
    "import numpy as np\n",
    "\n",
    "df1 = pd.DataFrame(np.random.randn(6,3),columns=['col1','col2','col3'])\n",
    "df2 = pd.DataFrame(np.random.randn(2,3),columns=['col1','col2','col3'])\n",
    "\n",
    "print(df2.reindex_like(df1))\n",
    "\n",
    "print(\"İleri doldurma ile DataFrame:\")\n",
    "print(df2.reindex_like(df1,method='ffill'))"
   ]
  },
  {
   "cell_type": "markdown",
   "metadata": {},
   "source": [
    "## Reindexing sırasında doldurma sınırları\n",
    "Limit bağımsız değişkeni reindexing sırasında doldurma üzerinde ek denetim sağlar. Limit ardışık eşleşmelerin maksimum sayısını belirtir. Bu olayı anlamak için aşağıdaki örneği ele alalım.\n",
    "\n",
    "**Örnek**"
   ]
  },
  {
   "cell_type": "code",
   "execution_count": 7,
   "metadata": {},
   "outputs": [
    {
     "name": "stdout",
     "output_type": "stream",
     "text": [
      "İleri doldurma ile DataFrame(limit1):\n"
     ]
    },
    {
     "data": {
      "text/html": [
       "<div>\n",
       "<style scoped>\n",
       "    .dataframe tbody tr th:only-of-type {\n",
       "        vertical-align: middle;\n",
       "    }\n",
       "\n",
       "    .dataframe tbody tr th {\n",
       "        vertical-align: top;\n",
       "    }\n",
       "\n",
       "    .dataframe thead th {\n",
       "        text-align: right;\n",
       "    }\n",
       "</style>\n",
       "<table border=\"1\" class=\"dataframe\">\n",
       "  <thead>\n",
       "    <tr style=\"text-align: right;\">\n",
       "      <th></th>\n",
       "      <th>col1</th>\n",
       "      <th>col2</th>\n",
       "      <th>col3</th>\n",
       "    </tr>\n",
       "  </thead>\n",
       "  <tbody>\n",
       "    <tr>\n",
       "      <th>0</th>\n",
       "      <td>-0.377912</td>\n",
       "      <td>-0.679837</td>\n",
       "      <td>1.358535</td>\n",
       "    </tr>\n",
       "    <tr>\n",
       "      <th>1</th>\n",
       "      <td>-0.377013</td>\n",
       "      <td>-0.160673</td>\n",
       "      <td>-0.474043</td>\n",
       "    </tr>\n",
       "    <tr>\n",
       "      <th>2</th>\n",
       "      <td>-0.377013</td>\n",
       "      <td>-0.160673</td>\n",
       "      <td>-0.474043</td>\n",
       "    </tr>\n",
       "    <tr>\n",
       "      <th>3</th>\n",
       "      <td>NaN</td>\n",
       "      <td>NaN</td>\n",
       "      <td>NaN</td>\n",
       "    </tr>\n",
       "    <tr>\n",
       "      <th>4</th>\n",
       "      <td>NaN</td>\n",
       "      <td>NaN</td>\n",
       "      <td>NaN</td>\n",
       "    </tr>\n",
       "    <tr>\n",
       "      <th>5</th>\n",
       "      <td>NaN</td>\n",
       "      <td>NaN</td>\n",
       "      <td>NaN</td>\n",
       "    </tr>\n",
       "  </tbody>\n",
       "</table>\n",
       "</div>"
      ],
      "text/plain": [
       "       col1      col2      col3\n",
       "0 -0.377912 -0.679837  1.358535\n",
       "1 -0.377013 -0.160673 -0.474043\n",
       "2 -0.377013 -0.160673 -0.474043\n",
       "3       NaN       NaN       NaN\n",
       "4       NaN       NaN       NaN\n",
       "5       NaN       NaN       NaN"
      ]
     },
     "execution_count": 7,
     "metadata": {},
     "output_type": "execute_result"
    }
   ],
   "source": [
    "import pandas as pd\n",
    "import numpy as np\n",
    " \n",
    "df1 = pd.DataFrame(np.random.randn(6,3),columns=['col1','col2','col3'])\n",
    "df2 = pd.DataFrame(np.random.randn(2,3),columns=['col1','col2','col3'])\n",
    "\n",
    "\n",
    "print (\"İleri doldurma ile DataFrame(limit1):\")\n",
    "df2.reindex_like(df1,method='ffill',limit=1)"
   ]
  },
  {
   "cell_type": "markdown",
   "metadata": {},
   "source": [
    "## Yeniden Adlandırmak(Renaming)\n",
    "Rename () yöntemi, bazı eşlemelere (dict veya seriler) veya rasgele bir işleve dayalı bir ekseni yeniden etiketlemenizi sağlar.\n",
    "Bunu anlamak için aşağıdaki örneği ele alalım:"
   ]
  },
  {
   "cell_type": "code",
   "execution_count": 9,
   "metadata": {},
   "outputs": [
    {
     "name": "stdout",
     "output_type": "stream",
     "text": [
      "Yeniden Adlandırdıktan sonra satır ve sütunlar:\n"
     ]
    },
    {
     "data": {
      "text/html": [
       "<div>\n",
       "<style scoped>\n",
       "    .dataframe tbody tr th:only-of-type {\n",
       "        vertical-align: middle;\n",
       "    }\n",
       "\n",
       "    .dataframe tbody tr th {\n",
       "        vertical-align: top;\n",
       "    }\n",
       "\n",
       "    .dataframe thead th {\n",
       "        text-align: right;\n",
       "    }\n",
       "</style>\n",
       "<table border=\"1\" class=\"dataframe\">\n",
       "  <thead>\n",
       "    <tr style=\"text-align: right;\">\n",
       "      <th></th>\n",
       "      <th>c1</th>\n",
       "      <th>c2</th>\n",
       "      <th>col3</th>\n",
       "    </tr>\n",
       "  </thead>\n",
       "  <tbody>\n",
       "    <tr>\n",
       "      <th>apple</th>\n",
       "      <td>-0.096674</td>\n",
       "      <td>0.555717</td>\n",
       "      <td>0.929879</td>\n",
       "    </tr>\n",
       "    <tr>\n",
       "      <th>banana</th>\n",
       "      <td>-0.226227</td>\n",
       "      <td>0.537153</td>\n",
       "      <td>0.658939</td>\n",
       "    </tr>\n",
       "    <tr>\n",
       "      <th>durian</th>\n",
       "      <td>-0.171097</td>\n",
       "      <td>0.049145</td>\n",
       "      <td>-1.680230</td>\n",
       "    </tr>\n",
       "    <tr>\n",
       "      <th>3</th>\n",
       "      <td>-0.184811</td>\n",
       "      <td>0.561560</td>\n",
       "      <td>-2.474488</td>\n",
       "    </tr>\n",
       "    <tr>\n",
       "      <th>4</th>\n",
       "      <td>-0.910864</td>\n",
       "      <td>0.490068</td>\n",
       "      <td>-0.459182</td>\n",
       "    </tr>\n",
       "    <tr>\n",
       "      <th>5</th>\n",
       "      <td>0.146463</td>\n",
       "      <td>-0.911526</td>\n",
       "      <td>1.101054</td>\n",
       "    </tr>\n",
       "  </tbody>\n",
       "</table>\n",
       "</div>"
      ],
      "text/plain": [
       "              c1        c2      col3\n",
       "apple  -0.096674  0.555717  0.929879\n",
       "banana -0.226227  0.537153  0.658939\n",
       "durian -0.171097  0.049145 -1.680230\n",
       "3      -0.184811  0.561560 -2.474488\n",
       "4      -0.910864  0.490068 -0.459182\n",
       "5       0.146463 -0.911526  1.101054"
      ]
     },
     "execution_count": 9,
     "metadata": {},
     "output_type": "execute_result"
    }
   ],
   "source": [
    "import pandas as pd\n",
    "import numpy as np\n",
    "\n",
    "df1 = pd.DataFrame(np.random.randn(6,3),columns=['col1','col2','col3'])\n",
    "\n",
    "print (\"Yeniden Adlandırdıktan sonra satır ve sütunlar:\")\n",
    "df1.rename(columns={'col1' : 'c1', 'col2' : 'c2'},\n",
    "    index = {0 : 'apple', 1 : 'banana', 2 : 'durian'})"
   ]
  },
  {
   "cell_type": "code",
   "execution_count": null,
   "metadata": {},
   "outputs": [],
   "source": []
  }
 ],
 "metadata": {
  "kernelspec": {
   "display_name": "Python 3",
   "language": "python",
   "name": "python3"
  },
  "language_info": {
   "codemirror_mode": {
    "name": "ipython",
    "version": 3
   },
   "file_extension": ".py",
   "mimetype": "text/x-python",
   "name": "python",
   "nbconvert_exporter": "python",
   "pygments_lexer": "ipython3",
   "version": "3.7.3"
  }
 },
 "nbformat": 4,
 "nbformat_minor": 4
}
