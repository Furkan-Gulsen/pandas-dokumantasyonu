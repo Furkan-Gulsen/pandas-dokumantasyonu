{
 "cells": [
  {
   "cell_type": "markdown",
   "metadata": {},
   "source": [
    "# PYTHON Pandas - Veri İndeksleme Ve Seçme\n",
    "Bu bölümde, tarihi nasıl dilimleyeceğimizi ve zar atacağımızı ve genellikle pandas nesnesinin alt kümesini nasıl alacağımızı öğreneceğiz.\n",
    "\n",
    "Python ve NumPy indeksleme operatörleri \"[] \"ve öznitelik operatörü\".\"kullanım durumları geniş bir yelpazede pandas veri yapılarına hızlı ve kolay erişim sağlar. Bununla birlikte, erişilecek verilerin türü önceden bilinmediğinden, doğrudan standart operatörlerin kullanılması bazı optimizasyon sınırlarına sahiptir. Üretim kodu için, bu bölümde açıklanan optimize edilmiş pandalar veri erişim yöntemlerinden yararlanmanızı öneririz.\n",
    "\n",
    "| Sr.No | Dizin | Açıklama |\n",
    "|---|---|---|\n",
    "| 1 | .loc | Etiket tabanlı |\n",
    "| 2 | .iloc | Tamsayı tabanlı |\n",
    "| 3 |.ix | Hem etiket hem de tamsayı tabanlı |\n",
    "\n",
    "## .loc\n",
    "Pandas tamamen etiket tabanlı indeksleme için çeşitli yöntemler sağlar. Dilimleme yaparken, başlangıç sınırı da dahildir. Tamsayılar geçerli etiketlerdir, ancak konuma değil etikete başvururlar.\n",
    ".loc() aşağıdaki gibi çoklu erişim yöntemleri vardır.\n",
    "- Tek bir skaler etiket\n",
    "- Etiket listesi\n",
    "- Bir dilim nesnesi\n",
    "- Bir boolean listesi\n",
    "\n",
    "**Örnek 1**"
   ]
  },
  {
   "cell_type": "code",
   "execution_count": 1,
   "metadata": {},
   "outputs": [
    {
     "data": {
      "text/plain": [
       "a    1.175623\n",
       "b    0.097213\n",
       "c    0.547861\n",
       "d   -1.083855\n",
       "e    0.868159\n",
       "f    0.702737\n",
       "g    0.289487\n",
       "h   -1.490551\n",
       "Name: A, dtype: float64"
      ]
     },
     "execution_count": 1,
     "metadata": {},
     "output_type": "execute_result"
    }
   ],
   "source": [
    "import pandas as pd\n",
    "import numpy as np\n",
    "\n",
    "df = pd.DataFrame(np.random.randn(8,4),\n",
    "                  index = ['a','b','c','d','e','f','g','h'],\n",
    "                  columns=['A','B','C','D'])\n",
    "\n",
    "df.loc[:,'A']"
   ]
  },
  {
   "cell_type": "markdown",
   "metadata": {},
   "source": [
    "**Örnek 2**"
   ]
  },
  {
   "cell_type": "code",
   "execution_count": 6,
   "metadata": {},
   "outputs": [
    {
     "name": "stdout",
     "output_type": "stream",
     "text": [
      "          A         C\n",
      "a  1.521064  0.536927\n",
      "b  0.410506 -1.491079\n",
      "c  1.016572 -0.368829\n",
      "d  0.447161  0.191068\n",
      "e  1.723841  0.949114\n",
      "f  2.757782 -0.440548\n",
      "g  1.983765 -0.425246\n",
      "h  1.210397  0.355660\n"
     ]
    }
   ],
   "source": [
    "import pandas as pd\n",
    "import numpy as np\n",
    "\n",
    "df = pd.DataFrame(np.random.randn(8,4),\n",
    "                  index = ['a','b','c','d','e','f','g','h'],\n",
    "                  columns=['A','B','C','D'])\n",
    "\n",
    "print(df.loc[:,['A','C']])"
   ]
  },
  {
   "cell_type": "markdown",
   "metadata": {},
   "source": [
    "**Örnek 3**"
   ]
  },
  {
   "cell_type": "code",
   "execution_count": 8,
   "metadata": {},
   "outputs": [
    {
     "name": "stdout",
     "output_type": "stream",
     "text": [
      "          A         C\n",
      "a -1.284055  1.078504\n",
      "b -0.169247  1.876090\n",
      "f  1.238051 -1.954387\n",
      "g -0.529721 -0.508349\n"
     ]
    }
   ],
   "source": [
    "import pandas as pd\n",
    "import numpy as np\n",
    "\n",
    "df = pd.DataFrame(np.random.randn(8,4),\n",
    "                  index = ['a','b','c','d','e','f','g','h'],\n",
    "                  columns=['A','B','C','D'])\n",
    "\n",
    "print(df.loc[['a','b','f','g'],['A','C']])"
   ]
  },
  {
   "cell_type": "markdown",
   "metadata": {},
   "source": [
    "**Örnek 4**"
   ]
  },
  {
   "cell_type": "code",
   "execution_count": 10,
   "metadata": {},
   "outputs": [
    {
     "name": "stdout",
     "output_type": "stream",
     "text": [
      "          A         B         C         D\n",
      "a -0.529005 -0.222456 -0.238107  0.097046\n",
      "b -0.267766 -0.879002 -1.976501 -1.331820\n",
      "c  1.507511 -0.388398  0.190395 -1.016543\n",
      "d  1.099079  0.850240  0.316530  0.979211\n",
      "e -0.252174 -0.960793 -1.184589  0.282826\n",
      "f -1.166112 -0.483563  0.457025 -0.581047\n",
      "g  0.270744  0.275215 -0.034028 -1.761025\n"
     ]
    }
   ],
   "source": [
    "import pandas as pd\n",
    "import numpy as np\n",
    "\n",
    "df = pd.DataFrame(np.random.randn(8,4),\n",
    "                  index = ['a','b','c','d','e','f','g','h'],\n",
    "                  columns=['A','B','C','D'])\n",
    "\n",
    "print(df.loc['a':'g'])"
   ]
  },
  {
   "cell_type": "markdown",
   "metadata": {},
   "source": [
    "**Örnek 5**"
   ]
  },
  {
   "cell_type": "code",
   "execution_count": 11,
   "metadata": {},
   "outputs": [
    {
     "name": "stdout",
     "output_type": "stream",
     "text": [
      "A    False\n",
      "B     True\n",
      "C     True\n",
      "D     True\n",
      "Name: a, dtype: bool\n"
     ]
    }
   ],
   "source": [
    "import pandas as pd\n",
    "import numpy as np\n",
    "\n",
    "df = pd.DataFrame(np.random.randn(8,4),\n",
    "                  index = ['a','b','c','d','e','f','g','h'],\n",
    "                  columns=['A','B','C','D'])\n",
    "\n",
    "print(df.loc['a']>0)"
   ]
  },
  {
   "cell_type": "markdown",
   "metadata": {},
   "source": [
    "## .iloc()\n",
    "Pandalar tamamen tamsayı tabanlı indeksleme elde etmek için çeşitli yöntemler sağlar. Python ve numpy gibi, bunlar 0 tabanlı indeksler.\n",
    "Çeşitli erişim yöntemleri aşağıdaki gibidir.\n",
    "- tamsayı\n",
    "- tamsayı listesi\n",
    "- Bir değer aralığı\n",
    "\n",
    "**Örnek 1**"
   ]
  },
  {
   "cell_type": "code",
   "execution_count": 12,
   "metadata": {},
   "outputs": [
    {
     "name": "stdout",
     "output_type": "stream",
     "text": [
      "          A         B         C         D\n",
      "a -2.598710 -0.170218  0.157466 -0.641340\n",
      "b -0.124876 -0.966792 -2.040088 -0.794693\n",
      "c -0.449089  0.558291 -0.555078 -0.871667\n"
     ]
    }
   ],
   "source": [
    "import pandas as pd\n",
    "import numpy as np\n",
    "\n",
    "df = pd.DataFrame(np.random.randn(8,4),\n",
    "                  index = ['a','b','c','d','e','f','g','h'],\n",
    "                  columns=['A','B','C','D'])\n",
    "\n",
    "print(df.iloc[:3])"
   ]
  },
  {
   "cell_type": "markdown",
   "metadata": {},
   "source": [
    "**Örnek 2**"
   ]
  },
  {
   "cell_type": "code",
   "execution_count": 13,
   "metadata": {},
   "outputs": [
    {
     "name": "stdout",
     "output_type": "stream",
     "text": [
      "          C         D\n",
      "b -0.785892 -1.711479\n",
      "c -0.157131 -0.843173\n",
      "d -0.223474 -0.999276\n",
      "e -0.908796 -0.637454\n"
     ]
    }
   ],
   "source": [
    "import pandas as pd\n",
    "import numpy as np\n",
    "\n",
    "df = pd.DataFrame(np.random.randn(8,4),\n",
    "                  index = ['a','b','c','d','e','f','g','h'],\n",
    "                  columns=['A','B','C','D'])\n",
    "\n",
    "print(df.iloc[1:5,2:4])"
   ]
  },
  {
   "cell_type": "markdown",
   "metadata": {},
   "source": [
    "**Örnek 3**"
   ]
  },
  {
   "cell_type": "code",
   "execution_count": 26,
   "metadata": {},
   "outputs": [
    {
     "data": {
      "text/html": [
       "<div>\n",
       "<style scoped>\n",
       "    .dataframe tbody tr th:only-of-type {\n",
       "        vertical-align: middle;\n",
       "    }\n",
       "\n",
       "    .dataframe tbody tr th {\n",
       "        vertical-align: top;\n",
       "    }\n",
       "\n",
       "    .dataframe thead th {\n",
       "        text-align: right;\n",
       "    }\n",
       "</style>\n",
       "<table border=\"1\" class=\"dataframe\">\n",
       "  <thead>\n",
       "    <tr style=\"text-align: right;\">\n",
       "      <th></th>\n",
       "      <th>B</th>\n",
       "      <th>D</th>\n",
       "    </tr>\n",
       "  </thead>\n",
       "  <tbody>\n",
       "    <tr>\n",
       "      <th>b</th>\n",
       "      <td>-0.914627</td>\n",
       "      <td>-0.484107</td>\n",
       "    </tr>\n",
       "    <tr>\n",
       "      <th>c</th>\n",
       "      <td>0.184735</td>\n",
       "      <td>0.608863</td>\n",
       "    </tr>\n",
       "    <tr>\n",
       "      <th>e</th>\n",
       "      <td>0.775192</td>\n",
       "      <td>2.950337</td>\n",
       "    </tr>\n",
       "  </tbody>\n",
       "</table>\n",
       "</div>"
      ],
      "text/plain": [
       "          B         D\n",
       "b -0.914627 -0.484107\n",
       "c  0.184735  0.608863\n",
       "e  0.775192  2.950337"
      ]
     },
     "execution_count": 26,
     "metadata": {},
     "output_type": "execute_result"
    }
   ],
   "source": [
    "import pandas as pd\n",
    "import numpy as np\n",
    "\n",
    "df = pd.DataFrame(np.random.randn(8,4),\n",
    "                  index = ['a','b','c','d','e','f','g','h'],\n",
    "                  columns=['A','B','C','D'])\n",
    "\n",
    "df.iloc[[1,2,4],[1,3]]"
   ]
  },
  {
   "cell_type": "markdown",
   "metadata": {},
   "source": [
    "## ix()\n",
    "Bu hem .loc hem de .iloc gibi çalışır.\n",
    "\n",
    "**Örnek 1**"
   ]
  },
  {
   "cell_type": "code",
   "execution_count": 25,
   "metadata": {},
   "outputs": [
    {
     "name": "stderr",
     "output_type": "stream",
     "text": [
      "C:\\Users\\Lenovo\\Anaconda3\\lib\\site-packages\\ipykernel_launcher.py:8: DeprecationWarning: \n",
      ".ix is deprecated. Please use\n",
      ".loc for label based indexing or\n",
      ".iloc for positional indexing\n",
      "\n",
      "See the documentation here:\n",
      "http://pandas.pydata.org/pandas-docs/stable/indexing.html#ix-indexer-is-deprecated\n",
      "  \n"
     ]
    },
    {
     "data": {
      "text/html": [
       "<div>\n",
       "<style scoped>\n",
       "    .dataframe tbody tr th:only-of-type {\n",
       "        vertical-align: middle;\n",
       "    }\n",
       "\n",
       "    .dataframe tbody tr th {\n",
       "        vertical-align: top;\n",
       "    }\n",
       "\n",
       "    .dataframe thead th {\n",
       "        text-align: right;\n",
       "    }\n",
       "</style>\n",
       "<table border=\"1\" class=\"dataframe\">\n",
       "  <thead>\n",
       "    <tr style=\"text-align: right;\">\n",
       "      <th></th>\n",
       "      <th>A</th>\n",
       "      <th>B</th>\n",
       "      <th>C</th>\n",
       "      <th>D</th>\n",
       "    </tr>\n",
       "  </thead>\n",
       "  <tbody>\n",
       "    <tr>\n",
       "      <th>a</th>\n",
       "      <td>-0.126685</td>\n",
       "      <td>1.022565</td>\n",
       "      <td>0.009967</td>\n",
       "      <td>-0.171545</td>\n",
       "    </tr>\n",
       "    <tr>\n",
       "      <th>b</th>\n",
       "      <td>2.791719</td>\n",
       "      <td>-1.718629</td>\n",
       "      <td>0.575898</td>\n",
       "      <td>0.083384</td>\n",
       "    </tr>\n",
       "    <tr>\n",
       "      <th>c</th>\n",
       "      <td>0.694704</td>\n",
       "      <td>0.182667</td>\n",
       "      <td>-0.717311</td>\n",
       "      <td>1.048104</td>\n",
       "    </tr>\n",
       "    <tr>\n",
       "      <th>d</th>\n",
       "      <td>0.884241</td>\n",
       "      <td>1.654413</td>\n",
       "      <td>1.057019</td>\n",
       "      <td>-1.381079</td>\n",
       "    </tr>\n",
       "  </tbody>\n",
       "</table>\n",
       "</div>"
      ],
      "text/plain": [
       "          A         B         C         D\n",
       "a -0.126685  1.022565  0.009967 -0.171545\n",
       "b  2.791719 -1.718629  0.575898  0.083384\n",
       "c  0.694704  0.182667 -0.717311  1.048104\n",
       "d  0.884241  1.654413  1.057019 -1.381079"
      ]
     },
     "execution_count": 25,
     "metadata": {},
     "output_type": "execute_result"
    }
   ],
   "source": [
    "import pandas as pd\n",
    "import numpy as np\n",
    "\n",
    "df = pd.DataFrame(np.random.randn(8,4),\n",
    "                  index = ['a','b','c','d','e','f','g','h'],\n",
    "                  columns=['A','B','C','D'])\n",
    "\n",
    "df.ix[:4]"
   ]
  },
  {
   "cell_type": "markdown",
   "metadata": {},
   "source": [
    "**Örnek 2**"
   ]
  },
  {
   "cell_type": "code",
   "execution_count": 30,
   "metadata": {},
   "outputs": [
    {
     "name": "stderr",
     "output_type": "stream",
     "text": [
      "C:\\Users\\Lenovo\\Anaconda3\\lib\\site-packages\\ipykernel_launcher.py:8: DeprecationWarning: \n",
      ".ix is deprecated. Please use\n",
      ".loc for label based indexing or\n",
      ".iloc for positional indexing\n",
      "\n",
      "See the documentation here:\n",
      "http://pandas.pydata.org/pandas-docs/stable/indexing.html#ix-indexer-is-deprecated\n",
      "  \n"
     ]
    },
    {
     "data": {
      "text/plain": [
       "a   -0.267370\n",
       "b   -0.130328\n",
       "c    0.454876\n",
       "d   -1.344461\n",
       "e    0.156791\n",
       "f    1.665439\n",
       "g   -0.977349\n",
       "h    0.738473\n",
       "Name: A, dtype: float64"
      ]
     },
     "execution_count": 30,
     "metadata": {},
     "output_type": "execute_result"
    }
   ],
   "source": [
    "import pandas as pd\n",
    "import numpy as np\n",
    "\n",
    "df = pd.DataFrame(np.random.randn(8,4),\n",
    "                  index = ['a','b','c','d','e','f','g','h'],\n",
    "                  columns=['A','B','C','D'])\n",
    "\n",
    "df.ix[:,'A']"
   ]
  },
  {
   "cell_type": "markdown",
   "metadata": {},
   "source": [
    "## Notasyonların kullanımı\n",
    "Şimdi her işlemin DataFrame nesnesinde nasıl gerçekleştirilebileceğini görelim. Temel indeksleme operatörünü kullanacağız' []'.\n",
    "\n",
    "**Örnek 1**"
   ]
  },
  {
   "cell_type": "code",
   "execution_count": 31,
   "metadata": {},
   "outputs": [
    {
     "data": {
      "text/plain": [
       "0    0.592935\n",
       "1   -0.906963\n",
       "2    0.863778\n",
       "3    2.060928\n",
       "4   -0.035286\n",
       "5    1.629355\n",
       "6    0.236472\n",
       "7    0.661143\n",
       "Name: A, dtype: float64"
      ]
     },
     "execution_count": 31,
     "metadata": {},
     "output_type": "execute_result"
    }
   ],
   "source": [
    "import pandas as pd\n",
    "import numpy as np\n",
    "\n",
    "df = pd.DataFrame(np.random.randn(8,4),\n",
    "                  columns=['A','B','C','D'])\n",
    "\n",
    "df['A']"
   ]
  },
  {
   "cell_type": "markdown",
   "metadata": {},
   "source": [
    "**Örnek 2**"
   ]
  },
  {
   "cell_type": "code",
   "execution_count": 33,
   "metadata": {},
   "outputs": [
    {
     "data": {
      "text/html": [
       "<div>\n",
       "<style scoped>\n",
       "    .dataframe tbody tr th:only-of-type {\n",
       "        vertical-align: middle;\n",
       "    }\n",
       "\n",
       "    .dataframe tbody tr th {\n",
       "        vertical-align: top;\n",
       "    }\n",
       "\n",
       "    .dataframe thead th {\n",
       "        text-align: right;\n",
       "    }\n",
       "</style>\n",
       "<table border=\"1\" class=\"dataframe\">\n",
       "  <thead>\n",
       "    <tr style=\"text-align: right;\">\n",
       "      <th></th>\n",
       "      <th>A</th>\n",
       "      <th>D</th>\n",
       "    </tr>\n",
       "  </thead>\n",
       "  <tbody>\n",
       "    <tr>\n",
       "      <th>0</th>\n",
       "      <td>-0.372325</td>\n",
       "      <td>-1.176258</td>\n",
       "    </tr>\n",
       "    <tr>\n",
       "      <th>1</th>\n",
       "      <td>-1.667379</td>\n",
       "      <td>-2.303175</td>\n",
       "    </tr>\n",
       "    <tr>\n",
       "      <th>2</th>\n",
       "      <td>-0.229777</td>\n",
       "      <td>0.131433</td>\n",
       "    </tr>\n",
       "    <tr>\n",
       "      <th>3</th>\n",
       "      <td>1.325983</td>\n",
       "      <td>-0.583653</td>\n",
       "    </tr>\n",
       "    <tr>\n",
       "      <th>4</th>\n",
       "      <td>-0.788854</td>\n",
       "      <td>1.137095</td>\n",
       "    </tr>\n",
       "    <tr>\n",
       "      <th>5</th>\n",
       "      <td>0.263502</td>\n",
       "      <td>1.793451</td>\n",
       "    </tr>\n",
       "    <tr>\n",
       "      <th>6</th>\n",
       "      <td>-0.290960</td>\n",
       "      <td>-0.377357</td>\n",
       "    </tr>\n",
       "    <tr>\n",
       "      <th>7</th>\n",
       "      <td>0.986932</td>\n",
       "      <td>-0.229399</td>\n",
       "    </tr>\n",
       "  </tbody>\n",
       "</table>\n",
       "</div>"
      ],
      "text/plain": [
       "          A         D\n",
       "0 -0.372325 -1.176258\n",
       "1 -1.667379 -2.303175\n",
       "2 -0.229777  0.131433\n",
       "3  1.325983 -0.583653\n",
       "4 -0.788854  1.137095\n",
       "5  0.263502  1.793451\n",
       "6 -0.290960 -0.377357\n",
       "7  0.986932 -0.229399"
      ]
     },
     "execution_count": 33,
     "metadata": {},
     "output_type": "execute_result"
    }
   ],
   "source": [
    "import pandas as pd\n",
    "import numpy as np\n",
    "\n",
    "df = pd.DataFrame(np.random.randn(8,4),\n",
    "                  columns=['A','B','C','D'])\n",
    "\n",
    "df[['A','D']]"
   ]
  },
  {
   "cell_type": "markdown",
   "metadata": {},
   "source": [
    "**Örnek 3**"
   ]
  },
  {
   "cell_type": "code",
   "execution_count": 36,
   "metadata": {},
   "outputs": [
    {
     "data": {
      "text/html": [
       "<div>\n",
       "<style scoped>\n",
       "    .dataframe tbody tr th:only-of-type {\n",
       "        vertical-align: middle;\n",
       "    }\n",
       "\n",
       "    .dataframe tbody tr th {\n",
       "        vertical-align: top;\n",
       "    }\n",
       "\n",
       "    .dataframe thead th {\n",
       "        text-align: right;\n",
       "    }\n",
       "</style>\n",
       "<table border=\"1\" class=\"dataframe\">\n",
       "  <thead>\n",
       "    <tr style=\"text-align: right;\">\n",
       "      <th></th>\n",
       "      <th>A</th>\n",
       "      <th>B</th>\n",
       "      <th>C</th>\n",
       "      <th>D</th>\n",
       "    </tr>\n",
       "  </thead>\n",
       "  <tbody>\n",
       "    <tr>\n",
       "      <th>1</th>\n",
       "      <td>0.222869</td>\n",
       "      <td>0.836890</td>\n",
       "      <td>0.996925</td>\n",
       "      <td>0.614101</td>\n",
       "    </tr>\n",
       "    <tr>\n",
       "      <th>2</th>\n",
       "      <td>1.593073</td>\n",
       "      <td>-0.544410</td>\n",
       "      <td>-0.510998</td>\n",
       "      <td>-0.063775</td>\n",
       "    </tr>\n",
       "    <tr>\n",
       "      <th>3</th>\n",
       "      <td>0.262484</td>\n",
       "      <td>0.393187</td>\n",
       "      <td>-0.319294</td>\n",
       "      <td>0.380982</td>\n",
       "    </tr>\n",
       "  </tbody>\n",
       "</table>\n",
       "</div>"
      ],
      "text/plain": [
       "          A         B         C         D\n",
       "1  0.222869  0.836890  0.996925  0.614101\n",
       "2  1.593073 -0.544410 -0.510998 -0.063775\n",
       "3  0.262484  0.393187 -0.319294  0.380982"
      ]
     },
     "execution_count": 36,
     "metadata": {},
     "output_type": "execute_result"
    }
   ],
   "source": [
    "import pandas as pd\n",
    "import numpy as np\n",
    "\n",
    "df = pd.DataFrame(np.random.randn(8,4),\n",
    "                  columns=['A','B','C','D'])\n",
    "\n",
    "df[1:4]"
   ]
  },
  {
   "cell_type": "markdown",
   "metadata": {},
   "source": [
    "**Örnek 4**"
   ]
  },
  {
   "cell_type": "code",
   "execution_count": 37,
   "metadata": {},
   "outputs": [
    {
     "data": {
      "text/html": [
       "<div>\n",
       "<style scoped>\n",
       "    .dataframe tbody tr th:only-of-type {\n",
       "        vertical-align: middle;\n",
       "    }\n",
       "\n",
       "    .dataframe tbody tr th {\n",
       "        vertical-align: top;\n",
       "    }\n",
       "\n",
       "    .dataframe thead th {\n",
       "        text-align: right;\n",
       "    }\n",
       "</style>\n",
       "<table border=\"1\" class=\"dataframe\">\n",
       "  <thead>\n",
       "    <tr style=\"text-align: right;\">\n",
       "      <th></th>\n",
       "      <th>A</th>\n",
       "      <th>B</th>\n",
       "      <th>C</th>\n",
       "      <th>D</th>\n",
       "    </tr>\n",
       "  </thead>\n",
       "  <tbody>\n",
       "  </tbody>\n",
       "</table>\n",
       "</div>"
      ],
      "text/plain": [
       "Empty DataFrame\n",
       "Columns: [A, B, C, D]\n",
       "Index: []"
      ]
     },
     "execution_count": 37,
     "metadata": {},
     "output_type": "execute_result"
    }
   ],
   "source": [
    "import pandas as pd\n",
    "import numpy as np\n",
    "\n",
    "df = pd.DataFrame(np.random.randn(8,4),\n",
    "                  columns=['A','B','C','D'])\n",
    "\n",
    "df[3:3]"
   ]
  },
  {
   "cell_type": "code",
   "execution_count": null,
   "metadata": {},
   "outputs": [],
   "source": []
  },
  {
   "cell_type": "code",
   "execution_count": null,
   "metadata": {},
   "outputs": [],
   "source": []
  },
  {
   "cell_type": "code",
   "execution_count": null,
   "metadata": {},
   "outputs": [],
   "source": []
  },
  {
   "cell_type": "code",
   "execution_count": null,
   "metadata": {},
   "outputs": [],
   "source": []
  },
  {
   "cell_type": "code",
   "execution_count": null,
   "metadata": {},
   "outputs": [],
   "source": []
  }
 ],
 "metadata": {
  "kernelspec": {
   "display_name": "Python 3",
   "language": "python",
   "name": "python3"
  },
  "language_info": {
   "codemirror_mode": {
    "name": "ipython",
    "version": 3
   },
   "file_extension": ".py",
   "mimetype": "text/x-python",
   "name": "python",
   "nbconvert_exporter": "python",
   "pygments_lexer": "ipython3",
   "version": "3.7.3"
  }
 },
 "nbformat": 4,
 "nbformat_minor": 4
}
