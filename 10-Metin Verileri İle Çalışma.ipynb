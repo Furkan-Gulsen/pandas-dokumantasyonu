{
 "cells": [
  {
   "cell_type": "markdown",
   "metadata": {},
   "source": [
    "# PYTHON Pandas - Metin Verileri(Text Data) İle Çalışma\n",
    "Bu bölümde, dize işlemlerini temel seri/Dizinimizle tartışacağız. Sonraki bölümlerde, bu dize işlevlerini veri çerçevesine nasıl uygulayacağımızı öğreneceğiz.\n",
    "\n",
    "Pandas, dize verileri üzerinde çalışmayı kolaylaştıran bir dizi dize işlevi sağlar. En önemlisi, bu işlevler eksik/nan değerlerini yoksayar (veya hariç tutar).\n",
    "\n",
    "Neredeyse, tüm bu yöntemler Python dize işlevleri ile çalışır (bkz: https://docs.python.org/3/library/stdtypes.html#string-methods). Bu nedenle, Series nesnesini String nesnesine dönüştürür ve ardından işlemi gerçekleştirir.\n",
    "\n",
    "| Sr.No | Fonksiyon | Açıklama |\n",
    "|---|---|---|\n",
    "| 1  | lower()  | Dizeler seri/dizin için küçük harf dönüştürür. |\n",
    "| 2  | upper() | Dizi/dizin dizelerini büyük harfe dönüştürür. |\n",
    "| 3  | len()  | Dizi uzunluğunu hesaplar |\n",
    "| 4  | strip()  | Her iki taraftan da seri/dizindeki her dizeden boşluk(yeni satır dahil) şeridine yardımcı olur. |\n",
    "| 5  | split()  | Her dizeyi verilen desenle böler. |\n",
    "| 6  | cat(sep='')  | Seri / dizin öğelerini verilen ayırıcı ile birleştirir. |\n",
    "| 7  | get_dummies() | DataFrame tek sıcak kodlanmış değerlerle döndürür.|\n",
    "| 8  | contains(pattern) | Dizi içeriyorsa True döndürür |\n",
    "| 9  | replace(a,b)  | A değerini B değeriyle değiştirir. |\n",
    "| 10 | repeat(value)  | Belirtilen sayıda her öğe tekrarlar. |\n",
    "| 11 | count(pattern)  | Her öğedeki desenin görünüm sayısını döndürür. |\n",
    "| 12 | startswith(pattern) | Öğe serisi/dizini desen ile başlarsa true döndürür. |\n",
    "| 13 | endswith(pattern)  | Öğe serisi/dizini desen ile biterse true döndürür. |\n",
    "| 14 | find(pattern)  | Desenin ilk oluşumunun ilk konumunu döndürür. |\n",
    "| 15 | findall(pattern) | Desenin tüm oluşumunun bir listesini döndürür. |\n",
    "| 16 | swapcase  | Davayı alt/üst değiştirir. |\n",
    "| 17 | islower()  | Her dizedeki tüm karakterlerin seri/dizindeki küçük harf olup olmadığını kontrol eder. Boolean döndürür. |\n",
    "| 18 | islower()  | Her dizedeki tüm karakterlerin seri/dizindeki büyük harf olup olmadığını kontrol eder. Boolean döndürür. |\n",
    "| 19 | isnumeric()  | Dizi / dizindeki her dizedeki tüm karakterlerin sayısal olup olmadığını denetler. Boolean döndürür. |\n",
    "\n",
    "\n",
    "Şimdi bir dizi oluşturalım ve yukarıdaki tüm işlevlerin nasıl çalıştığını görelim."
   ]
  },
  {
   "cell_type": "code",
   "execution_count": 1,
   "metadata": {},
   "outputs": [
    {
     "data": {
      "text/plain": [
       "0    ali kemal\n",
       "1       furkan\n",
       "2       zeynep\n",
       "3         ayşe\n",
       "4          NaN\n",
       "5         1234\n",
       "6     istanbul\n",
       "dtype: object"
      ]
     },
     "execution_count": 1,
     "metadata": {},
     "output_type": "execute_result"
    }
   ],
   "source": [
    "import pandas as pd\n",
    "import numpy as np\n",
    "\n",
    "seri = pd.Series(['ali kemal', 'furkan', 'zeynep', 'ayşe', np.nan, '1234','istanbul'])\n",
    "seri"
   ]
  },
  {
   "cell_type": "markdown",
   "metadata": {},
   "source": [
    "## lower()"
   ]
  },
  {
   "cell_type": "code",
   "execution_count": 6,
   "metadata": {},
   "outputs": [
    {
     "name": "stdout",
     "output_type": "stream",
     "text": [
      "0    ali kemal\n",
      "1       furkan\n",
      "2       zeynep\n",
      "3         ayşe\n",
      "4          NaN\n",
      "5         1234\n",
      "6     istanbul\n",
      "dtype: object\n"
     ]
    }
   ],
   "source": [
    "import pandas as pd\n",
    "import numpy as np\n",
    "\n",
    "seri = pd.Series(['Ali kemal', 'Furkan', 'zeynep', 'Ayşe', np.nan, '1234','istanbul'])\n",
    "print(seri.str.lower())"
   ]
  },
  {
   "cell_type": "markdown",
   "metadata": {},
   "source": [
    "## upper()"
   ]
  },
  {
   "cell_type": "code",
   "execution_count": 7,
   "metadata": {},
   "outputs": [
    {
     "name": "stdout",
     "output_type": "stream",
     "text": [
      "0    ALI KEMAL\n",
      "1       FURKAN\n",
      "2       ZEYNEP\n",
      "3         AYŞE\n",
      "4          NaN\n",
      "5         1234\n",
      "6     ISTANBUL\n",
      "dtype: object\n"
     ]
    }
   ],
   "source": [
    "import pandas as pd\n",
    "import numpy as np\n",
    "\n",
    "seri = pd.Series(['Ali kemal', 'Furkan', 'zeynep', 'Ayşe', np.nan, '1234','istanbul'])\n",
    "print(seri.str.upper())"
   ]
  },
  {
   "cell_type": "markdown",
   "metadata": {},
   "source": [
    "## len()"
   ]
  },
  {
   "cell_type": "code",
   "execution_count": 8,
   "metadata": {},
   "outputs": [
    {
     "name": "stdout",
     "output_type": "stream",
     "text": [
      "0    9.0\n",
      "1    6.0\n",
      "2    6.0\n",
      "3    4.0\n",
      "4    NaN\n",
      "5    4.0\n",
      "6    8.0\n",
      "dtype: float64\n"
     ]
    }
   ],
   "source": [
    "import pandas as pd\n",
    "import numpy as np\n",
    "\n",
    "seri = pd.Series(['Ali kemal', 'Furkan', 'zeynep', 'Ayşe', np.nan, '1234','istanbul'])\n",
    "print(seri.str.len())"
   ]
  },
  {
   "cell_type": "markdown",
   "metadata": {},
   "source": [
    "## strip()"
   ]
  },
  {
   "cell_type": "code",
   "execution_count": 11,
   "metadata": {},
   "outputs": [
    {
     "name": "stdout",
     "output_type": "stream",
     "text": [
      "0    Ali kemal\n",
      "1       Furkan\n",
      "2       zeynep\n",
      "3         Ayşe\n",
      "4          NaN\n",
      "5         1234\n",
      "6     istanbul\n",
      "dtype: object\n"
     ]
    }
   ],
   "source": [
    "import pandas as pd\n",
    "import numpy as np\n",
    "\n",
    "seri = pd.Series(['Ali kemal', 'Furkan', 'zeynep', 'Ayşe', np.nan, '1234','istanbul'])\n",
    "print(seri.str.strip())"
   ]
  },
  {
   "cell_type": "markdown",
   "metadata": {},
   "source": [
    "## split(pattern)"
   ]
  },
  {
   "cell_type": "code",
   "execution_count": 14,
   "metadata": {},
   "outputs": [
    {
     "name": "stdout",
     "output_type": "stream",
     "text": [
      "0    [Ali, kemal]\n",
      "1        [Furkan]\n",
      "2        [zeynep]\n",
      "3          [Ayşe]\n",
      "4             NaN\n",
      "5          [1234]\n",
      "6      [istanbul]\n",
      "dtype: object\n"
     ]
    }
   ],
   "source": [
    "import pandas as pd\n",
    "import numpy as np\n",
    "\n",
    "seri = pd.Series(['Ali kemal', 'Furkan', 'zeynep', 'Ayşe', np.nan, '1234','istanbul'])\n",
    "print(seri.str.split(' '))"
   ]
  },
  {
   "cell_type": "markdown",
   "metadata": {},
   "source": [
    "## cat(sep=pattern)"
   ]
  },
  {
   "cell_type": "code",
   "execution_count": 19,
   "metadata": {},
   "outputs": [
    {
     "name": "stdout",
     "output_type": "stream",
     "text": [
      "Ali kemal---Furkan---zeynep---Ayşe---1234---istanbul\n"
     ]
    }
   ],
   "source": [
    "import pandas as pd\n",
    "import numpy as np\n",
    "\n",
    "seri = pd.Series(['Ali kemal', 'Furkan', 'zeynep', 'Ayşe', np.nan, '1234','istanbul'])\n",
    "print(seri.str.cat(sep='---'))"
   ]
  },
  {
   "cell_type": "markdown",
   "metadata": {},
   "source": [
    "## get_dummies()"
   ]
  },
  {
   "cell_type": "code",
   "execution_count": 2,
   "metadata": {},
   "outputs": [
    {
     "data": {
      "text/html": [
       "<div>\n",
       "<style scoped>\n",
       "    .dataframe tbody tr th:only-of-type {\n",
       "        vertical-align: middle;\n",
       "    }\n",
       "\n",
       "    .dataframe tbody tr th {\n",
       "        vertical-align: top;\n",
       "    }\n",
       "\n",
       "    .dataframe thead th {\n",
       "        text-align: right;\n",
       "    }\n",
       "</style>\n",
       "<table border=\"1\" class=\"dataframe\">\n",
       "  <thead>\n",
       "    <tr style=\"text-align: right;\">\n",
       "      <th></th>\n",
       "      <th>1234</th>\n",
       "      <th>Ali kemal</th>\n",
       "      <th>Ayşe</th>\n",
       "      <th>Furkan</th>\n",
       "      <th>istanbul</th>\n",
       "      <th>zeynep</th>\n",
       "    </tr>\n",
       "  </thead>\n",
       "  <tbody>\n",
       "    <tr>\n",
       "      <th>0</th>\n",
       "      <td>0</td>\n",
       "      <td>1</td>\n",
       "      <td>0</td>\n",
       "      <td>0</td>\n",
       "      <td>0</td>\n",
       "      <td>0</td>\n",
       "    </tr>\n",
       "    <tr>\n",
       "      <th>1</th>\n",
       "      <td>0</td>\n",
       "      <td>0</td>\n",
       "      <td>0</td>\n",
       "      <td>1</td>\n",
       "      <td>0</td>\n",
       "      <td>0</td>\n",
       "    </tr>\n",
       "    <tr>\n",
       "      <th>2</th>\n",
       "      <td>0</td>\n",
       "      <td>0</td>\n",
       "      <td>0</td>\n",
       "      <td>0</td>\n",
       "      <td>0</td>\n",
       "      <td>1</td>\n",
       "    </tr>\n",
       "    <tr>\n",
       "      <th>3</th>\n",
       "      <td>0</td>\n",
       "      <td>0</td>\n",
       "      <td>1</td>\n",
       "      <td>0</td>\n",
       "      <td>0</td>\n",
       "      <td>0</td>\n",
       "    </tr>\n",
       "    <tr>\n",
       "      <th>4</th>\n",
       "      <td>0</td>\n",
       "      <td>0</td>\n",
       "      <td>0</td>\n",
       "      <td>0</td>\n",
       "      <td>0</td>\n",
       "      <td>0</td>\n",
       "    </tr>\n",
       "    <tr>\n",
       "      <th>5</th>\n",
       "      <td>1</td>\n",
       "      <td>0</td>\n",
       "      <td>0</td>\n",
       "      <td>0</td>\n",
       "      <td>0</td>\n",
       "      <td>0</td>\n",
       "    </tr>\n",
       "    <tr>\n",
       "      <th>6</th>\n",
       "      <td>0</td>\n",
       "      <td>0</td>\n",
       "      <td>0</td>\n",
       "      <td>0</td>\n",
       "      <td>1</td>\n",
       "      <td>0</td>\n",
       "    </tr>\n",
       "  </tbody>\n",
       "</table>\n",
       "</div>"
      ],
      "text/plain": [
       "   1234  Ali kemal  Ayşe  Furkan  istanbul  zeynep\n",
       "0     0          1     0       0         0       0\n",
       "1     0          0     0       1         0       0\n",
       "2     0          0     0       0         0       1\n",
       "3     0          0     1       0         0       0\n",
       "4     0          0     0       0         0       0\n",
       "5     1          0     0       0         0       0\n",
       "6     0          0     0       0         1       0"
      ]
     },
     "execution_count": 2,
     "metadata": {},
     "output_type": "execute_result"
    }
   ],
   "source": [
    "import pandas as pd\n",
    "import numpy as np\n",
    "\n",
    "seri = pd.Series(['Ali kemal', 'Furkan', 'zeynep', 'Ayşe', np.nan, '1234','istanbul'])\n",
    "seri.str.get_dummies()"
   ]
  },
  {
   "cell_type": "markdown",
   "metadata": {},
   "source": [
    "## contains ()"
   ]
  },
  {
   "cell_type": "code",
   "execution_count": 3,
   "metadata": {},
   "outputs": [
    {
     "data": {
      "text/plain": [
       "0     True\n",
       "1     True\n",
       "2    False\n",
       "3    False\n",
       "4      NaN\n",
       "5    False\n",
       "6    False\n",
       "dtype: object"
      ]
     },
     "execution_count": 3,
     "metadata": {},
     "output_type": "execute_result"
    }
   ],
   "source": [
    "import pandas as pd\n",
    "import numpy as np\n",
    "\n",
    "seri = pd.Series(['Ali kemal', 'Furkan ', 'zeynep', 'Ayşe', np.nan, '1234','istanbul'])\n",
    "seri.str.contains(' ')"
   ]
  },
  {
   "cell_type": "markdown",
   "metadata": {},
   "source": [
    "## replace(a,b)"
   ]
  },
  {
   "cell_type": "code",
   "execution_count": 29,
   "metadata": {},
   "outputs": [
    {
     "name": "stdout",
     "output_type": "stream",
     "text": [
      "0    Ali kemal\n",
      "1      Furkan \n",
      "2       zeynep\n",
      "3         Ayşe\n",
      "4          NaN\n",
      "5         5234\n",
      "6     istanbul\n",
      "dtype: object\n"
     ]
    }
   ],
   "source": [
    "import pandas as pd\n",
    "import numpy as np\n",
    "\n",
    "seri = pd.Series(['Ali kemal', 'Furkan ', 'zeynep', 'Ayşe', np.nan, '1234','istanbul'])\n",
    "print(seri.str.replace('1','5'))"
   ]
  },
  {
   "cell_type": "markdown",
   "metadata": {},
   "source": [
    "## repeat(value)"
   ]
  },
  {
   "cell_type": "code",
   "execution_count": 32,
   "metadata": {},
   "outputs": [
    {
     "name": "stdout",
     "output_type": "stream",
     "text": [
      "0    Ali kemalAli kemal\n",
      "1        Furkan Furkan \n",
      "2          zeynepzeynep\n",
      "3              AyşeAyşe\n",
      "4                   NaN\n",
      "5              12341234\n",
      "6      istanbulistanbul\n",
      "dtype: object\n"
     ]
    }
   ],
   "source": [
    "import pandas as pd\n",
    "import numpy as np\n",
    "\n",
    "seri = pd.Series(['Ali kemal', 'Furkan ', 'zeynep', 'Ayşe', np.nan, '1234','istanbul'])\n",
    "print(seri.str.repeat(2))"
   ]
  },
  {
   "cell_type": "markdown",
   "metadata": {},
   "source": [
    "## count(pattern)"
   ]
  },
  {
   "cell_type": "code",
   "execution_count": 34,
   "metadata": {},
   "outputs": [
    {
     "name": "stdout",
     "output_type": "stream",
     "text": [
      "0    1.0\n",
      "1    0.0\n",
      "2    2.0\n",
      "3    1.0\n",
      "4    NaN\n",
      "5    0.0\n",
      "6    0.0\n",
      "dtype: float64\n"
     ]
    }
   ],
   "source": [
    "import pandas as pd\n",
    "import numpy as np\n",
    "\n",
    "seri = pd.Series(['Ali kemal', 'Furkan ', 'zeynep', 'Ayşe', np.nan, '1234','istanbul'])\n",
    "print(seri.str.count('e'))"
   ]
  },
  {
   "cell_type": "markdown",
   "metadata": {},
   "source": [
    "## startswith(pattern)"
   ]
  },
  {
   "cell_type": "code",
   "execution_count": 36,
   "metadata": {},
   "outputs": [
    {
     "name": "stdout",
     "output_type": "stream",
     "text": [
      "0     True\n",
      "1    False\n",
      "2    False\n",
      "3     True\n",
      "4      NaN\n",
      "5    False\n",
      "6    False\n",
      "dtype: object\n"
     ]
    }
   ],
   "source": [
    "import pandas as pd\n",
    "import numpy as np\n",
    "\n",
    "seri = pd.Series(['Ali kemal', 'Furkan ', 'zeynep', 'Ayşe', np.nan, '1234','istanbul'])\n",
    "print(seri.str.startswith('A'))"
   ]
  },
  {
   "cell_type": "markdown",
   "metadata": {},
   "source": [
    "## endswith(pattern)"
   ]
  },
  {
   "cell_type": "code",
   "execution_count": 39,
   "metadata": {},
   "outputs": [
    {
     "name": "stdout",
     "output_type": "stream",
     "text": [
      "0     True\n",
      "1    False\n",
      "2    False\n",
      "3    False\n",
      "4      NaN\n",
      "5    False\n",
      "6     True\n",
      "dtype: object\n"
     ]
    }
   ],
   "source": [
    "import pandas as pd\n",
    "import numpy as np\n",
    "\n",
    "seri = pd.Series(['Ali kemal', 'Furkan ', 'zeynep', 'Ayşe', np.nan, '1234','istanbul'])\n",
    "print(seri.str.endswith('l'))"
   ]
  },
  {
   "cell_type": "markdown",
   "metadata": {},
   "source": [
    "## find(pattern)"
   ]
  },
  {
   "cell_type": "code",
   "execution_count": 42,
   "metadata": {},
   "outputs": [
    {
     "name": "stdout",
     "output_type": "stream",
     "text": [
      "0    5.0\n",
      "1   -1.0\n",
      "2    1.0\n",
      "3    3.0\n",
      "4    NaN\n",
      "5   -1.0\n",
      "6   -1.0\n",
      "dtype: float64\n"
     ]
    }
   ],
   "source": [
    "import pandas as pd\n",
    "import numpy as np\n",
    "\n",
    "seri = pd.Series(['Ali kemal', 'Furkan ', 'zeynep', 'Ayşe', np.nan, '1234','istanbul'])\n",
    "print(seri.str.find('e'))\n",
    "## -1: böyle bir değer yok"
   ]
  },
  {
   "cell_type": "markdown",
   "metadata": {},
   "source": [
    "## findall(pattern)"
   ]
  },
  {
   "cell_type": "code",
   "execution_count": 43,
   "metadata": {},
   "outputs": [
    {
     "name": "stdout",
     "output_type": "stream",
     "text": [
      "0       [e]\n",
      "1        []\n",
      "2    [e, e]\n",
      "3       [e]\n",
      "4       NaN\n",
      "5        []\n",
      "6        []\n",
      "dtype: object\n"
     ]
    }
   ],
   "source": [
    "import pandas as pd\n",
    "import numpy as np\n",
    "\n",
    "seri = pd.Series(['Ali kemal', 'Furkan ', 'zeynep', 'Ayşe', np.nan, '1234','istanbul'])\n",
    "print(seri.str.findall('e'))"
   ]
  },
  {
   "cell_type": "markdown",
   "metadata": {},
   "source": [
    "## swapcase()"
   ]
  },
  {
   "cell_type": "code",
   "execution_count": 44,
   "metadata": {},
   "outputs": [
    {
     "name": "stdout",
     "output_type": "stream",
     "text": [
      "0    aLI KEMAL\n",
      "1      fURKAN \n",
      "2       ZEYNEP\n",
      "3         aYŞE\n",
      "4          NaN\n",
      "5         1234\n",
      "6     ISTANBUL\n",
      "dtype: object\n"
     ]
    }
   ],
   "source": [
    "import pandas as pd\n",
    "import numpy as np\n",
    "\n",
    "seri = pd.Series(['Ali kemal', 'Furkan ', 'zeynep', 'Ayşe', np.nan, '1234','istanbul'])\n",
    "print(seri.str.swapcase())"
   ]
  },
  {
   "cell_type": "markdown",
   "metadata": {},
   "source": [
    "## islower()"
   ]
  },
  {
   "cell_type": "code",
   "execution_count": 45,
   "metadata": {},
   "outputs": [
    {
     "name": "stdout",
     "output_type": "stream",
     "text": [
      "0    False\n",
      "1    False\n",
      "2     True\n",
      "3    False\n",
      "4      NaN\n",
      "5    False\n",
      "6     True\n",
      "dtype: object\n"
     ]
    }
   ],
   "source": [
    "import pandas as pd\n",
    "import numpy as np\n",
    "\n",
    "seri = pd.Series(['Ali kemal', 'Furkan ', 'zeynep', 'Ayşe', np.nan, '1234','istanbul'])\n",
    "print(seri.str.islower())"
   ]
  },
  {
   "cell_type": "markdown",
   "metadata": {},
   "source": [
    "## isupper()"
   ]
  },
  {
   "cell_type": "code",
   "execution_count": 46,
   "metadata": {},
   "outputs": [
    {
     "name": "stdout",
     "output_type": "stream",
     "text": [
      "0    False\n",
      "1    False\n",
      "2    False\n",
      "3    False\n",
      "4      NaN\n",
      "5    False\n",
      "6    False\n",
      "dtype: object\n"
     ]
    }
   ],
   "source": [
    "import pandas as pd\n",
    "import numpy as np\n",
    "\n",
    "seri = pd.Series(['Ali kemal', 'Furkan ', 'zeynep', 'Ayşe', np.nan, '1234','istanbul'])\n",
    "print(seri.str.isupper())"
   ]
  },
  {
   "cell_type": "markdown",
   "metadata": {},
   "source": [
    "## isnumeric()"
   ]
  },
  {
   "cell_type": "code",
   "execution_count": 47,
   "metadata": {},
   "outputs": [
    {
     "name": "stdout",
     "output_type": "stream",
     "text": [
      "0    False\n",
      "1    False\n",
      "2    False\n",
      "3    False\n",
      "4      NaN\n",
      "5     True\n",
      "6    False\n",
      "dtype: object\n"
     ]
    }
   ],
   "source": [
    "import pandas as pd\n",
    "import numpy as np\n",
    "\n",
    "seri = pd.Series(['Ali kemal', 'Furkan ', 'zeynep', 'Ayşe', np.nan, '1234','istanbul'])\n",
    "print(seri.str.isnumeric())"
   ]
  },
  {
   "cell_type": "code",
   "execution_count": null,
   "metadata": {},
   "outputs": [],
   "source": []
  },
  {
   "cell_type": "code",
   "execution_count": null,
   "metadata": {},
   "outputs": [],
   "source": []
  }
 ],
 "metadata": {
  "kernelspec": {
   "display_name": "Python 3",
   "language": "python",
   "name": "python3"
  },
  "language_info": {
   "codemirror_mode": {
    "name": "ipython",
    "version": 3
   },
   "file_extension": ".py",
   "mimetype": "text/x-python",
   "name": "python",
   "nbconvert_exporter": "python",
   "pygments_lexer": "ipython3",
   "version": "3.7.3"
  }
 },
 "nbformat": 4,
 "nbformat_minor": 4
}
