{
 "cells": [
  {
   "cell_type": "markdown",
   "metadata": {},
   "source": [
    "# PYTHON Pandas - Yenileme\n",
    "Pandas nesneler üzerinde temel yineleme davranışı türüne bağlıdır. Bir dizi üzerinde yineleme yaparken, dizi benzeri olarak kabul edilir ve temel yineleme değerleri üretir. DataFrame ve Panel gibi diğer veri yapıları, nesnelerin anahtarları üzerinde yineleme dict benzeri kuralı izler.\n",
    "temel yineleme üretir:\n",
    "- Series: values(değerler)\n",
    "- DataFrame: columns labels(sütun etiketleri)\n",
    "- Panel: Item labels(ürün etiketleri)\n",
    "\n",
    "## DataFrame Yenileme\n",
    "Bir DataFrame yinelemek sütun adlarını verir. Bunu anlamak için aşağıdaki örneği ele alalım."
   ]
  },
  {
   "cell_type": "code",
   "execution_count": 1,
   "metadata": {},
   "outputs": [
    {
     "name": "stdout",
     "output_type": "stream",
     "text": [
      "A\n",
      "x\n",
      "y\n",
      "C\n",
      "D\n"
     ]
    }
   ],
   "source": [
    "import pandas as pd\n",
    "import numpy as np\n",
    " \n",
    "N=20\n",
    "df = pd.DataFrame({\n",
    "   'A': pd.date_range(start='2016-01-01',periods=N,freq='D'),\n",
    "   'x': np.linspace(0,stop=N-1,num=N),\n",
    "   'y': np.random.rand(N),\n",
    "   'C': np.random.choice(['Low','Medium','High'],N).tolist(),\n",
    "   'D': np.random.normal(100, 10, size=(N)).tolist()\n",
    "   })\n",
    "\n",
    "for col in df:\n",
    "   print(col)"
   ]
  },
  {
   "cell_type": "markdown",
   "metadata": {},
   "source": [
    "DataFrame satırlarını yinelemek için aşağıdaki işlevleri kullanabiliriz.\n",
    "- iteritems() : (anahtar,değer) çiftleri üzerinde yineleme yapmak için\n",
    "- iterrows()  : satırları (dizin,seri) çiftleri olarak yinelemek için\n",
    "- itertuples(): satırların üzerinde namedtuples olarak yinelemek için\n",
    "\n",
    "### iteritems()\n",
    "Her sütunun üzerinde anahtar, anahtar olarak etiket ve bir seri nesnesi olarak sütun değeri ile değer çifti olarak yinelenir."
   ]
  },
  {
   "cell_type": "code",
   "execution_count": 8,
   "metadata": {},
   "outputs": [
    {
     "name": "stdout",
     "output_type": "stream",
     "text": [
      "col1 0   -0.133313\n",
      "1    1.710906\n",
      "2   -0.477559\n",
      "3    0.512374\n",
      "Name: col1, dtype: float64\n",
      "--------------------------\n",
      "col2 0    0.046859\n",
      "1   -0.470868\n",
      "2    0.104145\n",
      "3   -0.688121\n",
      "Name: col2, dtype: float64\n",
      "--------------------------\n",
      "col3 0    0.913105\n",
      "1    1.713413\n",
      "2    0.232798\n",
      "3    0.097052\n",
      "Name: col3, dtype: float64\n",
      "--------------------------\n"
     ]
    }
   ],
   "source": [
    "import pandas as pd\n",
    "import numpy as np\n",
    " \n",
    "df = pd.DataFrame(np.random.randn(4,3),columns=['col1','col2','col3'])\n",
    "for key,value in df.iteritems():\n",
    "   print(key,value)\n",
    "   print('--------------------------')"
   ]
  },
  {
   "cell_type": "markdown",
   "metadata": {},
   "source": [
    "Gözlemleyin, her sütun bir seride bir anahtar değer çifti olarak ayrı ayrı yinelenir.\n",
    "\n",
    "### iterrows()\n",
    "ıterrows (), her satırdaki verileri içeren bir dizi ile birlikte her dizin değerini veren yineleyiciyi döndürür."
   ]
  },
  {
   "cell_type": "code",
   "execution_count": 9,
   "metadata": {},
   "outputs": [
    {
     "name": "stdout",
     "output_type": "stream",
     "text": [
      "0 col1    1.044478\n",
      "col2   -0.017295\n",
      "col3   -0.913892\n",
      "Name: 0, dtype: float64\n",
      "--------------------------\n",
      "1 col1    0.312612\n",
      "col2    0.373549\n",
      "col3   -0.410541\n",
      "Name: 1, dtype: float64\n",
      "--------------------------\n",
      "2 col1    1.359357\n",
      "col2   -0.793808\n",
      "col3   -0.204954\n",
      "Name: 2, dtype: float64\n",
      "--------------------------\n",
      "3 col1   -0.874354\n",
      "col2   -0.006749\n",
      "col3    0.982846\n",
      "Name: 3, dtype: float64\n",
      "--------------------------\n"
     ]
    }
   ],
   "source": [
    "import pandas as pd\n",
    "import numpy as np\n",
    "\n",
    "df = pd.DataFrame(np.random.randn(4,3),columns = ['col1','col2','col3'])\n",
    "for row_index,row in df.iterrows():\n",
    "   print(row_index,row)\n",
    "   print('--------------------------')"
   ]
  },
  {
   "cell_type": "markdown",
   "metadata": {},
   "source": [
    "Iterrows () satırların üzerinde yinelediği için, veri türünü satır boyunca korumaz. 0,1,2 satır indeksleri ve col1, col2, col3 sütun indeksleridir.\n",
    "\n",
    "### itertuples()\n",
    "ıtertuples() yöntemi, dataframe'deki her satır için adlandırılmış bir tanımlama grubu oluşturan bir yineleyici döndürür. Dizenin ilk öğesi satırın karşılık gelen dizin değeri olurken, kalan değerler satır değerleridir."
   ]
  },
  {
   "cell_type": "code",
   "execution_count": 10,
   "metadata": {},
   "outputs": [
    {
     "name": "stdout",
     "output_type": "stream",
     "text": [
      "Pandas(Index=0, col1=1.0143173273672406, col2=0.04783656533136035, col3=1.7073164648808785)\n",
      "Pandas(Index=1, col1=-0.27083535796141733, col2=0.6643008009140688, col3=1.1902990092930497)\n",
      "Pandas(Index=2, col1=-0.908381539015399, col2=0.01874406178219626, col3=-0.8798245023983314)\n",
      "Pandas(Index=3, col1=-0.14830784390349147, col2=-0.6040251088702244, col3=-0.03068245741241976)\n"
     ]
    }
   ],
   "source": [
    "import pandas as pd\n",
    "import numpy as np\n",
    "\n",
    "df = pd.DataFrame(np.random.randn(4,3),columns = ['col1','col2','col3'])\n",
    "for row in df.itertuples():\n",
    "    print(row)"
   ]
  },
  {
   "cell_type": "markdown",
   "metadata": {},
   "source": [
    "**Not:**\n",
    "Yineleme sırasında herhangi bir nesneyi değiştirmeye çalışmayın. Yineleme okumak içindir ve yineleyici orijinal nesnenin (bir görünüm) bir kopyasını döndürür, böylece değişiklikler orijinal nesneye yansıtılmaz."
   ]
  },
  {
   "cell_type": "code",
   "execution_count": 1,
   "metadata": {},
   "outputs": [
    {
     "data": {
      "text/html": [
       "<div>\n",
       "<style scoped>\n",
       "    .dataframe tbody tr th:only-of-type {\n",
       "        vertical-align: middle;\n",
       "    }\n",
       "\n",
       "    .dataframe tbody tr th {\n",
       "        vertical-align: top;\n",
       "    }\n",
       "\n",
       "    .dataframe thead th {\n",
       "        text-align: right;\n",
       "    }\n",
       "</style>\n",
       "<table border=\"1\" class=\"dataframe\">\n",
       "  <thead>\n",
       "    <tr style=\"text-align: right;\">\n",
       "      <th></th>\n",
       "      <th>col1</th>\n",
       "      <th>col2</th>\n",
       "      <th>col3</th>\n",
       "    </tr>\n",
       "  </thead>\n",
       "  <tbody>\n",
       "    <tr>\n",
       "      <th>0</th>\n",
       "      <td>0.540734</td>\n",
       "      <td>0.885360</td>\n",
       "      <td>-1.335083</td>\n",
       "    </tr>\n",
       "    <tr>\n",
       "      <th>1</th>\n",
       "      <td>-1.711908</td>\n",
       "      <td>-0.860602</td>\n",
       "      <td>-0.644942</td>\n",
       "    </tr>\n",
       "    <tr>\n",
       "      <th>2</th>\n",
       "      <td>-1.621870</td>\n",
       "      <td>0.377379</td>\n",
       "      <td>0.387724</td>\n",
       "    </tr>\n",
       "    <tr>\n",
       "      <th>3</th>\n",
       "      <td>-0.372327</td>\n",
       "      <td>-0.630585</td>\n",
       "      <td>-0.729972</td>\n",
       "    </tr>\n",
       "  </tbody>\n",
       "</table>\n",
       "</div>"
      ],
      "text/plain": [
       "       col1      col2      col3\n",
       "0  0.540734  0.885360 -1.335083\n",
       "1 -1.711908 -0.860602 -0.644942\n",
       "2 -1.621870  0.377379  0.387724\n",
       "3 -0.372327 -0.630585 -0.729972"
      ]
     },
     "execution_count": 1,
     "metadata": {},
     "output_type": "execute_result"
    }
   ],
   "source": [
    "import pandas as pd\n",
    "import numpy as np\n",
    "\n",
    "df = pd.DataFrame(np.random.randn(4,3),columns = ['col1','col2','col3'])\n",
    "\n",
    "for index, row in df.iterrows():\n",
    "   row['a'] = 10\n",
    "df"
   ]
  },
  {
   "cell_type": "markdown",
   "metadata": {},
   "source": [
    "Gözlemleyin, hiçbir değişiklik yansıtılmadı."
   ]
  },
  {
   "cell_type": "code",
   "execution_count": null,
   "metadata": {},
   "outputs": [],
   "source": []
  },
  {
   "cell_type": "code",
   "execution_count": null,
   "metadata": {},
   "outputs": [],
   "source": []
  }
 ],
 "metadata": {
  "kernelspec": {
   "display_name": "Python 3",
   "language": "python",
   "name": "python3"
  },
  "language_info": {
   "codemirror_mode": {
    "name": "ipython",
    "version": 3
   },
   "file_extension": ".py",
   "mimetype": "text/x-python",
   "name": "python",
   "nbconvert_exporter": "python",
   "pygments_lexer": "ipython3",
   "version": "3.7.3"
  }
 },
 "nbformat": 4,
 "nbformat_minor": 4
}
