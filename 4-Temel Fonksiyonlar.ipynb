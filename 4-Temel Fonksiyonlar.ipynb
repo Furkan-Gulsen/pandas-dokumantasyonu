{
 "cells": [
  {
   "cell_type": "markdown",
   "metadata": {},
   "source": [
    "# PYTHON Pandas Temel Fonksiyonlar\n",
    "Şimdiye kadar, üç pandas veri yapısı ve bunları nasıl oluşturulacağını öğrendik. Gerçek zamanlı veri işlemedeki önemi nedeniyle şu an dataframe nesnelerine odaklanacağız ve diğer birkaç veri yapısını değineceğiz.\n",
    "\n",
    "## Serilerin Temel Fonksiyonları\n",
    "- axes     : Satır ekseni etiketlerinin listesini döndürür.\n",
    "- dtype    : dtype nesnesi döndürür.\n",
    "- empty    : Seri boş işe false döndürür.\n",
    "- ndim     : Temel alınan verilerin boyutlarının sayısını tanım 1 olarak döndürür.\n",
    "- size     : Temel veri öğeleri sayısını döndürür.\n",
    "- values   : Seriyi ndarray olarak döndürür.\n",
    "- head     : İlk n satırlarını döndürür.\n",
    "- tail     : Son n satırlarını döndürür.\n",
    "Şimdi yukarıdaki yapıları örnekler ile pekiştirelim.\n",
    "\n",
    "**Örnek 1**"
   ]
  },
  {
   "cell_type": "code",
   "execution_count": 2,
   "metadata": {},
   "outputs": [
    {
     "name": "stdout",
     "output_type": "stream",
     "text": [
      "0    1.373370\n",
      "1   -0.960120\n",
      "2    0.143523\n",
      "3    0.553266\n",
      "dtype: float64\n"
     ]
    }
   ],
   "source": [
    "import pandas as pd\n",
    "import numpy as np\n",
    "\n",
    "s = pd.Series(np.random.randn(4))\n",
    "print(s)"
   ]
  },
  {
   "cell_type": "markdown",
   "metadata": {},
   "source": [
    "**Örnek 2 (axes)** \n",
    "Satır ekseni etiketlerinin listesini döndürür."
   ]
  },
  {
   "cell_type": "code",
   "execution_count": 4,
   "metadata": {},
   "outputs": [
    {
     "name": "stdout",
     "output_type": "stream",
     "text": [
      "[RangeIndex(start=0, stop=4, step=1)]\n"
     ]
    }
   ],
   "source": [
    "import pandas as pd\n",
    "import numpy as np\n",
    "\n",
    "s = pd.Series(np.random.randn(4))\n",
    "print(s.axes)\n",
    "# start: başlangıç\n",
    "# end  : son\n",
    "# step : artış sayısı"
   ]
  },
  {
   "cell_type": "markdown",
   "metadata": {},
   "source": [
    "**Örnek 3(empty)**\n",
    "dtype nesnesi döndürür."
   ]
  },
  {
   "cell_type": "code",
   "execution_count": 1,
   "metadata": {},
   "outputs": [
    {
     "name": "stdout",
     "output_type": "stream",
     "text": [
      "False\n"
     ]
    }
   ],
   "source": [
    "import pandas as pd\n",
    "\n",
    "import numpy as np\n",
    "\n",
    "s = pd.Series(np.random.randn(4))\n",
    "print(s.empty)\n",
    "# boş ise false\n",
    "# boş değilse true"
   ]
  },
  {
   "cell_type": "markdown",
   "metadata": {},
   "source": [
    "**Örnek 4(ndim)** \n",
    "Temel alınan verilerin boyutlarının sayısını tanım 1 olarak döndürür."
   ]
  },
  {
   "cell_type": "code",
   "execution_count": 16,
   "metadata": {},
   "outputs": [
    {
     "name": "stdout",
     "output_type": "stream",
     "text": [
      "1\n"
     ]
    }
   ],
   "source": [
    "import pandas as pd\n",
    "import numpy as np\n",
    "\n",
    "s = pd.Series(np.random.randn(4))\n",
    "print(s.ndim)"
   ]
  },
  {
   "cell_type": "markdown",
   "metadata": {},
   "source": [
    "**Örnek 5(size)**\n",
    "Temel veri öğeleri sayısını döndürür."
   ]
  },
  {
   "cell_type": "code",
   "execution_count": 19,
   "metadata": {},
   "outputs": [
    {
     "name": "stdout",
     "output_type": "stream",
     "text": [
      "4\n"
     ]
    }
   ],
   "source": [
    "import pandas as pd\n",
    "import numpy as np\n",
    "\n",
    "s = pd.Series(np.random.randn(4))\n",
    "print(s.size)"
   ]
  },
  {
   "cell_type": "markdown",
   "metadata": {},
   "source": [
    "**Örnek 6(values)**\n",
    " Seriyi ndarray olarak döndürür."
   ]
  },
  {
   "cell_type": "code",
   "execution_count": 21,
   "metadata": {},
   "outputs": [
    {
     "name": "stdout",
     "output_type": "stream",
     "text": [
      "[0.22313449 0.40836713 1.72190058 0.84874151]\n"
     ]
    }
   ],
   "source": [
    "import pandas as pd\n",
    "import numpy as np\n",
    "\n",
    "s = pd.Series(np.random.randn(4))\n",
    "print(s.values)"
   ]
  },
  {
   "cell_type": "markdown",
   "metadata": {},
   "source": [
    "**Örnek 7(head)**\n",
    "İlk n satırlarını döndürür."
   ]
  },
  {
   "cell_type": "code",
   "execution_count": 49,
   "metadata": {},
   "outputs": [
    {
     "name": "stdout",
     "output_type": "stream",
     "text": [
      "0    0.405320\n",
      "1    2.096544\n",
      "dtype: float64\n"
     ]
    }
   ],
   "source": [
    "import pandas as pd\n",
    "import numpy as np\n",
    "\n",
    "s = pd.Series(np.random.randn(4))\n",
    "print(s.head(2))"
   ]
  },
  {
   "cell_type": "markdown",
   "metadata": {},
   "source": [
    "**Örnek 8(tail)**\n",
    "Son n satırlarını döndürür."
   ]
  },
  {
   "cell_type": "code",
   "execution_count": 23,
   "metadata": {},
   "outputs": [
    {
     "name": "stdout",
     "output_type": "stream",
     "text": [
      "2    1.790909\n",
      "3   -1.439368\n",
      "dtype: float64\n"
     ]
    }
   ],
   "source": [
    "import pandas as pd\n",
    "import numpy as np\n",
    "\n",
    "s = pd.Series(np.random.randn(4))\n",
    "print(s.tail(2))"
   ]
  },
  {
   "cell_type": "markdown",
   "metadata": {},
   "source": [
    "# PYTHON Pandas Temel Fonksiyonlar\n",
    "Şimdi DataFrame temel işlevselliğinin ne olduğunu anladık. Aşağıdaki tablolarda, önemli öznitelikleri veya DataFrame temel işlevlerinde yardımcı olan yöntemleri listeli.\n",
    "\n",
    "## Serilerin Temel Fonksiyonları\n",
    "- T        : Satırları ve sütunları Transposesi.\n",
    "- axes     : satır ekseni etiketleri ve sütun ekseni etiketleri içeren bir liste döndürür.\n",
    "- dtype    : dtype nesnesi döndürür.\n",
    "- empty    : DataFrame boş işe false döndürür.\n",
    "- ndim     : Eksen sayısı / dizi boyutu.\n",
    "- shape    : DataFrame boyutunu temsil eden bir tanımlama grubu döndürür.\n",
    "- size     : Ndframe öğe sayısını döndürür.\n",
    "- values   : Ndframe'i numpy olarak döndürür.\n",
    "- head     : İlk n satırlarını döndürür.\n",
    "- tail     : Son n satırlarını döndürür.\n",
    "\n",
    "Şimdi aynı şekilde yukardaki yapılara örnekler vererek konuyu pekiştirelim."
   ]
  },
  {
   "cell_type": "markdown",
   "metadata": {},
   "source": [
    "**Örnek 1**"
   ]
  },
  {
   "cell_type": "code",
   "execution_count": 1,
   "metadata": {},
   "outputs": [
    {
     "data": {
      "text/html": [
       "<div>\n",
       "<style scoped>\n",
       "    .dataframe tbody tr th:only-of-type {\n",
       "        vertical-align: middle;\n",
       "    }\n",
       "\n",
       "    .dataframe tbody tr th {\n",
       "        vertical-align: top;\n",
       "    }\n",
       "\n",
       "    .dataframe thead th {\n",
       "        text-align: right;\n",
       "    }\n",
       "</style>\n",
       "<table border=\"1\" class=\"dataframe\">\n",
       "  <thead>\n",
       "    <tr style=\"text-align: right;\">\n",
       "      <th></th>\n",
       "      <th>Ad</th>\n",
       "      <th>Yaş</th>\n",
       "      <th>Meslek</th>\n",
       "    </tr>\n",
       "  </thead>\n",
       "  <tbody>\n",
       "    <tr>\n",
       "      <th>0</th>\n",
       "      <td>Furkan</td>\n",
       "      <td>21</td>\n",
       "      <td>mühendis</td>\n",
       "    </tr>\n",
       "    <tr>\n",
       "      <th>1</th>\n",
       "      <td>Kemal</td>\n",
       "      <td>25</td>\n",
       "      <td>doktor</td>\n",
       "    </tr>\n",
       "    <tr>\n",
       "      <th>2</th>\n",
       "      <td>Osman</td>\n",
       "      <td>30</td>\n",
       "      <td>polis</td>\n",
       "    </tr>\n",
       "    <tr>\n",
       "      <th>3</th>\n",
       "      <td>Zeynep</td>\n",
       "      <td>24</td>\n",
       "      <td>mimar</td>\n",
       "    </tr>\n",
       "    <tr>\n",
       "      <th>4</th>\n",
       "      <td>Fatma</td>\n",
       "      <td>28</td>\n",
       "      <td>avukat</td>\n",
       "    </tr>\n",
       "    <tr>\n",
       "      <th>5</th>\n",
       "      <td>Buse</td>\n",
       "      <td>26</td>\n",
       "      <td>öğretmen</td>\n",
       "    </tr>\n",
       "  </tbody>\n",
       "</table>\n",
       "</div>"
      ],
      "text/plain": [
       "       Ad  Yaş    Meslek\n",
       "0  Furkan   21  mühendis\n",
       "1   Kemal   25    doktor\n",
       "2   Osman   30     polis\n",
       "3  Zeynep   24     mimar\n",
       "4   Fatma   28    avukat\n",
       "5    Buse   26  öğretmen"
      ]
     },
     "execution_count": 1,
     "metadata": {},
     "output_type": "execute_result"
    }
   ],
   "source": [
    "import pandas as pd\n",
    "import numpy as np\n",
    "\n",
    "# Series yardımıyla bir dict oluşturalım\n",
    "data = {\n",
    "    'Ad': pd.Series(['Furkan','Kemal','Osman','Zeynep','Fatma','Buse']),\n",
    "    'Yaş': pd.Series([21,25,30,24,28,26]),\n",
    "    'Meslek': pd.Series(['mühendis','doktor','polis','mimar','avukat','öğretmen'])\n",
    "}\n",
    "df = pd.DataFrame(data)\n",
    "df"
   ]
  },
  {
   "cell_type": "markdown",
   "metadata": {},
   "source": [
    "**Örnek 1(T)** \n",
    "Satırları ve sütunları Transposesi."
   ]
  },
  {
   "cell_type": "code",
   "execution_count": 2,
   "metadata": {},
   "outputs": [
    {
     "data": {
      "text/html": [
       "<div>\n",
       "<style scoped>\n",
       "    .dataframe tbody tr th:only-of-type {\n",
       "        vertical-align: middle;\n",
       "    }\n",
       "\n",
       "    .dataframe tbody tr th {\n",
       "        vertical-align: top;\n",
       "    }\n",
       "\n",
       "    .dataframe thead th {\n",
       "        text-align: right;\n",
       "    }\n",
       "</style>\n",
       "<table border=\"1\" class=\"dataframe\">\n",
       "  <thead>\n",
       "    <tr style=\"text-align: right;\">\n",
       "      <th></th>\n",
       "      <th>0</th>\n",
       "      <th>1</th>\n",
       "      <th>2</th>\n",
       "      <th>3</th>\n",
       "      <th>4</th>\n",
       "      <th>5</th>\n",
       "    </tr>\n",
       "  </thead>\n",
       "  <tbody>\n",
       "    <tr>\n",
       "      <th>Ad</th>\n",
       "      <td>Furkan</td>\n",
       "      <td>Kemal</td>\n",
       "      <td>Osman</td>\n",
       "      <td>Zeynep</td>\n",
       "      <td>Fatma</td>\n",
       "      <td>Buse</td>\n",
       "    </tr>\n",
       "    <tr>\n",
       "      <th>Yaş</th>\n",
       "      <td>21</td>\n",
       "      <td>25</td>\n",
       "      <td>30</td>\n",
       "      <td>24</td>\n",
       "      <td>28</td>\n",
       "      <td>26</td>\n",
       "    </tr>\n",
       "    <tr>\n",
       "      <th>Meslek</th>\n",
       "      <td>mühendis</td>\n",
       "      <td>doktor</td>\n",
       "      <td>polis</td>\n",
       "      <td>mimar</td>\n",
       "      <td>avukat</td>\n",
       "      <td>öğretmen</td>\n",
       "    </tr>\n",
       "  </tbody>\n",
       "</table>\n",
       "</div>"
      ],
      "text/plain": [
       "               0       1      2       3       4         5\n",
       "Ad        Furkan   Kemal  Osman  Zeynep   Fatma      Buse\n",
       "Yaş           21      25     30      24      28        26\n",
       "Meslek  mühendis  doktor  polis   mimar  avukat  öğretmen"
      ]
     },
     "execution_count": 2,
     "metadata": {},
     "output_type": "execute_result"
    }
   ],
   "source": [
    "import pandas as pd\n",
    "import numpy as np\n",
    "\n",
    "data = {\n",
    "    'Ad': pd.Series(['Furkan','Kemal','Osman','Zeynep','Fatma','Buse']),\n",
    "    'Yaş': pd.Series([21,25,30,24,28,26]),\n",
    "    'Meslek': pd.Series(['mühendis','doktor','polis','mimar','avukat','öğretmen'])\n",
    "}\n",
    "df = pd.DataFrame(data)\n",
    "df.T"
   ]
  },
  {
   "cell_type": "markdown",
   "metadata": {},
   "source": [
    "**Örnek 2(axes)** \n",
    "satır ekseni etiketleri ve sütun ekseni etiketleri içeren bir liste döndürür."
   ]
  },
  {
   "cell_type": "code",
   "execution_count": 30,
   "metadata": {},
   "outputs": [
    {
     "name": "stdout",
     "output_type": "stream",
     "text": [
      "[RangeIndex(start=0, stop=6, step=1), Index(['Ad', 'Yaş', 'Meslek'], dtype='object')]\n"
     ]
    }
   ],
   "source": [
    "import pandas as pd\n",
    "import numpy as np\n",
    "\n",
    "data = {\n",
    "    'Ad': pd.Series(['Furkan','Kemal','Osman','Zeynep','Fatma','Buse']),\n",
    "    'Yaş': pd.Series([21,25,30,24,28,26]),\n",
    "    'Meslek': pd.Series(['mühendis','doktor','polis','mimar','avukat','öğretmen'])\n",
    "}\n",
    "df = pd.DataFrame(data)\n",
    "print(df.axes)\n",
    "# index: satır değerleri\n",
    "# dtype: veri türü"
   ]
  },
  {
   "cell_type": "markdown",
   "metadata": {},
   "source": [
    "**Örnek 3(dtypes)** \n",
    "dtype nesnesi döndürür."
   ]
  },
  {
   "cell_type": "code",
   "execution_count": 3,
   "metadata": {},
   "outputs": [
    {
     "data": {
      "text/plain": [
       "Ad        object\n",
       "Yaş        int64\n",
       "Meslek    object\n",
       "dtype: object"
      ]
     },
     "execution_count": 3,
     "metadata": {},
     "output_type": "execute_result"
    }
   ],
   "source": [
    "import pandas as pd\n",
    "import numpy as np\n",
    "\n",
    "data = {\n",
    "    'Ad': pd.Series(['Furkan','Kemal','Osman','Zeynep','Fatma','Buse']),\n",
    "    'Yaş': pd.Series([21,25,30,24,28,26]),\n",
    "    'Meslek': pd.Series(['mühendis','doktor','polis','mimar','avukat','öğretmen'])\n",
    "}\n",
    "df = pd.DataFrame(data)\n",
    "df.dtypes"
   ]
  },
  {
   "cell_type": "markdown",
   "metadata": {},
   "source": [
    "**Örnek 4(empty)** \n",
    "DataFrame boş işe false döndürür."
   ]
  },
  {
   "cell_type": "code",
   "execution_count": 34,
   "metadata": {},
   "outputs": [
    {
     "name": "stdout",
     "output_type": "stream",
     "text": [
      "False\n"
     ]
    }
   ],
   "source": [
    "import pandas as pd\n",
    "import numpy as np\n",
    "\n",
    "data = {\n",
    "    'Ad': pd.Series(['Furkan','Kemal','Osman','Zeynep','Fatma','Buse']),\n",
    "    'Yaş': pd.Series([21,25,30,24,28,26]),\n",
    "    'Meslek': pd.Series(['mühendis','doktor','polis','mimar','avukat','öğretmen'])\n",
    "}\n",
    "df = pd.DataFrame(data)\n",
    "print(df.empty)\n",
    "# boş mu?\n",
    "# hayır -> false\n",
    "# evet  -> true"
   ]
  },
  {
   "cell_type": "markdown",
   "metadata": {},
   "source": [
    "**Örnek 5(ndim)** \n",
    "Eksen sayısı / dizi boyutu."
   ]
  },
  {
   "cell_type": "code",
   "execution_count": 35,
   "metadata": {},
   "outputs": [
    {
     "name": "stdout",
     "output_type": "stream",
     "text": [
      "2\n"
     ]
    }
   ],
   "source": [
    "import pandas as pd\n",
    "import numpy as np\n",
    "\n",
    "data = {\n",
    "    'Ad': pd.Series(['Furkan','Kemal','Osman','Zeynep','Fatma','Buse']),\n",
    "    'Yaş': pd.Series([21,25,30,24,28,26]),\n",
    "    'Meslek': pd.Series(['mühendis','doktor','polis','mimar','avukat','öğretmen'])\n",
    "}\n",
    "df = pd.DataFrame(data)\n",
    "print(df.ndim)"
   ]
  },
  {
   "cell_type": "markdown",
   "metadata": {},
   "source": [
    "**Örnek 6(shape)** \n",
    "DataFrame boyutunu temsil eden bir tanımlama grubu döndürür."
   ]
  },
  {
   "cell_type": "code",
   "execution_count": 37,
   "metadata": {},
   "outputs": [
    {
     "name": "stdout",
     "output_type": "stream",
     "text": [
      "(6, 3)\n"
     ]
    }
   ],
   "source": [
    "import pandas as pd\n",
    "import numpy as np\n",
    "\n",
    "data = {\n",
    "    'Ad': pd.Series(['Furkan','Kemal','Osman','Zeynep','Fatma','Buse']),\n",
    "    'Yaş': pd.Series([21,25,30,24,28,26]),\n",
    "    'Meslek': pd.Series(['mühendis','doktor','polis','mimar','avukat','öğretmen'])\n",
    "}\n",
    "df = pd.DataFrame(data)\n",
    "print(df.shape)\n",
    "# (satır sayısı, sütun sayısı)"
   ]
  },
  {
   "cell_type": "markdown",
   "metadata": {},
   "source": [
    "**Örnek 7(size)** \n",
    "Ndframe öğe sayısını döndürür."
   ]
  },
  {
   "cell_type": "code",
   "execution_count": 38,
   "metadata": {},
   "outputs": [
    {
     "name": "stdout",
     "output_type": "stream",
     "text": [
      "18\n"
     ]
    }
   ],
   "source": [
    "import pandas as pd\n",
    "import numpy as np\n",
    "\n",
    "data = {\n",
    "    'Ad': pd.Series(['Furkan','Kemal','Osman','Zeynep','Fatma','Buse']),\n",
    "    'Yaş': pd.Series([21,25,30,24,28,26]),\n",
    "    'Meslek': pd.Series(['mühendis','doktor','polis','mimar','avukat','öğretmen'])\n",
    "}\n",
    "df = pd.DataFrame(data)\n",
    "print(df.size)"
   ]
  },
  {
   "cell_type": "markdown",
   "metadata": {},
   "source": [
    "**Örnek 8(values)** \n",
    "Ndframe'i numpy olarak döndürür."
   ]
  },
  {
   "cell_type": "code",
   "execution_count": 4,
   "metadata": {},
   "outputs": [
    {
     "data": {
      "text/plain": [
       "array([['Furkan', 21, 'mühendis'],\n",
       "       ['Kemal', 25, 'doktor'],\n",
       "       ['Osman', 30, 'polis'],\n",
       "       ['Zeynep', 24, 'mimar'],\n",
       "       ['Fatma', 28, 'avukat'],\n",
       "       ['Buse', 26, 'öğretmen']], dtype=object)"
      ]
     },
     "execution_count": 4,
     "metadata": {},
     "output_type": "execute_result"
    }
   ],
   "source": [
    "import pandas as pd\n",
    "import numpy as np\n",
    "\n",
    "data = {\n",
    "    'Ad': pd.Series(['Furkan','Kemal','Osman','Zeynep','Fatma','Buse']),\n",
    "    'Yaş': pd.Series([21,25,30,24,28,26]),\n",
    "    'Meslek': pd.Series(['mühendis','doktor','polis','mimar','avukat','öğretmen'])\n",
    "}\n",
    "df = pd.DataFrame(data)\n",
    "df.values"
   ]
  },
  {
   "cell_type": "markdown",
   "metadata": {},
   "source": [
    "**Örnek 9(head)** \n",
    "İlk n satırlarını döndürür."
   ]
  },
  {
   "cell_type": "code",
   "execution_count": 5,
   "metadata": {},
   "outputs": [
    {
     "data": {
      "text/html": [
       "<div>\n",
       "<style scoped>\n",
       "    .dataframe tbody tr th:only-of-type {\n",
       "        vertical-align: middle;\n",
       "    }\n",
       "\n",
       "    .dataframe tbody tr th {\n",
       "        vertical-align: top;\n",
       "    }\n",
       "\n",
       "    .dataframe thead th {\n",
       "        text-align: right;\n",
       "    }\n",
       "</style>\n",
       "<table border=\"1\" class=\"dataframe\">\n",
       "  <thead>\n",
       "    <tr style=\"text-align: right;\">\n",
       "      <th></th>\n",
       "      <th>Ad</th>\n",
       "      <th>Yaş</th>\n",
       "      <th>Meslek</th>\n",
       "    </tr>\n",
       "  </thead>\n",
       "  <tbody>\n",
       "    <tr>\n",
       "      <th>0</th>\n",
       "      <td>Furkan</td>\n",
       "      <td>21</td>\n",
       "      <td>mühendis</td>\n",
       "    </tr>\n",
       "    <tr>\n",
       "      <th>1</th>\n",
       "      <td>Kemal</td>\n",
       "      <td>25</td>\n",
       "      <td>doktor</td>\n",
       "    </tr>\n",
       "    <tr>\n",
       "      <th>2</th>\n",
       "      <td>Osman</td>\n",
       "      <td>30</td>\n",
       "      <td>polis</td>\n",
       "    </tr>\n",
       "  </tbody>\n",
       "</table>\n",
       "</div>"
      ],
      "text/plain": [
       "       Ad  Yaş    Meslek\n",
       "0  Furkan   21  mühendis\n",
       "1   Kemal   25    doktor\n",
       "2   Osman   30     polis"
      ]
     },
     "execution_count": 5,
     "metadata": {},
     "output_type": "execute_result"
    }
   ],
   "source": [
    "import pandas as pd\n",
    "import numpy as np\n",
    "\n",
    "data = {\n",
    "    'Ad': pd.Series(['Furkan','Kemal','Osman','Zeynep','Fatma','Buse']),\n",
    "    'Yaş': pd.Series([21,25,30,24,28,26]),\n",
    "    'Meslek': pd.Series(['mühendis','doktor','polis','mimar','avukat','öğretmen'])\n",
    "}\n",
    "df = pd.DataFrame(data)\n",
    "df.head(3)"
   ]
  },
  {
   "cell_type": "markdown",
   "metadata": {},
   "source": [
    "**Örnek 10(tail)** \n",
    "Son n satırlarını döndürür."
   ]
  },
  {
   "cell_type": "code",
   "execution_count": 6,
   "metadata": {},
   "outputs": [
    {
     "data": {
      "text/html": [
       "<div>\n",
       "<style scoped>\n",
       "    .dataframe tbody tr th:only-of-type {\n",
       "        vertical-align: middle;\n",
       "    }\n",
       "\n",
       "    .dataframe tbody tr th {\n",
       "        vertical-align: top;\n",
       "    }\n",
       "\n",
       "    .dataframe thead th {\n",
       "        text-align: right;\n",
       "    }\n",
       "</style>\n",
       "<table border=\"1\" class=\"dataframe\">\n",
       "  <thead>\n",
       "    <tr style=\"text-align: right;\">\n",
       "      <th></th>\n",
       "      <th>Ad</th>\n",
       "      <th>Yaş</th>\n",
       "      <th>Meslek</th>\n",
       "    </tr>\n",
       "  </thead>\n",
       "  <tbody>\n",
       "    <tr>\n",
       "      <th>4</th>\n",
       "      <td>Fatma</td>\n",
       "      <td>28</td>\n",
       "      <td>avukat</td>\n",
       "    </tr>\n",
       "    <tr>\n",
       "      <th>5</th>\n",
       "      <td>Buse</td>\n",
       "      <td>26</td>\n",
       "      <td>öğretmen</td>\n",
       "    </tr>\n",
       "  </tbody>\n",
       "</table>\n",
       "</div>"
      ],
      "text/plain": [
       "      Ad  Yaş    Meslek\n",
       "4  Fatma   28    avukat\n",
       "5   Buse   26  öğretmen"
      ]
     },
     "execution_count": 6,
     "metadata": {},
     "output_type": "execute_result"
    }
   ],
   "source": [
    "import pandas as pd\n",
    "import numpy as np\n",
    "\n",
    "data = {\n",
    "    'Ad': pd.Series(['Furkan','Kemal','Osman','Zeynep','Fatma','Buse']),\n",
    "    'Yaş': pd.Series([21,25,30,24,28,26]),\n",
    "    'Meslek': pd.Series(['mühendis','doktor','polis','mimar','avukat','öğretmen'])\n",
    "}\n",
    "df = pd.DataFrame(data)\n",
    "df.tail(2)"
   ]
  },
  {
   "cell_type": "code",
   "execution_count": null,
   "metadata": {},
   "outputs": [],
   "source": []
  },
  {
   "cell_type": "code",
   "execution_count": null,
   "metadata": {},
   "outputs": [],
   "source": []
  },
  {
   "cell_type": "code",
   "execution_count": null,
   "metadata": {},
   "outputs": [],
   "source": []
  }
 ],
 "metadata": {
  "kernelspec": {
   "display_name": "Python 3",
   "language": "python",
   "name": "python3"
  },
  "language_info": {
   "codemirror_mode": {
    "name": "ipython",
    "version": 3
   },
   "file_extension": ".py",
   "mimetype": "text/x-python",
   "name": "python",
   "nbconvert_exporter": "python",
   "pygments_lexer": "ipython3",
   "version": "3.7.3"
  }
 },
 "nbformat": 4,
 "nbformat_minor": 4
}
