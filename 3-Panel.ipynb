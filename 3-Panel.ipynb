{
 "cells": [
  {
   "cell_type": "markdown",
   "metadata": {},
   "source": [
    "# PYTHON Pandas Panel\n",
    "Panel 3D bir veri kapsayıcıdır. Panel verileri ekonometriden türetilmiştir ve kısmen pandaslar isminden sorumludur.\n",
    "Panel verilerini içeren işlemleri tanımlamak için bazı anlamsal değerler vardır.\n",
    "- items     : eksen 0, her öğe içinde bulunan bir DataFrame karşılık gelir.\n",
    "- major_axis: eksen 1, satırların her biri DataFrame'dir.\n",
    "- minor_axis: eksen 2, sütunların her biri DataFrame'dir.\n",
    "Bir Panel aşağıdaki yapı kullanılarak oluşturulur:"
   ]
  },
  {
   "cell_type": "code",
   "execution_count": 1,
   "metadata": {},
   "outputs": [
    {
     "ename": "NameError",
     "evalue": "name 'pandas' is not defined",
     "output_type": "error",
     "traceback": [
      "\u001b[1;31m---------------------------------------------------------------------------\u001b[0m",
      "\u001b[1;31mNameError\u001b[0m                                 Traceback (most recent call last)",
      "\u001b[1;32m<ipython-input-1-47cc6f001c20>\u001b[0m in \u001b[0;36m<module>\u001b[1;34m\u001b[0m\n\u001b[1;32m----> 1\u001b[1;33m \u001b[0mpandas\u001b[0m\u001b[1;33m.\u001b[0m\u001b[0mPanel\u001b[0m\u001b[1;33m(\u001b[0m\u001b[0mdata\u001b[0m\u001b[1;33m,\u001b[0m \u001b[0mitems\u001b[0m\u001b[1;33m,\u001b[0m \u001b[0mmajor_axis\u001b[0m\u001b[1;33m,\u001b[0m \u001b[0mminor_axis\u001b[0m\u001b[1;33m,\u001b[0m \u001b[0mdtype\u001b[0m\u001b[1;33m,\u001b[0m \u001b[0mcopy\u001b[0m\u001b[1;33m)\u001b[0m\u001b[1;33m\u001b[0m\u001b[1;33m\u001b[0m\u001b[0m\n\u001b[0m",
      "\u001b[1;31mNameError\u001b[0m: name 'pandas' is not defined"
     ]
    }
   ],
   "source": [
    "pandas.Panel(data, items, major_axis, minor_axis, dtype, copy)"
   ]
  },
  {
   "cell_type": "markdown",
   "metadata": {},
   "source": [
    "Yukarıdaki yapının parametreleri:\n",
    "data       : Veriler ndarray, seri, map, series, dict, sabitler ve başka bir DataFrame gibi çeşitli formları alır.\n",
    "items      : eksen = 0\n",
    "major_axis : eksen = 1\n",
    "minor_axis : eksen = 2\n",
    "dtype      : Her sütunun veri türü\n",
    "copy       : Verileri kopyalar. Varsayılan değer false.\n",
    "\n",
    "## Pandas İle Panel Oluşturma\n",
    "Bir panel birden fazla yol kullanarak oluşturulabilir. Bunlardan iki tanesi şu şekildedir:\n",
    "- ndarrays ile oluşturma\n",
    "- DataFrame Dict ile oluşturma\n",
    "\n",
    "**1.yol**"
   ]
  },
  {
   "cell_type": "code",
   "execution_count": null,
   "metadata": {},
   "outputs": [],
   "source": [
    "import pandas as pd\n",
    "import numpy as np\n",
    "\n",
    "data = np.random.rand(2,4,5)\n",
    "p = pd.Panel(data)\n",
    "print(p)"
   ]
  },
  {
   "cell_type": "markdown",
   "metadata": {},
   "source": [
    "**2.yol**"
   ]
  },
  {
   "cell_type": "code",
   "execution_count": 2,
   "metadata": {},
   "outputs": [
    {
     "name": "stdout",
     "output_type": "stream",
     "text": [
      "<class 'pandas.core.panel.Panel'>\n",
      "Dimensions: 2 (items) x 5 (major_axis) x 3 (minor_axis)\n",
      "Items axis: Madde1 to Madde2\n",
      "Major_axis axis: 0 to 4\n",
      "Minor_axis axis: 0 to 2\n"
     ]
    },
    {
     "name": "stderr",
     "output_type": "stream",
     "text": [
      "C:\\Users\\Lenovo\\Anaconda3\\lib\\site-packages\\IPython\\core\\interactiveshell.py:3325: FutureWarning: \n",
      "Panel is deprecated and will be removed in a future version.\n",
      "The recommended way to represent these types of 3-dimensional data are with a MultiIndex on a DataFrame, via the Panel.to_frame() method\n",
      "Alternatively, you can use the xarray package http://xarray.pydata.org/en/stable/.\n",
      "Pandas provides a `.to_xarray()` method to help automate this conversion.\n",
      "\n",
      "  exec(code_obj, self.user_global_ns, self.user_ns)\n"
     ]
    }
   ],
   "source": [
    "import pandas as pd\n",
    "import numpy as np\n",
    "\n",
    "data = {\n",
    "    'Madde1' : pd.DataFrame(np.random.randn(5,2)), \n",
    "    'Madde2' : pd.DataFrame(np.random.randn(4,3))\n",
    "}\n",
    "p = pd.Panel(data)\n",
    "print(p)"
   ]
  },
  {
   "cell_type": "markdown",
   "metadata": {},
   "source": [
    "## Pandas İle Boş Bir Panel Oluşturma\n",
    "Panel Oluşturucusu kullanılarak aşağıdaki gibi boş bir panel oluşturulabilir."
   ]
  },
  {
   "cell_type": "code",
   "execution_count": null,
   "metadata": {},
   "outputs": [],
   "source": [
    "import pandas as pd\n",
    "p = pd.Panel()\n",
    "print(p)"
   ]
  },
  {
   "cell_type": "markdown",
   "metadata": {},
   "source": [
    "## Pandas İle Panelden Veri Çekme\n",
    "Panelden veri çekmek için aşağıdaki değerler kullanılır.\n",
    "- items(maddeler)\n",
    "- major_axis\n",
    "- minor_axis\n",
    "\n",
    "### Item İle Panelden Veri Çekme"
   ]
  },
  {
   "cell_type": "code",
   "execution_count": null,
   "metadata": {},
   "outputs": [],
   "source": [
    "import pandas as pd\n",
    "import numpy as np\n",
    "data = {\n",
    "    'Madde1' : pd.DataFrame(np.random.randn(4, 3)), \n",
    "    'Madde2' : pd.DataFrame(np.random.randn(4, 2))\n",
    "}\n",
    "p = pd.Panel(data)\n",
    "\n",
    "print(p['Madde1'])\n",
    "print('--------------------------------')\n",
    "print(p['Madde2'])\n",
    "print('--------------------------------')\n",
    "print(p)"
   ]
  },
  {
   "cell_type": "markdown",
   "metadata": {},
   "source": [
    "### major_axis İle Panelden Veri Çekme\n",
    "panel.major_axis(index) kullanılarak erişilebilir."
   ]
  },
  {
   "cell_type": "code",
   "execution_count": null,
   "metadata": {},
   "outputs": [],
   "source": [
    "import pandas as pd\n",
    "import numpy as np\n",
    "data = {\n",
    "    'Item1' : pd.DataFrame(np.random.randn(4, 3)), \n",
    "    'Item2' : pd.DataFrame(np.random.randn(4, 2))\n",
    "}\n",
    "p = pd.Panel(data)\n",
    "\n",
    "print(p.major_xs(1))\n",
    "print('--------------------------------')\n",
    "print(p.major_xs(2))\n",
    "print('--------------------------------')\n",
    "print(p)"
   ]
  },
  {
   "cell_type": "markdown",
   "metadata": {},
   "source": [
    "### minor_axis İle Panelden Veri Çekme\n",
    "panel.minor_axis(index) kullanılarak erişilebilir."
   ]
  },
  {
   "cell_type": "code",
   "execution_count": 3,
   "metadata": {},
   "outputs": [
    {
     "name": "stdout",
     "output_type": "stream",
     "text": [
      "      Item1     Item2\n",
      "0  1.212179 -0.380482\n",
      "1 -0.370104 -0.583527\n",
      "2 -0.981239  0.087062\n",
      "3  0.413847  0.687582\n",
      "--------------------------------\n",
      "      Item1  Item2\n",
      "0  1.968329    NaN\n",
      "1 -1.147270    NaN\n",
      "2  0.930844    NaN\n",
      "3  0.807132    NaN\n",
      "--------------------------------\n",
      "<class 'pandas.core.panel.Panel'>\n",
      "Dimensions: 2 (items) x 4 (major_axis) x 3 (minor_axis)\n",
      "Items axis: Item1 to Item2\n",
      "Major_axis axis: 0 to 3\n",
      "Minor_axis axis: 0 to 2\n"
     ]
    }
   ],
   "source": [
    "import pandas as pd\n",
    "import numpy as np\n",
    "data = {\n",
    "    'Item1' : pd.DataFrame(np.random.randn(4, 3)), \n",
    "    'Item2' : pd.DataFrame(np.random.randn(4, 2))\n",
    "}\n",
    "p = pd.Panel(data)\n",
    "\n",
    "print(p.minor_xs(1))\n",
    "print('--------------------------------')\n",
    "print(p.minor_xs(2))\n",
    "print('--------------------------------')\n",
    "print(p)"
   ]
  },
  {
   "cell_type": "code",
   "execution_count": null,
   "metadata": {},
   "outputs": [],
   "source": []
  },
  {
   "cell_type": "code",
   "execution_count": null,
   "metadata": {},
   "outputs": [],
   "source": []
  },
  {
   "cell_type": "code",
   "execution_count": null,
   "metadata": {},
   "outputs": [],
   "source": []
  }
 ],
 "metadata": {
  "kernelspec": {
   "display_name": "Python 3",
   "language": "python",
   "name": "python3"
  },
  "language_info": {
   "codemirror_mode": {
    "name": "ipython",
    "version": 3
   },
   "file_extension": ".py",
   "mimetype": "text/x-python",
   "name": "python",
   "nbconvert_exporter": "python",
   "pygments_lexer": "ipython3",
   "version": "3.7.3"
  }
 },
 "nbformat": 4,
 "nbformat_minor": 4
}
