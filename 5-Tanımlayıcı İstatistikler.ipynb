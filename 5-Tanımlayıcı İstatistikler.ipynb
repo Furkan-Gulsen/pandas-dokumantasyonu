{
 "cells": [
  {
   "cell_type": "markdown",
   "metadata": {},
   "source": [
    "# PYTHON Pandas Tanımlayıcı İstatistikler\n",
    "Çok sayıda yöntem, tanımlayıcı istatistikleri ve Dataframe'deki diğer ilgili işlemleri toplu olarak hesaplar. Bunların sum(), mean () gibi toplamalardır, ancak bazıları sumsum () gibi aynı boyutta bir nesne üretir. Genel olarak, bu yöntemler ndarray gibi bir eksen argümanı alır,{sum, std,...}, ancak eksen adı veya tamsayı ile belirtilebilir.\n",
    "\n",
    "Bir DataFrame oluşturalım ve tüm işlemler için bu bölüm boyunca bu nesneyi kullanalım."
   ]
  },
  {
   "cell_type": "code",
   "execution_count": 1,
   "metadata": {},
   "outputs": [
    {
     "data": {
      "text/html": [
       "<div>\n",
       "<style scoped>\n",
       "    .dataframe tbody tr th:only-of-type {\n",
       "        vertical-align: middle;\n",
       "    }\n",
       "\n",
       "    .dataframe tbody tr th {\n",
       "        vertical-align: top;\n",
       "    }\n",
       "\n",
       "    .dataframe thead th {\n",
       "        text-align: right;\n",
       "    }\n",
       "</style>\n",
       "<table border=\"1\" class=\"dataframe\">\n",
       "  <thead>\n",
       "    <tr style=\"text-align: right;\">\n",
       "      <th></th>\n",
       "      <th>Ad</th>\n",
       "      <th>Yaş</th>\n",
       "      <th>Meslek</th>\n",
       "    </tr>\n",
       "  </thead>\n",
       "  <tbody>\n",
       "    <tr>\n",
       "      <th>0</th>\n",
       "      <td>Furkan</td>\n",
       "      <td>21</td>\n",
       "      <td>mühendis</td>\n",
       "    </tr>\n",
       "    <tr>\n",
       "      <th>1</th>\n",
       "      <td>Kemal</td>\n",
       "      <td>25</td>\n",
       "      <td>doktor</td>\n",
       "    </tr>\n",
       "    <tr>\n",
       "      <th>2</th>\n",
       "      <td>Osman</td>\n",
       "      <td>30</td>\n",
       "      <td>polis</td>\n",
       "    </tr>\n",
       "    <tr>\n",
       "      <th>3</th>\n",
       "      <td>Mehmet</td>\n",
       "      <td>24</td>\n",
       "      <td>pilot</td>\n",
       "    </tr>\n",
       "    <tr>\n",
       "      <th>4</th>\n",
       "      <td>Şaban</td>\n",
       "      <td>28</td>\n",
       "      <td>komedyen</td>\n",
       "    </tr>\n",
       "    <tr>\n",
       "      <th>5</th>\n",
       "      <td>Zeynep</td>\n",
       "      <td>26</td>\n",
       "      <td>mimar</td>\n",
       "    </tr>\n",
       "    <tr>\n",
       "      <th>6</th>\n",
       "      <td>Fatma</td>\n",
       "      <td>29</td>\n",
       "      <td>avukat</td>\n",
       "    </tr>\n",
       "    <tr>\n",
       "      <th>7</th>\n",
       "      <td>Buse</td>\n",
       "      <td>32</td>\n",
       "      <td>öğretmen</td>\n",
       "    </tr>\n",
       "    <tr>\n",
       "      <th>8</th>\n",
       "      <td>İrem</td>\n",
       "      <td>21</td>\n",
       "      <td>diyetisyen</td>\n",
       "    </tr>\n",
       "    <tr>\n",
       "      <th>9</th>\n",
       "      <td>Nihal</td>\n",
       "      <td>25</td>\n",
       "      <td>hemşire</td>\n",
       "    </tr>\n",
       "  </tbody>\n",
       "</table>\n",
       "</div>"
      ],
      "text/plain": [
       "       Ad  Yaş      Meslek\n",
       "0  Furkan   21    mühendis\n",
       "1   Kemal   25      doktor\n",
       "2   Osman   30       polis\n",
       "3  Mehmet   24       pilot\n",
       "4   Şaban   28    komedyen\n",
       "5  Zeynep   26       mimar\n",
       "6   Fatma   29      avukat\n",
       "7    Buse   32    öğretmen\n",
       "8    İrem   21  diyetisyen\n",
       "9   Nihal   25     hemşire"
      ]
     },
     "execution_count": 1,
     "metadata": {},
     "output_type": "execute_result"
    }
   ],
   "source": [
    "import pandas as pd\n",
    "import numpy as np\n",
    "\n",
    "# dict ile bir data oluşturalım\n",
    "data = {\n",
    "    'Ad': pd.Series([\n",
    "        'Furkan',\n",
    "        'Kemal',\n",
    "        'Osman',\n",
    "        'Mehmet',\n",
    "        'Şaban',\n",
    "        'Zeynep',\n",
    "        'Fatma',\n",
    "        'Buse',\n",
    "        'İrem',\n",
    "        'Nihal'\n",
    "    ]),\n",
    "    'Yaş': pd.Series([\n",
    "        21,\n",
    "        25,\n",
    "        30,\n",
    "        24,\n",
    "        28,\n",
    "        26,\n",
    "        29,\n",
    "        32,\n",
    "        21,\n",
    "        25\n",
    "    ]),\n",
    "    'Meslek': pd.Series([\n",
    "        'mühendis',\n",
    "        'doktor',\n",
    "        'polis',\n",
    "        'pilot',\n",
    "        'komedyen',\n",
    "        'mimar',\n",
    "        'avukat',\n",
    "        'öğretmen',\n",
    "        'diyetisyen',\n",
    "        'hemşire'\n",
    "    ])\n",
    "}\n",
    "df = pd.DataFrame(data)\n",
    "df"
   ]
  },
  {
   "cell_type": "markdown",
   "metadata": {},
   "source": [
    "## Sum()\n",
    "İstenen eksen için değerlerin toplamını döndürür. Varsayılan olarak, eksen dizinidir (eksen = 0)."
   ]
  },
  {
   "cell_type": "code",
   "execution_count": 2,
   "metadata": {},
   "outputs": [
    {
     "data": {
      "text/plain": [
       "Ad        FurkanKemalOsmanMehmetŞabanZeynepFatmaBuseİrem...\n",
       "Yaş                                                     261\n",
       "Meslek    mühendisdoktorpolispilotkomedyenmimaravukatöğr...\n",
       "dtype: object"
      ]
     },
     "execution_count": 2,
     "metadata": {},
     "output_type": "execute_result"
    }
   ],
   "source": [
    "import pandas as pd\n",
    "import numpy as np\n",
    "\n",
    "data = {\n",
    "    'Ad': pd.Series(['Furkan','Kemal','Osman','Mehmet','Şaban','Zeynep','Fatma','Buse','İrem','Nihal']),\n",
    "    'Yaş': pd.Series([21,25,30,24,28,26,29,32,21,25]),\n",
    "    'Meslek': pd.Series(['mühendis','doktor','polis','pilot','komedyen','mimar','avukat','öğretmen','diyetisyen','hemşire'])\n",
    "}\n",
    "df = pd.DataFrame(data)\n",
    "df.sum()\n",
    "# varsayılan değer: sum() = sum(0)"
   ]
  },
  {
   "cell_type": "markdown",
   "metadata": {},
   "source": [
    "Her bir sütun ayrı ayrı eklenir (dizeler eklenir).\n",
    "\n",
    "**axis=1**"
   ]
  },
  {
   "cell_type": "code",
   "execution_count": 3,
   "metadata": {},
   "outputs": [
    {
     "data": {
      "text/plain": [
       "0    21\n",
       "1    25\n",
       "2    30\n",
       "3    24\n",
       "4    28\n",
       "5    26\n",
       "6    29\n",
       "7    32\n",
       "8    21\n",
       "9    25\n",
       "dtype: int64"
      ]
     },
     "execution_count": 3,
     "metadata": {},
     "output_type": "execute_result"
    }
   ],
   "source": [
    "import pandas as pd\n",
    "import numpy as np\n",
    "\n",
    "data = {\n",
    "    'Ad': pd.Series(['Furkan','Kemal','Osman','Mehmet','Şaban','Zeynep','Fatma','Buse','İrem','Nihal']),\n",
    "    'Yaş': pd.Series([21,25,30,24,28,26,29,32,21,25]),\n",
    "    'Meslek': pd.Series(['mühendis','doktor','polis','pilot','komedyen','mimar','avukat','öğretmen','diyetisyen','hemşire'])\n",
    "}\n",
    "df = pd.DataFrame(data)\n",
    "df.sum(1)"
   ]
  },
  {
   "cell_type": "markdown",
   "metadata": {},
   "source": [
    "## Mean()\n",
    "Ortalamanın değerini döndürür."
   ]
  },
  {
   "cell_type": "code",
   "execution_count": 24,
   "metadata": {},
   "outputs": [
    {
     "name": "stdout",
     "output_type": "stream",
     "text": [
      "Yaş    26.1\n",
      "dtype: float64\n"
     ]
    }
   ],
   "source": [
    "import pandas as pd\n",
    "import numpy as np\n",
    "\n",
    "data = {\n",
    "    'Ad': pd.Series(['Furkan','Kemal','Osman','Mehmet','Şaban','Zeynep','Fatma','Buse','İrem','Nihal']),\n",
    "    'Yaş': pd.Series([21,25,30,24,28,26,29,32,21,25]),\n",
    "    'Meslek': pd.Series(['mühendis','doktor','polis','pilot','komedyen','mimar','avukat','öğretmen','diyetisyen','hemşire'])\n",
    "}\n",
    "df = pd.DataFrame(data)\n",
    "print(df.mean())"
   ]
  },
  {
   "cell_type": "markdown",
   "metadata": {},
   "source": [
    "## Std()\n",
    "Sayısal sütunların standart sapmasını döndürür."
   ]
  },
  {
   "cell_type": "code",
   "execution_count": 25,
   "metadata": {},
   "outputs": [
    {
     "name": "stdout",
     "output_type": "stream",
     "text": [
      "Yaş    3.665151\n",
      "dtype: float64\n"
     ]
    }
   ],
   "source": [
    "import pandas as pd\n",
    "import numpy as np\n",
    "\n",
    "data = {\n",
    "    'Ad': pd.Series(['Furkan','Kemal','Osman','Mehmet','Şaban','Zeynep','Fatma','Buse','İrem','Nihal']),\n",
    "    'Yaş': pd.Series([21,25,30,24,28,26,29,32,21,25]),\n",
    "    'Meslek': pd.Series(['mühendis','doktor','polis','pilot','komedyen','mimar','avukat','öğretmen','diyetisyen','hemşire'])\n",
    "}\n",
    "df = pd.DataFrame(data)\n",
    "print(df.std())"
   ]
  },
  {
   "cell_type": "markdown",
   "metadata": {},
   "source": [
    "# Fonsiyonlar Ve Açıklamaları\n",
    "Şimdi Python pandastaki tanımlayıcı istatistikler altındaki işlevleri anlayalım. Aşağıdaki tabloda önemli işlevlerin kendisi ve açıklamarı verilmiştir:\n",
    "- count()  : Boş olmayan gözlemlerin sayısı.\n",
    "- sum()    : Değerlerin toplamı.\n",
    "- mean()   : Değerlerin ortalaması.\n",
    "- median() : Değerlerin medyanı.\n",
    "- mode()   : Değerlerin modu.\n",
    "- std()    : Değerlerin standart sapması\n",
    "- max()    : Değerlerin en büyüğü.\n",
    "- min()    : Değerlerin en küçüğü.\n",
    "- abs()    : Değerlerin mutlak değeri.\n",
    "- prod()   : Değerlerin çarpımı.\n",
    "- cumsum() : Değerlerin kümülatif toplamı.\n",
    "- cumprod(): Değerlerin kümülatif ürünü.\n",
    "\n",
    "**NOT:** Dataframe heterojen bir veri yapısı olduğundan genel işlemler tüm işlevleri ile çalışmaz."
   ]
  },
  {
   "cell_type": "markdown",
   "metadata": {},
   "source": [
    "**Örnek 1(count)** \n",
    "Boş olmayan gözlemlerin sayısı."
   ]
  },
  {
   "cell_type": "code",
   "execution_count": 4,
   "metadata": {},
   "outputs": [
    {
     "data": {
      "text/plain": [
       "Ad        10\n",
       "Yaş       10\n",
       "Meslek    10\n",
       "dtype: int64"
      ]
     },
     "execution_count": 4,
     "metadata": {},
     "output_type": "execute_result"
    }
   ],
   "source": [
    "import pandas as pd\n",
    "import numpy as np\n",
    "\n",
    "data = {\n",
    "    'Ad': pd.Series(['Furkan','Kemal','Osman','Mehmet','Şaban','Zeynep','Fatma','Buse','İrem','Nihal']),\n",
    "    'Yaş': pd.Series([21,25,30,24,28,26,29,32,21,25]),\n",
    "    'Meslek': pd.Series(['mühendis','doktor','polis','pilot','komedyen','mimar','avukat','öğretmen','diyetisyen','hemşire'])\n",
    "}\n",
    "df = pd.DataFrame(data)\n",
    "df.count()"
   ]
  },
  {
   "cell_type": "markdown",
   "metadata": {},
   "source": [
    "**Örnek 2(mean)** \n",
    "Değerlerin ortalaması."
   ]
  },
  {
   "cell_type": "code",
   "execution_count": 33,
   "metadata": {},
   "outputs": [
    {
     "name": "stdout",
     "output_type": "stream",
     "text": [
      "Yaş    26.1\n",
      "dtype: float64\n"
     ]
    }
   ],
   "source": [
    "import pandas as pd\n",
    "import numpy as np\n",
    "\n",
    "data = {\n",
    "    'Ad': pd.Series(['Furkan','Kemal','Osman','Mehmet','Şaban','Zeynep','Fatma','Buse','İrem','Nihal']),\n",
    "    'Yaş': pd.Series([21,25,30,24,28,26,29,32,21,25]),\n",
    "    'Meslek': pd.Series(['mühendis','doktor','polis','pilot','komedyen','mimar','avukat','öğretmen','diyetisyen','hemşire'])\n",
    "}\n",
    "df = pd.DataFrame(data)\n",
    "print(df.mean())"
   ]
  },
  {
   "cell_type": "markdown",
   "metadata": {},
   "source": [
    "**Örnek 3(median)** \n",
    "Değerlerin medyanı."
   ]
  },
  {
   "cell_type": "code",
   "execution_count": 34,
   "metadata": {},
   "outputs": [
    {
     "name": "stdout",
     "output_type": "stream",
     "text": [
      "Yaş    25.5\n",
      "dtype: float64\n"
     ]
    }
   ],
   "source": [
    "import pandas as pd\n",
    "import numpy as np\n",
    "\n",
    "data = {\n",
    "    'Ad': pd.Series(['Furkan','Kemal','Osman','Mehmet','Şaban','Zeynep','Fatma','Buse','İrem','Nihal']),\n",
    "    'Yaş': pd.Series([21,25,30,24,28,26,29,32,21,25]),\n",
    "    'Meslek': pd.Series(['mühendis','doktor','polis','pilot','komedyen','mimar','avukat','öğretmen','diyetisyen','hemşire'])\n",
    "}\n",
    "df = pd.DataFrame(data)\n",
    "print(df.median())"
   ]
  },
  {
   "cell_type": "markdown",
   "metadata": {},
   "source": [
    "**Örnek 4(mode)** \n",
    "Değerlerin modu."
   ]
  },
  {
   "cell_type": "code",
   "execution_count": 5,
   "metadata": {},
   "outputs": [
    {
     "data": {
      "text/html": [
       "<div>\n",
       "<style scoped>\n",
       "    .dataframe tbody tr th:only-of-type {\n",
       "        vertical-align: middle;\n",
       "    }\n",
       "\n",
       "    .dataframe tbody tr th {\n",
       "        vertical-align: top;\n",
       "    }\n",
       "\n",
       "    .dataframe thead th {\n",
       "        text-align: right;\n",
       "    }\n",
       "</style>\n",
       "<table border=\"1\" class=\"dataframe\">\n",
       "  <thead>\n",
       "    <tr style=\"text-align: right;\">\n",
       "      <th></th>\n",
       "      <th>Ad</th>\n",
       "      <th>Yaş</th>\n",
       "      <th>Meslek</th>\n",
       "    </tr>\n",
       "  </thead>\n",
       "  <tbody>\n",
       "    <tr>\n",
       "      <th>0</th>\n",
       "      <td>Buse</td>\n",
       "      <td>21.0</td>\n",
       "      <td>avukat</td>\n",
       "    </tr>\n",
       "    <tr>\n",
       "      <th>1</th>\n",
       "      <td>Fatma</td>\n",
       "      <td>25.0</td>\n",
       "      <td>diyetisyen</td>\n",
       "    </tr>\n",
       "    <tr>\n",
       "      <th>2</th>\n",
       "      <td>Furkan</td>\n",
       "      <td>NaN</td>\n",
       "      <td>doktor</td>\n",
       "    </tr>\n",
       "    <tr>\n",
       "      <th>3</th>\n",
       "      <td>Kemal</td>\n",
       "      <td>NaN</td>\n",
       "      <td>hemşire</td>\n",
       "    </tr>\n",
       "    <tr>\n",
       "      <th>4</th>\n",
       "      <td>Mehmet</td>\n",
       "      <td>NaN</td>\n",
       "      <td>komedyen</td>\n",
       "    </tr>\n",
       "    <tr>\n",
       "      <th>5</th>\n",
       "      <td>Nihal</td>\n",
       "      <td>NaN</td>\n",
       "      <td>mimar</td>\n",
       "    </tr>\n",
       "    <tr>\n",
       "      <th>6</th>\n",
       "      <td>Osman</td>\n",
       "      <td>NaN</td>\n",
       "      <td>mühendis</td>\n",
       "    </tr>\n",
       "    <tr>\n",
       "      <th>7</th>\n",
       "      <td>Zeynep</td>\n",
       "      <td>NaN</td>\n",
       "      <td>pilot</td>\n",
       "    </tr>\n",
       "    <tr>\n",
       "      <th>8</th>\n",
       "      <td>İrem</td>\n",
       "      <td>NaN</td>\n",
       "      <td>polis</td>\n",
       "    </tr>\n",
       "    <tr>\n",
       "      <th>9</th>\n",
       "      <td>Şaban</td>\n",
       "      <td>NaN</td>\n",
       "      <td>öğretmen</td>\n",
       "    </tr>\n",
       "  </tbody>\n",
       "</table>\n",
       "</div>"
      ],
      "text/plain": [
       "       Ad   Yaş      Meslek\n",
       "0    Buse  21.0      avukat\n",
       "1   Fatma  25.0  diyetisyen\n",
       "2  Furkan   NaN      doktor\n",
       "3   Kemal   NaN     hemşire\n",
       "4  Mehmet   NaN    komedyen\n",
       "5   Nihal   NaN       mimar\n",
       "6   Osman   NaN    mühendis\n",
       "7  Zeynep   NaN       pilot\n",
       "8    İrem   NaN       polis\n",
       "9   Şaban   NaN    öğretmen"
      ]
     },
     "execution_count": 5,
     "metadata": {},
     "output_type": "execute_result"
    }
   ],
   "source": [
    "import pandas as pd\n",
    "import numpy as np\n",
    "\n",
    "data = {\n",
    "    'Ad': pd.Series(['Furkan','Kemal','Osman','Mehmet','Şaban','Zeynep','Fatma','Buse','İrem','Nihal']),\n",
    "    'Yaş': pd.Series([21,25,30,24,28,26,29,32,21,25]),\n",
    "    'Meslek': pd.Series(['mühendis','doktor','polis','pilot','komedyen','mimar','avukat','öğretmen','diyetisyen','hemşire'])\n",
    "}\n",
    "df = pd.DataFrame(data)\n",
    "df.mode()"
   ]
  },
  {
   "cell_type": "markdown",
   "metadata": {},
   "source": [
    "Burada mode fonksiyonu kısmi olarak çalışmıyor. Bunun nedeni verilerin içinde stringlerin yani yazıların bulunması. Eğer bütün değerler sayı olursa o zaman bu fonksiyon düzgün çalışır."
   ]
  },
  {
   "cell_type": "markdown",
   "metadata": {},
   "source": [
    "**Örnek 5(max)** \n",
    "Değerlerin en büyüğü."
   ]
  },
  {
   "cell_type": "code",
   "execution_count": 6,
   "metadata": {},
   "outputs": [
    {
     "data": {
      "text/plain": [
       "Ad           Şaban\n",
       "Yaş             32\n",
       "Meslek    öğretmen\n",
       "dtype: object"
      ]
     },
     "execution_count": 6,
     "metadata": {},
     "output_type": "execute_result"
    }
   ],
   "source": [
    "import pandas as pd\n",
    "import numpy as np\n",
    "\n",
    "data = {\n",
    "    'Ad': pd.Series(['Furkan','Kemal','Osman','Mehmet','Şaban','Zeynep','Fatma','Buse','İrem','Nihal']),\n",
    "    'Yaş': pd.Series([21,25,30,24,28,26,29,32,21,25]),\n",
    "    'Meslek': pd.Series(['mühendis','doktor','polis','pilot','komedyen','mimar','avukat','öğretmen','diyetisyen','hemşire'])\n",
    "}\n",
    "df = pd.DataFrame(data)\n",
    "df.max()"
   ]
  },
  {
   "cell_type": "markdown",
   "metadata": {},
   "source": [
    "Burada başka bir int türünde değer olmadığı için tek int türü olan yaş sütununa göre en büyük değeri hesaplıyor."
   ]
  },
  {
   "cell_type": "code",
   "execution_count": 53,
   "metadata": {},
   "outputs": [
    {
     "name": "stdout",
     "output_type": "stream",
     "text": [
      "A    14\n",
      "B    54\n",
      "C    20\n",
      "D    14\n",
      "dtype: int64\n"
     ]
    }
   ],
   "source": [
    "import pandas as pd \n",
    "  \n",
    "df = pd.DataFrame({\"A\":[14, 4, 5, 4, 1], \n",
    "                   \"B\":[5, 2, 54, 3, 2],\n",
    "                   \"C\":[20, 20, 7, 3, 8],\n",
    "                   \"D\":[14, 3, 6, 2, 6]}) \n",
    "print(df.max())"
   ]
  },
  {
   "cell_type": "markdown",
   "metadata": {},
   "source": [
    "**Örnek 6(min)** \n",
    "Değerlerin en küçüğü."
   ]
  },
  {
   "cell_type": "code",
   "execution_count": 51,
   "metadata": {},
   "outputs": [
    {
     "name": "stdout",
     "output_type": "stream",
     "text": [
      "Ad          Buse\n",
      "Yaş           21\n",
      "Meslek    avukat\n",
      "dtype: object\n"
     ]
    }
   ],
   "source": [
    "import pandas as pd\n",
    "import numpy as np\n",
    "\n",
    "data = {\n",
    "    'Ad': pd.Series(['Furkan','Kemal','Osman','Mehmet','Şaban','Zeynep','Fatma','Buse','İrem','Nihal']),\n",
    "    'Yaş': pd.Series([21,25,30,24,28,26,29,32,21,25]),\n",
    "    'Meslek': pd.Series(['mühendis','doktor','polis','pilot','komedyen','mimar','avukat','öğretmen','diyetisyen','hemşire'])\n",
    "}\n",
    "df = pd.DataFrame(data)\n",
    "print(df.min())"
   ]
  },
  {
   "cell_type": "markdown",
   "metadata": {},
   "source": [
    "**Örnek 7(abs)** \n",
    "Değerlerin mutlak değeri."
   ]
  },
  {
   "cell_type": "code",
   "execution_count": 52,
   "metadata": {},
   "outputs": [
    {
     "ename": "TypeError",
     "evalue": "bad operand type for abs(): 'str'",
     "output_type": "error",
     "traceback": [
      "\u001b[1;31m---------------------------------------------------------------------------\u001b[0m",
      "\u001b[1;31mTypeError\u001b[0m                                 Traceback (most recent call last)",
      "\u001b[1;32m<ipython-input-52-088db2d5ebf9>\u001b[0m in \u001b[0;36m<module>\u001b[1;34m\u001b[0m\n\u001b[0;32m      8\u001b[0m }\n\u001b[0;32m      9\u001b[0m \u001b[0mdf\u001b[0m \u001b[1;33m=\u001b[0m \u001b[0mpd\u001b[0m\u001b[1;33m.\u001b[0m\u001b[0mDataFrame\u001b[0m\u001b[1;33m(\u001b[0m\u001b[0mdata\u001b[0m\u001b[1;33m)\u001b[0m\u001b[1;33m\u001b[0m\u001b[1;33m\u001b[0m\u001b[0m\n\u001b[1;32m---> 10\u001b[1;33m \u001b[0mprint\u001b[0m\u001b[1;33m(\u001b[0m\u001b[0mdf\u001b[0m\u001b[1;33m.\u001b[0m\u001b[0mabs\u001b[0m\u001b[1;33m(\u001b[0m\u001b[1;33m)\u001b[0m\u001b[1;33m)\u001b[0m\u001b[1;33m\u001b[0m\u001b[1;33m\u001b[0m\u001b[0m\n\u001b[0m",
      "\u001b[1;32m~\\Anaconda3\\lib\\site-packages\\pandas\\core\\generic.py\u001b[0m in \u001b[0;36mabs\u001b[1;34m(self)\u001b[0m\n\u001b[0;32m   9480\u001b[0m         \u001b[1;36m3\u001b[0m    \u001b[1;36m7\u001b[0m   \u001b[1;36m40\u001b[0m  \u001b[1;33m-\u001b[0m\u001b[1;36m50\u001b[0m\u001b[1;33m\u001b[0m\u001b[1;33m\u001b[0m\u001b[0m\n\u001b[0;32m   9481\u001b[0m         \"\"\"\n\u001b[1;32m-> 9482\u001b[1;33m         \u001b[1;32mreturn\u001b[0m \u001b[0mnp\u001b[0m\u001b[1;33m.\u001b[0m\u001b[0mabs\u001b[0m\u001b[1;33m(\u001b[0m\u001b[0mself\u001b[0m\u001b[1;33m)\u001b[0m\u001b[1;33m\u001b[0m\u001b[1;33m\u001b[0m\u001b[0m\n\u001b[0m\u001b[0;32m   9483\u001b[0m \u001b[1;33m\u001b[0m\u001b[0m\n\u001b[0;32m   9484\u001b[0m     \u001b[1;32mdef\u001b[0m \u001b[0mdescribe\u001b[0m\u001b[1;33m(\u001b[0m\u001b[0mself\u001b[0m\u001b[1;33m,\u001b[0m \u001b[0mpercentiles\u001b[0m\u001b[1;33m=\u001b[0m\u001b[1;32mNone\u001b[0m\u001b[1;33m,\u001b[0m \u001b[0minclude\u001b[0m\u001b[1;33m=\u001b[0m\u001b[1;32mNone\u001b[0m\u001b[1;33m,\u001b[0m \u001b[0mexclude\u001b[0m\u001b[1;33m=\u001b[0m\u001b[1;32mNone\u001b[0m\u001b[1;33m)\u001b[0m\u001b[1;33m:\u001b[0m\u001b[1;33m\u001b[0m\u001b[1;33m\u001b[0m\u001b[0m\n",
      "\u001b[1;31mTypeError\u001b[0m: bad operand type for abs(): 'str'"
     ]
    }
   ],
   "source": [
    "import pandas as pd\n",
    "import numpy as np\n",
    "\n",
    "data = {\n",
    "    'Ad': pd.Series(['Furkan','Kemal','Osman','Mehmet','Şaban','Zeynep','Fatma','Buse','İrem','Nihal']),\n",
    "    'Yaş': pd.Series([21,25,30,24,28,26,29,32,21,25]),\n",
    "    'Meslek': pd.Series(['mühendis','doktor','polis','pilot','komedyen','mimar','avukat','öğretmen','diyetisyen','hemşire'])\n",
    "}\n",
    "df = pd.DataFrame(data)\n",
    "print(df.abs())"
   ]
  },
  {
   "cell_type": "markdown",
   "metadata": {},
   "source": [
    "Yukarıdaki yapı çalışmayacaktır. Sebebi DataFrame içerisinde str türünde değerlerin olmasıdır."
   ]
  },
  {
   "cell_type": "code",
   "execution_count": 7,
   "metadata": {},
   "outputs": [
    {
     "data": {
      "text/html": [
       "<div>\n",
       "<style scoped>\n",
       "    .dataframe tbody tr th:only-of-type {\n",
       "        vertical-align: middle;\n",
       "    }\n",
       "\n",
       "    .dataframe tbody tr th {\n",
       "        vertical-align: top;\n",
       "    }\n",
       "\n",
       "    .dataframe thead th {\n",
       "        text-align: right;\n",
       "    }\n",
       "</style>\n",
       "<table border=\"1\" class=\"dataframe\">\n",
       "  <thead>\n",
       "    <tr style=\"text-align: right;\">\n",
       "      <th></th>\n",
       "      <th>A</th>\n",
       "      <th>B</th>\n",
       "      <th>C</th>\n",
       "      <th>D</th>\n",
       "    </tr>\n",
       "  </thead>\n",
       "  <tbody>\n",
       "    <tr>\n",
       "      <th>0</th>\n",
       "      <td>14</td>\n",
       "      <td>5</td>\n",
       "      <td>20</td>\n",
       "      <td>14</td>\n",
       "    </tr>\n",
       "    <tr>\n",
       "      <th>1</th>\n",
       "      <td>4</td>\n",
       "      <td>2</td>\n",
       "      <td>20</td>\n",
       "      <td>3</td>\n",
       "    </tr>\n",
       "    <tr>\n",
       "      <th>2</th>\n",
       "      <td>5</td>\n",
       "      <td>54</td>\n",
       "      <td>7</td>\n",
       "      <td>6</td>\n",
       "    </tr>\n",
       "    <tr>\n",
       "      <th>3</th>\n",
       "      <td>4</td>\n",
       "      <td>3</td>\n",
       "      <td>3</td>\n",
       "      <td>2</td>\n",
       "    </tr>\n",
       "    <tr>\n",
       "      <th>4</th>\n",
       "      <td>1</td>\n",
       "      <td>2</td>\n",
       "      <td>8</td>\n",
       "      <td>6</td>\n",
       "    </tr>\n",
       "  </tbody>\n",
       "</table>\n",
       "</div>"
      ],
      "text/plain": [
       "    A   B   C   D\n",
       "0  14   5  20  14\n",
       "1   4   2  20   3\n",
       "2   5  54   7   6\n",
       "3   4   3   3   2\n",
       "4   1   2   8   6"
      ]
     },
     "execution_count": 7,
     "metadata": {},
     "output_type": "execute_result"
    }
   ],
   "source": [
    "import pandas as pd \n",
    "  \n",
    "df = pd.DataFrame({\"A\":[14, -4, 5, -4, 1], \n",
    "                   \"B\":[5, -2, 54, 3, -2],\n",
    "                   \"C\":[-20, 20, 7, 3, 8],\n",
    "                   \"D\":[-14, 3, 6, 2, -6]}) \n",
    "df.abs()"
   ]
  },
  {
   "cell_type": "markdown",
   "metadata": {},
   "source": [
    "**Örnek 8(prod)** \n",
    "Değerlerin çarpımı."
   ]
  },
  {
   "cell_type": "code",
   "execution_count": 56,
   "metadata": {},
   "outputs": [
    {
     "name": "stdout",
     "output_type": "stream",
     "text": [
      "Yaş    134069644800000\n",
      "dtype: int64\n"
     ]
    }
   ],
   "source": [
    "import pandas as pd\n",
    "import numpy as np\n",
    "\n",
    "data = {\n",
    "    'Ad': pd.Series(['Furkan','Kemal','Osman','Mehmet','Şaban','Zeynep','Fatma','Buse','İrem','Nihal']),\n",
    "    'Yaş': pd.Series([21,25,30,24,28,26,29,32,21,25]),\n",
    "    'Meslek': pd.Series(['mühendis','doktor','polis','pilot','komedyen','mimar','avukat','öğretmen','diyetisyen','hemşire'])\n",
    "}\n",
    "df = pd.DataFrame(data)\n",
    "print(df.prod())"
   ]
  },
  {
   "cell_type": "markdown",
   "metadata": {},
   "source": [
    "Buradak tek int değeri olduğu için ona göre hesapladı."
   ]
  },
  {
   "cell_type": "code",
   "execution_count": 57,
   "metadata": {},
   "outputs": [
    {
     "name": "stdout",
     "output_type": "stream",
     "text": [
      "A     1120\n",
      "B     3240\n",
      "C    67200\n",
      "D     3024\n",
      "dtype: int64\n"
     ]
    }
   ],
   "source": [
    "import pandas as pd \n",
    "  \n",
    "df = pd.DataFrame({\"A\":[14, 4, 5, 4, 1], \n",
    "                   \"B\":[5, 2, 54, 3, 2],\n",
    "                   \"C\":[20, 20, 7, 3, 8],\n",
    "                   \"D\":[14, 3, 6, 2, 6]}) \n",
    "print(df.prod())"
   ]
  },
  {
   "cell_type": "markdown",
   "metadata": {},
   "source": [
    "**Örnek 9(cumsum)** \n",
    "Değerlerin kümülatif toplamı."
   ]
  },
  {
   "cell_type": "code",
   "execution_count": 8,
   "metadata": {},
   "outputs": [
    {
     "data": {
      "text/html": [
       "<div>\n",
       "<style scoped>\n",
       "    .dataframe tbody tr th:only-of-type {\n",
       "        vertical-align: middle;\n",
       "    }\n",
       "\n",
       "    .dataframe tbody tr th {\n",
       "        vertical-align: top;\n",
       "    }\n",
       "\n",
       "    .dataframe thead th {\n",
       "        text-align: right;\n",
       "    }\n",
       "</style>\n",
       "<table border=\"1\" class=\"dataframe\">\n",
       "  <thead>\n",
       "    <tr style=\"text-align: right;\">\n",
       "      <th></th>\n",
       "      <th>A</th>\n",
       "      <th>B</th>\n",
       "      <th>C</th>\n",
       "      <th>D</th>\n",
       "    </tr>\n",
       "  </thead>\n",
       "  <tbody>\n",
       "    <tr>\n",
       "      <th>0</th>\n",
       "      <td>14</td>\n",
       "      <td>5</td>\n",
       "      <td>20</td>\n",
       "      <td>14</td>\n",
       "    </tr>\n",
       "    <tr>\n",
       "      <th>1</th>\n",
       "      <td>18</td>\n",
       "      <td>7</td>\n",
       "      <td>40</td>\n",
       "      <td>17</td>\n",
       "    </tr>\n",
       "    <tr>\n",
       "      <th>2</th>\n",
       "      <td>23</td>\n",
       "      <td>61</td>\n",
       "      <td>47</td>\n",
       "      <td>23</td>\n",
       "    </tr>\n",
       "    <tr>\n",
       "      <th>3</th>\n",
       "      <td>27</td>\n",
       "      <td>64</td>\n",
       "      <td>50</td>\n",
       "      <td>25</td>\n",
       "    </tr>\n",
       "    <tr>\n",
       "      <th>4</th>\n",
       "      <td>28</td>\n",
       "      <td>66</td>\n",
       "      <td>58</td>\n",
       "      <td>31</td>\n",
       "    </tr>\n",
       "  </tbody>\n",
       "</table>\n",
       "</div>"
      ],
      "text/plain": [
       "    A   B   C   D\n",
       "0  14   5  20  14\n",
       "1  18   7  40  17\n",
       "2  23  61  47  23\n",
       "3  27  64  50  25\n",
       "4  28  66  58  31"
      ]
     },
     "execution_count": 8,
     "metadata": {},
     "output_type": "execute_result"
    }
   ],
   "source": [
    "import pandas as pd \n",
    "  \n",
    "df = pd.DataFrame({\"A\":[14, 4, 5, 4, 1], \n",
    "                   \"B\":[5, 2, 54, 3, 2],\n",
    "                   \"C\":[20, 20, 7, 3, 8],\n",
    "                   \"D\":[14, 3, 6, 2, 6]}) \n",
    "df.cumsum()"
   ]
  },
  {
   "cell_type": "markdown",
   "metadata": {},
   "source": [
    "**Örnek 10(cumprod)** \n",
    "Değerlerin kümülatif ürünü."
   ]
  },
  {
   "cell_type": "code",
   "execution_count": 9,
   "metadata": {},
   "outputs": [
    {
     "data": {
      "text/html": [
       "<div>\n",
       "<style scoped>\n",
       "    .dataframe tbody tr th:only-of-type {\n",
       "        vertical-align: middle;\n",
       "    }\n",
       "\n",
       "    .dataframe tbody tr th {\n",
       "        vertical-align: top;\n",
       "    }\n",
       "\n",
       "    .dataframe thead th {\n",
       "        text-align: right;\n",
       "    }\n",
       "</style>\n",
       "<table border=\"1\" class=\"dataframe\">\n",
       "  <thead>\n",
       "    <tr style=\"text-align: right;\">\n",
       "      <th></th>\n",
       "      <th>A</th>\n",
       "      <th>B</th>\n",
       "      <th>C</th>\n",
       "      <th>D</th>\n",
       "    </tr>\n",
       "  </thead>\n",
       "  <tbody>\n",
       "    <tr>\n",
       "      <th>0</th>\n",
       "      <td>14</td>\n",
       "      <td>5</td>\n",
       "      <td>20</td>\n",
       "      <td>14</td>\n",
       "    </tr>\n",
       "    <tr>\n",
       "      <th>1</th>\n",
       "      <td>56</td>\n",
       "      <td>10</td>\n",
       "      <td>400</td>\n",
       "      <td>42</td>\n",
       "    </tr>\n",
       "    <tr>\n",
       "      <th>2</th>\n",
       "      <td>280</td>\n",
       "      <td>540</td>\n",
       "      <td>2800</td>\n",
       "      <td>252</td>\n",
       "    </tr>\n",
       "    <tr>\n",
       "      <th>3</th>\n",
       "      <td>1120</td>\n",
       "      <td>1620</td>\n",
       "      <td>8400</td>\n",
       "      <td>504</td>\n",
       "    </tr>\n",
       "    <tr>\n",
       "      <th>4</th>\n",
       "      <td>1120</td>\n",
       "      <td>3240</td>\n",
       "      <td>67200</td>\n",
       "      <td>3024</td>\n",
       "    </tr>\n",
       "  </tbody>\n",
       "</table>\n",
       "</div>"
      ],
      "text/plain": [
       "      A     B      C     D\n",
       "0    14     5     20    14\n",
       "1    56    10    400    42\n",
       "2   280   540   2800   252\n",
       "3  1120  1620   8400   504\n",
       "4  1120  3240  67200  3024"
      ]
     },
     "execution_count": 9,
     "metadata": {},
     "output_type": "execute_result"
    }
   ],
   "source": [
    "import pandas as pd \n",
    "  \n",
    "df = pd.DataFrame({\"A\":[14, 4, 5, 4, 1], \n",
    "                   \"B\":[5, 2, 54, 3, 2],\n",
    "                   \"C\":[20, 20, 7, 3, 8],\n",
    "                   \"D\":[14, 3, 6, 2, 6]}) \n",
    "df.cumprod()"
   ]
  },
  {
   "cell_type": "markdown",
   "metadata": {},
   "source": [
    "## Pandas İle Verileri Özetleme\n",
    "Describe () işlevi, dataframe sütunlarına ilişkin istatistiklerin bir özetini hesaplar."
   ]
  },
  {
   "cell_type": "code",
   "execution_count": 10,
   "metadata": {},
   "outputs": [
    {
     "data": {
      "text/html": [
       "<div>\n",
       "<style scoped>\n",
       "    .dataframe tbody tr th:only-of-type {\n",
       "        vertical-align: middle;\n",
       "    }\n",
       "\n",
       "    .dataframe tbody tr th {\n",
       "        vertical-align: top;\n",
       "    }\n",
       "\n",
       "    .dataframe thead th {\n",
       "        text-align: right;\n",
       "    }\n",
       "</style>\n",
       "<table border=\"1\" class=\"dataframe\">\n",
       "  <thead>\n",
       "    <tr style=\"text-align: right;\">\n",
       "      <th></th>\n",
       "      <th>Yaş</th>\n",
       "      <th>Maaş</th>\n",
       "    </tr>\n",
       "  </thead>\n",
       "  <tbody>\n",
       "    <tr>\n",
       "      <th>count</th>\n",
       "      <td>10.000000</td>\n",
       "      <td>10.000000</td>\n",
       "    </tr>\n",
       "    <tr>\n",
       "      <th>mean</th>\n",
       "      <td>26.100000</td>\n",
       "      <td>3300.000000</td>\n",
       "    </tr>\n",
       "    <tr>\n",
       "      <th>std</th>\n",
       "      <td>3.665151</td>\n",
       "      <td>1494.434118</td>\n",
       "    </tr>\n",
       "    <tr>\n",
       "      <th>min</th>\n",
       "      <td>21.000000</td>\n",
       "      <td>1000.000000</td>\n",
       "    </tr>\n",
       "    <tr>\n",
       "      <th>25%</th>\n",
       "      <td>24.250000</td>\n",
       "      <td>2250.000000</td>\n",
       "    </tr>\n",
       "    <tr>\n",
       "      <th>50%</th>\n",
       "      <td>25.500000</td>\n",
       "      <td>3000.000000</td>\n",
       "    </tr>\n",
       "    <tr>\n",
       "      <th>75%</th>\n",
       "      <td>28.750000</td>\n",
       "      <td>4000.000000</td>\n",
       "    </tr>\n",
       "    <tr>\n",
       "      <th>max</th>\n",
       "      <td>32.000000</td>\n",
       "      <td>6000.000000</td>\n",
       "    </tr>\n",
       "  </tbody>\n",
       "</table>\n",
       "</div>"
      ],
      "text/plain": [
       "             Yaş         Maaş\n",
       "count  10.000000    10.000000\n",
       "mean   26.100000  3300.000000\n",
       "std     3.665151  1494.434118\n",
       "min    21.000000  1000.000000\n",
       "25%    24.250000  2250.000000\n",
       "50%    25.500000  3000.000000\n",
       "75%    28.750000  4000.000000\n",
       "max    32.000000  6000.000000"
      ]
     },
     "execution_count": 10,
     "metadata": {},
     "output_type": "execute_result"
    }
   ],
   "source": [
    "import pandas as pd\n",
    "import numpy as np\n",
    "\n",
    "data = {\n",
    "    'Ad': pd.Series(['Furkan','Kemal','Osman','Mehmet','Şaban','Zeynep','Fatma','Buse','İrem','Nihal']),\n",
    "    'Yaş': pd.Series([21,25,30,24,28,26,29,32,21,25]),\n",
    "    'Meslek': pd.Series(['mühendis','doktor','polis','pilot','komedyen','mimar','avukat','öğretmen','diyetisyen','hemşire']),\n",
    "    'Maaş': pd.Series([1000,2000,3000,5000,4000,3000,6000,2000,3000,4000])\n",
    "}\n",
    "df = pd.DataFrame(data)\n",
    "df.describe()"
   ]
  },
  {
   "cell_type": "markdown",
   "metadata": {},
   "source": [
    "Bu tabloyu daha güzel okumak için T metodunu kullanabiliriz. Sütun sayısı artınca bu yukarıda verdiğim yapıdan çok aşağıdaki yapı kullanılır."
   ]
  },
  {
   "cell_type": "code",
   "execution_count": 11,
   "metadata": {},
   "outputs": [
    {
     "data": {
      "text/html": [
       "<div>\n",
       "<style scoped>\n",
       "    .dataframe tbody tr th:only-of-type {\n",
       "        vertical-align: middle;\n",
       "    }\n",
       "\n",
       "    .dataframe tbody tr th {\n",
       "        vertical-align: top;\n",
       "    }\n",
       "\n",
       "    .dataframe thead th {\n",
       "        text-align: right;\n",
       "    }\n",
       "</style>\n",
       "<table border=\"1\" class=\"dataframe\">\n",
       "  <thead>\n",
       "    <tr style=\"text-align: right;\">\n",
       "      <th></th>\n",
       "      <th>count</th>\n",
       "      <th>mean</th>\n",
       "      <th>std</th>\n",
       "      <th>min</th>\n",
       "      <th>25%</th>\n",
       "      <th>50%</th>\n",
       "      <th>75%</th>\n",
       "      <th>max</th>\n",
       "    </tr>\n",
       "  </thead>\n",
       "  <tbody>\n",
       "    <tr>\n",
       "      <th>Yaş</th>\n",
       "      <td>10.0</td>\n",
       "      <td>26.1</td>\n",
       "      <td>3.665151</td>\n",
       "      <td>21.0</td>\n",
       "      <td>24.25</td>\n",
       "      <td>25.5</td>\n",
       "      <td>28.75</td>\n",
       "      <td>32.0</td>\n",
       "    </tr>\n",
       "    <tr>\n",
       "      <th>Maaş</th>\n",
       "      <td>10.0</td>\n",
       "      <td>3300.0</td>\n",
       "      <td>1494.434118</td>\n",
       "      <td>1000.0</td>\n",
       "      <td>2250.00</td>\n",
       "      <td>3000.0</td>\n",
       "      <td>4000.00</td>\n",
       "      <td>6000.0</td>\n",
       "    </tr>\n",
       "  </tbody>\n",
       "</table>\n",
       "</div>"
      ],
      "text/plain": [
       "      count    mean          std     min      25%     50%      75%     max\n",
       "Yaş    10.0    26.1     3.665151    21.0    24.25    25.5    28.75    32.0\n",
       "Maaş   10.0  3300.0  1494.434118  1000.0  2250.00  3000.0  4000.00  6000.0"
      ]
     },
     "execution_count": 11,
     "metadata": {},
     "output_type": "execute_result"
    }
   ],
   "source": [
    "import pandas as pd\n",
    "import numpy as np\n",
    "\n",
    "data = {\n",
    "    'Ad': pd.Series(['Furkan','Kemal','Osman','Mehmet','Şaban','Zeynep','Fatma','Buse','İrem','Nihal']),\n",
    "    'Yaş': pd.Series([21,25,30,24,28,26,29,32,21,25]),\n",
    "    'Meslek': pd.Series(['mühendis','doktor','polis','pilot','komedyen','mimar','avukat','öğretmen','diyetisyen','hemşire']),\n",
    "    'Maaş': pd.Series([1000,2000,3000,5000,4000,3000,6000,2000,3000,4000])\n",
    "}\n",
    "df = pd.DataFrame(data)\n",
    "df.describe().T"
   ]
  },
  {
   "cell_type": "markdown",
   "metadata": {},
   "source": [
    "Bu işlev mean, std ve IQR değerlerini verir. Ve, işlev karakter sütunları ve sayısal sütunlar hakkında bilgiler verir. 'include', özetlemek için hangi sütunların dikkate alınması gerektiğine ilişkin gerekli bilgileri iletmek için kullanılan argümandır.\n",
    "- object : Object sütunlarını özetler\n",
    "- number : Number sütunlarını özetler"
   ]
  },
  {
   "cell_type": "code",
   "execution_count": 12,
   "metadata": {},
   "outputs": [
    {
     "data": {
      "text/html": [
       "<div>\n",
       "<style scoped>\n",
       "    .dataframe tbody tr th:only-of-type {\n",
       "        vertical-align: middle;\n",
       "    }\n",
       "\n",
       "    .dataframe tbody tr th {\n",
       "        vertical-align: top;\n",
       "    }\n",
       "\n",
       "    .dataframe thead th {\n",
       "        text-align: right;\n",
       "    }\n",
       "</style>\n",
       "<table border=\"1\" class=\"dataframe\">\n",
       "  <thead>\n",
       "    <tr style=\"text-align: right;\">\n",
       "      <th></th>\n",
       "      <th>Ad</th>\n",
       "      <th>Meslek</th>\n",
       "    </tr>\n",
       "  </thead>\n",
       "  <tbody>\n",
       "    <tr>\n",
       "      <th>count</th>\n",
       "      <td>10</td>\n",
       "      <td>10</td>\n",
       "    </tr>\n",
       "    <tr>\n",
       "      <th>unique</th>\n",
       "      <td>10</td>\n",
       "      <td>10</td>\n",
       "    </tr>\n",
       "    <tr>\n",
       "      <th>top</th>\n",
       "      <td>Osman</td>\n",
       "      <td>öğretmen</td>\n",
       "    </tr>\n",
       "    <tr>\n",
       "      <th>freq</th>\n",
       "      <td>1</td>\n",
       "      <td>1</td>\n",
       "    </tr>\n",
       "  </tbody>\n",
       "</table>\n",
       "</div>"
      ],
      "text/plain": [
       "           Ad    Meslek\n",
       "count      10        10\n",
       "unique     10        10\n",
       "top     Osman  öğretmen\n",
       "freq        1         1"
      ]
     },
     "execution_count": 12,
     "metadata": {},
     "output_type": "execute_result"
    }
   ],
   "source": [
    "import pandas as pd\n",
    "import numpy as np\n",
    "\n",
    "data = {\n",
    "    'Ad': pd.Series(['Furkan','Kemal','Osman','Mehmet','Şaban','Zeynep','Fatma','Buse','İrem','Nihal']),\n",
    "    'Yaş': pd.Series([21,25,30,24,28,26,29,32,21,25]),\n",
    "    'Meslek': pd.Series(['mühendis','doktor','polis','pilot','komedyen','mimar','avukat','öğretmen','diyetisyen','hemşire']),\n",
    "    'Maaş': pd.Series([1000,2000,3000,5000,4000,3000,6000,2000,3000,4000])\n",
    "}\n",
    "df = pd.DataFrame(data)\n",
    "df.describe(include=['object'])"
   ]
  },
  {
   "cell_type": "code",
   "execution_count": 13,
   "metadata": {},
   "outputs": [
    {
     "data": {
      "text/html": [
       "<div>\n",
       "<style scoped>\n",
       "    .dataframe tbody tr th:only-of-type {\n",
       "        vertical-align: middle;\n",
       "    }\n",
       "\n",
       "    .dataframe tbody tr th {\n",
       "        vertical-align: top;\n",
       "    }\n",
       "\n",
       "    .dataframe thead th {\n",
       "        text-align: right;\n",
       "    }\n",
       "</style>\n",
       "<table border=\"1\" class=\"dataframe\">\n",
       "  <thead>\n",
       "    <tr style=\"text-align: right;\">\n",
       "      <th></th>\n",
       "      <th>Yaş</th>\n",
       "      <th>Maaş</th>\n",
       "    </tr>\n",
       "  </thead>\n",
       "  <tbody>\n",
       "    <tr>\n",
       "      <th>count</th>\n",
       "      <td>10.000000</td>\n",
       "      <td>10.000000</td>\n",
       "    </tr>\n",
       "    <tr>\n",
       "      <th>mean</th>\n",
       "      <td>26.100000</td>\n",
       "      <td>3300.000000</td>\n",
       "    </tr>\n",
       "    <tr>\n",
       "      <th>std</th>\n",
       "      <td>3.665151</td>\n",
       "      <td>1494.434118</td>\n",
       "    </tr>\n",
       "    <tr>\n",
       "      <th>min</th>\n",
       "      <td>21.000000</td>\n",
       "      <td>1000.000000</td>\n",
       "    </tr>\n",
       "    <tr>\n",
       "      <th>25%</th>\n",
       "      <td>24.250000</td>\n",
       "      <td>2250.000000</td>\n",
       "    </tr>\n",
       "    <tr>\n",
       "      <th>50%</th>\n",
       "      <td>25.500000</td>\n",
       "      <td>3000.000000</td>\n",
       "    </tr>\n",
       "    <tr>\n",
       "      <th>75%</th>\n",
       "      <td>28.750000</td>\n",
       "      <td>4000.000000</td>\n",
       "    </tr>\n",
       "    <tr>\n",
       "      <th>max</th>\n",
       "      <td>32.000000</td>\n",
       "      <td>6000.000000</td>\n",
       "    </tr>\n",
       "  </tbody>\n",
       "</table>\n",
       "</div>"
      ],
      "text/plain": [
       "             Yaş         Maaş\n",
       "count  10.000000    10.000000\n",
       "mean   26.100000  3300.000000\n",
       "std     3.665151  1494.434118\n",
       "min    21.000000  1000.000000\n",
       "25%    24.250000  2250.000000\n",
       "50%    25.500000  3000.000000\n",
       "75%    28.750000  4000.000000\n",
       "max    32.000000  6000.000000"
      ]
     },
     "execution_count": 13,
     "metadata": {},
     "output_type": "execute_result"
    }
   ],
   "source": [
    "import pandas as pd\n",
    "import numpy as np\n",
    "\n",
    "data = {\n",
    "    'Ad': pd.Series(['Furkan','Kemal','Osman','Mehmet','Şaban','Zeynep','Fatma','Buse','İrem','Nihal']),\n",
    "    'Yaş': pd.Series([21,25,30,24,28,26,29,32,21,25]),\n",
    "    'Meslek': pd.Series(['mühendis','doktor','polis','pilot','komedyen','mimar','avukat','öğretmen','diyetisyen','hemşire']),\n",
    "    'Maaş': pd.Series([1000,2000,3000,5000,4000,3000,6000,2000,3000,4000])\n",
    "}\n",
    "df = pd.DataFrame(data)\n",
    "df.describe(include=['number'])"
   ]
  },
  {
   "cell_type": "code",
   "execution_count": null,
   "metadata": {},
   "outputs": [],
   "source": []
  },
  {
   "cell_type": "code",
   "execution_count": null,
   "metadata": {},
   "outputs": [],
   "source": []
  },
  {
   "cell_type": "code",
   "execution_count": null,
   "metadata": {},
   "outputs": [],
   "source": []
  },
  {
   "cell_type": "code",
   "execution_count": null,
   "metadata": {},
   "outputs": [],
   "source": []
  },
  {
   "cell_type": "code",
   "execution_count": null,
   "metadata": {},
   "outputs": [],
   "source": []
  }
 ],
 "metadata": {
  "kernelspec": {
   "display_name": "Python 3",
   "language": "python",
   "name": "python3"
  },
  "language_info": {
   "codemirror_mode": {
    "name": "ipython",
    "version": 3
   },
   "file_extension": ".py",
   "mimetype": "text/x-python",
   "name": "python",
   "nbconvert_exporter": "python",
   "pygments_lexer": "ipython3",
   "version": "3.7.3"
  }
 },
 "nbformat": 4,
 "nbformat_minor": 4
}
