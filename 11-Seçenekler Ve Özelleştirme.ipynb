{
 "cells": [
  {
   "cell_type": "markdown",
   "metadata": {},
   "source": [
    "# PYTHON Pandas - Seçecekler Ve Özelleştirme\n",
    "Pandas, davranışının bazı yönlerini özelleştirmek için API sağlar, ekran çoğunlukla kullanılır.\n",
    "API, ilgili beş işlevden oluşur. Bunlar:\n",
    "- get_option()\n",
    "- set_option()\n",
    "- reset_option()\n",
    "- describe_option()\n",
    "- option_context()\n",
    "Şimdi fonksiyonların nasıl çalıştığını anlayalım.\n",
    "\n",
    "## get_option(param)\n",
    "get_option tek bir parametre alır ve aşağıdaki çıktıda verilen değeri döndürür.\n",
    "### display.max_rows\n",
    "Varsayılan değer sayısını görüntüler. Yorumlayıcı bu değeri okur ve bu değere sahip satırları görüntülemek için üst sınır olarak görüntüler."
   ]
  },
  {
   "cell_type": "code",
   "execution_count": 13,
   "metadata": {},
   "outputs": [
    {
     "name": "stdout",
     "output_type": "stream",
     "text": [
      "100\n"
     ]
    }
   ],
   "source": [
    "import pandas as pd\n",
    "print(pd.get_option(\"display.max_rows\"))"
   ]
  },
  {
   "cell_type": "markdown",
   "metadata": {},
   "source": [
    "### display.max_columns\n",
    "Varsayılan değer sayısını görüntüler. Yorumlayıcı bu değeri okur ve bu değere sahip satırları görüntülemek için üst sınır olarak görüntüler."
   ]
  },
  {
   "cell_type": "code",
   "execution_count": 2,
   "metadata": {},
   "outputs": [
    {
     "name": "stdout",
     "output_type": "stream",
     "text": [
      "20\n"
     ]
    }
   ],
   "source": [
    "import pandas as pd\n",
    "print(pd.get_option(\"display.max_columns\"))"
   ]
  },
  {
   "cell_type": "markdown",
   "metadata": {},
   "source": [
    "Burada, 60 ve 20 varsayılan yapılandırma parametre değerleridir.\n",
    "\n",
    "## set_option(param,value)"
   ]
  },
  {
   "cell_type": "markdown",
   "metadata": {},
   "source": [
    "set_option iki bağımsız değişken alır ve değeri aşağıda gösterildiği gibi parametreye ayarlar.\n",
    "\n",
    "### display.max_rows\n",
    "Set_option () kullanarak, görüntülenecek varsayılan satır sayısını değiştirebiliriz."
   ]
  },
  {
   "cell_type": "code",
   "execution_count": 5,
   "metadata": {},
   "outputs": [
    {
     "name": "stdout",
     "output_type": "stream",
     "text": [
      "100\n"
     ]
    }
   ],
   "source": [
    "import pandas as pd\n",
    "pd.set_option(\"display.max_columns\",100)\n",
    "print(pd.get_option(\"display.max_rows\"))"
   ]
  },
  {
   "cell_type": "markdown",
   "metadata": {},
   "source": [
    "### display.max_columns\n",
    "Set_option () kullanarak, görüntülenecek varsayılan satır sayısını değiştirebiliriz."
   ]
  },
  {
   "cell_type": "code",
   "execution_count": 6,
   "metadata": {},
   "outputs": [
    {
     "name": "stdout",
     "output_type": "stream",
     "text": [
      "200\n"
     ]
    }
   ],
   "source": [
    "import pandas as pd\n",
    "pd.set_option(\"display.max_columns\",200)\n",
    "print(pd.get_option(\"display.max_columns\"))"
   ]
  },
  {
   "cell_type": "markdown",
   "metadata": {},
   "source": [
    "## reset_option(param)\n",
    "reset_option bir bağımsız değişken alır ve değeri varsayılan değere ayarlar.\n",
    "\n",
    "### display.max_rows\n",
    "Reset_option() kullanarak, değeri görüntülenecek varsayılan satır sayısına geri dönüştürebiliriz."
   ]
  },
  {
   "cell_type": "code",
   "execution_count": 9,
   "metadata": {},
   "outputs": [
    {
     "name": "stdout",
     "output_type": "stream",
     "text": [
      "100\n",
      "20\n"
     ]
    }
   ],
   "source": [
    "import pandas as pd\n",
    "pd.set_option(\"display.max_columns\",100)\n",
    "print(pd.get_option(\"display.max_columns\"))\n",
    "pd.reset_option('display.max_columns')\n",
    "print(pd.get_option(\"display.max_columns\"))"
   ]
  },
  {
   "cell_type": "markdown",
   "metadata": {},
   "source": [
    "## describe_option(param)\n",
    "describe_option bağımsız değişken açıklamasını yazdırır.\n",
    "\n",
    "### display.max_rows\n",
    "Reset_option() kullanarak, değeri görüntülenecek varsayılan satır sayısına geri değiştirebiliriz."
   ]
  },
  {
   "cell_type": "code",
   "execution_count": 10,
   "metadata": {},
   "outputs": [
    {
     "name": "stdout",
     "output_type": "stream",
     "text": [
      "display.max_rows : int\n",
      "    If max_rows is exceeded, switch to truncate view. Depending on\n",
      "    `large_repr`, objects are either centrally truncated or printed as\n",
      "    a summary view. 'None' value means unlimited.\n",
      "\n",
      "    In case python/IPython is running in a terminal and `large_repr`\n",
      "    equals 'truncate' this can be set to 0 and pandas will auto-detect\n",
      "    the height of the terminal and print a truncated object which fits\n",
      "    the screen height. The IPython notebook, IPython qtconsole, or\n",
      "    IDLE do not run in a terminal and hence it is not possible to do\n",
      "    correct auto-detection.\n",
      "    [default: 60] [currently: 100]\n",
      "\n",
      "\n"
     ]
    }
   ],
   "source": [
    "import pandas as pd\n",
    "pd.describe_option(\"display.max_rows\")"
   ]
  },
  {
   "cell_type": "markdown",
   "metadata": {},
   "source": [
    "## option_context()\n",
    "option_context context manager seçeneği ayarlamak için kullanılan WITH deyimi geçici olarak atar. Blok ile çıktığınızda seçenek değerleri otomatik olarak geri yüklenir."
   ]
  },
  {
   "cell_type": "code",
   "execution_count": 11,
   "metadata": {},
   "outputs": [
    {
     "name": "stdout",
     "output_type": "stream",
     "text": [
      "10\n",
      "10\n"
     ]
    }
   ],
   "source": [
    "import pandas as pd\n",
    "with pd.option_context(\"display.max_rows\",10):\n",
    "   print(pd.get_option(\"display.max_rows\"))\n",
    "   print(pd.get_option(\"display.max_rows\"))"
   ]
  },
  {
   "cell_type": "markdown",
   "metadata": {},
   "source": [
    "Birinci ve ikinci baskı ifadeleri arasındaki fark. İlk ifade, WITH bağlamı içinde geçici olan option_context() tarafından ayarlanan değeri yazdırır. Wıth bağlamından sonra, ikinci print deyimi yapılandırılmış değeri yazdırır."
   ]
  },
  {
   "cell_type": "code",
   "execution_count": null,
   "metadata": {},
   "outputs": [],
   "source": []
  },
  {
   "cell_type": "code",
   "execution_count": null,
   "metadata": {},
   "outputs": [],
   "source": []
  },
  {
   "cell_type": "code",
   "execution_count": null,
   "metadata": {},
   "outputs": [],
   "source": []
  },
  {
   "cell_type": "code",
   "execution_count": null,
   "metadata": {},
   "outputs": [],
   "source": []
  }
 ],
 "metadata": {
  "kernelspec": {
   "display_name": "Python 3",
   "language": "python",
   "name": "python3"
  },
  "language_info": {
   "codemirror_mode": {
    "name": "ipython",
    "version": 3
   },
   "file_extension": ".py",
   "mimetype": "text/x-python",
   "name": "python",
   "nbconvert_exporter": "python",
   "pygments_lexer": "ipython3",
   "version": "3.7.3"
  }
 },
 "nbformat": 4,
 "nbformat_minor": 4
}
