{
 "cells": [
  {
   "cell_type": "markdown",
   "metadata": {},
   "source": [
    "# PYTHON Pandas - Groupby\n",
    "Herhangi bir groupby işlemi, özgün nesne üzerinde aşağıdaki işlemlerden birini içerir. Bunlar:\n",
    "- Nesneyi bölme\n",
    "- Bir işlev uygulama\n",
    "- Sonuçları birleştirmek\n",
    "\n",
    "Birçok durumda, verileri kümelere bölüyoruz ve her bir alt kümeye bazı işlevler uyguluyoruz. Uygula işlevinde, aşağıdaki işlemleri gerçekleştirebiliriz.\n",
    "- Aggregation(toplama): Özet istatistiği hesaplar\n",
    "- Transformation(dönüşüm): Gruba özgü bazı işlemleri gerçekleştirir\n",
    "- Filtration(filtre): Verileri bazı koşullarla atar.\n",
    "\n",
    "Şimdi bir DataFrame nesnesi oluşturalım ve üzerindeki tüm işlemleri gerçekleştirelim."
   ]
  },
  {
   "cell_type": "code",
   "execution_count": 1,
   "metadata": {},
   "outputs": [
    {
     "data": {
      "text/html": [
       "<div>\n",
       "<style scoped>\n",
       "    .dataframe tbody tr th:only-of-type {\n",
       "        vertical-align: middle;\n",
       "    }\n",
       "\n",
       "    .dataframe tbody tr th {\n",
       "        vertical-align: top;\n",
       "    }\n",
       "\n",
       "    .dataframe thead th {\n",
       "        text-align: right;\n",
       "    }\n",
       "</style>\n",
       "<table border=\"1\" class=\"dataframe\">\n",
       "  <thead>\n",
       "    <tr style=\"text-align: right;\">\n",
       "      <th></th>\n",
       "      <th>Kisiler</th>\n",
       "      <th>Yas</th>\n",
       "      <th>Grup</th>\n",
       "      <th>Dyili</th>\n",
       "      <th>Numaralari</th>\n",
       "    </tr>\n",
       "  </thead>\n",
       "  <tbody>\n",
       "    <tr>\n",
       "      <th>0</th>\n",
       "      <td>Furkan</td>\n",
       "      <td>21</td>\n",
       "      <td>1</td>\n",
       "      <td>1998</td>\n",
       "      <td>753</td>\n",
       "    </tr>\n",
       "    <tr>\n",
       "      <th>1</th>\n",
       "      <td>Kemal</td>\n",
       "      <td>24</td>\n",
       "      <td>3</td>\n",
       "      <td>1995</td>\n",
       "      <td>268</td>\n",
       "    </tr>\n",
       "    <tr>\n",
       "      <th>2</th>\n",
       "      <td>Osman</td>\n",
       "      <td>32</td>\n",
       "      <td>2</td>\n",
       "      <td>1987</td>\n",
       "      <td>257</td>\n",
       "    </tr>\n",
       "    <tr>\n",
       "      <th>3</th>\n",
       "      <td>Ayse</td>\n",
       "      <td>23</td>\n",
       "      <td>3</td>\n",
       "      <td>1996</td>\n",
       "      <td>478</td>\n",
       "    </tr>\n",
       "    <tr>\n",
       "      <th>4</th>\n",
       "      <td>Zeynep</td>\n",
       "      <td>15</td>\n",
       "      <td>1</td>\n",
       "      <td>2004</td>\n",
       "      <td>469</td>\n",
       "    </tr>\n",
       "    <tr>\n",
       "      <th>5</th>\n",
       "      <td>Merve</td>\n",
       "      <td>27</td>\n",
       "      <td>2</td>\n",
       "      <td>1992</td>\n",
       "      <td>135</td>\n",
       "    </tr>\n",
       "  </tbody>\n",
       "</table>\n",
       "</div>"
      ],
      "text/plain": [
       "  Kisiler  Yas  Grup  Dyili  Numaralari\n",
       "0  Furkan   21     1   1998         753\n",
       "1   Kemal   24     3   1995         268\n",
       "2   Osman   32     2   1987         257\n",
       "3    Ayse   23     3   1996         478\n",
       "4  Zeynep   15     1   2004         469\n",
       "5   Merve   27     2   1992         135"
      ]
     },
     "execution_count": 1,
     "metadata": {},
     "output_type": "execute_result"
    }
   ],
   "source": [
    "import pandas as pd\n",
    "\n",
    "data = {\n",
    "    'Kisiler': ['Furkan','Kemal','Osman','Ayse','Zeynep','Merve'],\n",
    "    'Yas': [21,24,32,23,15,27],\n",
    "    'Grup': [1,3,2,3,1,2],\n",
    "    'Dyili': [1998,1995,1987,1996,2004,1992],\n",
    "    'Numaralari': [753,268,257,478,469,135]\n",
    "}\n",
    "df = pd.DataFrame(data)\n",
    "df"
   ]
  },
  {
   "cell_type": "markdown",
   "metadata": {},
   "source": [
    "## Verileri Gruplara Bölme\n",
    "Bir nesneyi bölmenin birçok yolu vardır. Bunlar:\n",
    "- obj.groupby('key')\n",
    "- obj.groupby(['key1','key2'])\n",
    "- obj.groupby(key,axis=1)\n",
    "\n",
    "Şimdi gruplama nesnelerinin DataFrame nesnesine nasıl uygulanabileceğini görelim.\n",
    "\n",
    "**Örnek**"
   ]
  },
  {
   "cell_type": "code",
   "execution_count": 10,
   "metadata": {},
   "outputs": [
    {
     "data": {
      "text/plain": [
       "<pandas.core.groupby.generic.DataFrameGroupBy object at 0x0000006C42C7C438>"
      ]
     },
     "execution_count": 10,
     "metadata": {},
     "output_type": "execute_result"
    }
   ],
   "source": [
    "import pandas as pd\n",
    "\n",
    "data = {\n",
    "    'Takım': ['Furkan','Osman','Osman','Merve','Furkan','Merve'],\n",
    "    'Yas': [21,27,25,25,21,27],\n",
    "    'Grup': [1,3,2,3,1,2],\n",
    "    'Dyili': [1998,1995,1996,1996,1995,1998],\n",
    "    'Numaralari': [753,268,257,478,469,135]\n",
    "}\n",
    "df = pd.DataFrame(data)\n",
    "\n",
    "df.groupby('Takım')"
   ]
  },
  {
   "cell_type": "markdown",
   "metadata": {},
   "source": [
    "## Grupları Görüntüleme"
   ]
  },
  {
   "cell_type": "code",
   "execution_count": 11,
   "metadata": {},
   "outputs": [
    {
     "data": {
      "text/plain": [
       "{'Furkan': Int64Index([0, 4], dtype='int64'),\n",
       " 'Merve': Int64Index([3, 5], dtype='int64'),\n",
       " 'Osman': Int64Index([1, 2], dtype='int64')}"
      ]
     },
     "execution_count": 11,
     "metadata": {},
     "output_type": "execute_result"
    }
   ],
   "source": [
    "import pandas as pd\n",
    "\n",
    "data = {\n",
    "    'Takım': ['Furkan','Osman','Osman','Merve','Furkan','Merve'],\n",
    "    'Yas': [21,27,25,25,21,27],\n",
    "    'Grup': [1,3,2,3,1,2],\n",
    "    'Dyili': [1998,1995,1996,1996,1995,1998],\n",
    "    'Numaralari': [753,268,257,478,469,135]\n",
    "}\n",
    "df = pd.DataFrame(data)\n",
    "\n",
    "df.groupby('Takım').groups"
   ]
  },
  {
   "cell_type": "markdown",
   "metadata": {},
   "source": [
    "**Örnek**"
   ]
  },
  {
   "cell_type": "code",
   "execution_count": 12,
   "metadata": {},
   "outputs": [
    {
     "data": {
      "text/plain": [
       "{('Furkan', 21): Int64Index([0, 4], dtype='int64'),\n",
       " ('Merve', 25): Int64Index([3], dtype='int64'),\n",
       " ('Merve', 27): Int64Index([5], dtype='int64'),\n",
       " ('Osman', 25): Int64Index([2], dtype='int64'),\n",
       " ('Osman', 27): Int64Index([1], dtype='int64')}"
      ]
     },
     "execution_count": 12,
     "metadata": {},
     "output_type": "execute_result"
    }
   ],
   "source": [
    "import pandas as pd\n",
    "\n",
    "data = {\n",
    "    'Takım': ['Furkan','Osman','Osman','Merve','Furkan','Merve'],\n",
    "    'Yas': [21,27,25,25,21,27],\n",
    "    'Grup': [1,3,2,3,1,2],\n",
    "    'Dyili': [1998,1995,1996,1996,1995,1998],\n",
    "    'Numaralari': [753,268,257,478,469,135]\n",
    "}\n",
    "df = pd.DataFrame(data)\n",
    "\n",
    "df.groupby(['Takım','Yas']).groups"
   ]
  },
  {
   "cell_type": "markdown",
   "metadata": {},
   "source": [
    "## Gruplar Arasında Yineleme\n",
    "Groupby nesnesi el ile, itertools'a benzer nesne boyunca yineleyebiliriz."
   ]
  },
  {
   "cell_type": "code",
   "execution_count": 17,
   "metadata": {},
   "outputs": [
    {
     "name": "stdout",
     "output_type": "stream",
     "text": [
      "1995\n",
      "    Takım  Yas  Grup  Dyili  Numaralari\n",
      "1   Osman   27     3   1995         268\n",
      "4  Furkan   21     1   1995         469\n",
      "\n",
      "\n",
      "1996\n",
      "   Takım  Yas  Grup  Dyili  Numaralari\n",
      "2  Osman   25     2   1996         257\n",
      "3  Merve   25     3   1996         478\n",
      "\n",
      "\n",
      "1998\n",
      "    Takım  Yas  Grup  Dyili  Numaralari\n",
      "0  Furkan   21     1   1998         753\n",
      "5   Merve   27     2   1998         135\n",
      "\n",
      "\n"
     ]
    }
   ],
   "source": [
    "import pandas as pd\n",
    "\n",
    "data = {\n",
    "    'Takım': ['Furkan','Osman','Osman','Merve','Furkan','Merve'],\n",
    "    'Yas': [21,27,25,25,21,27],\n",
    "    'Grup': [1,3,2,3,1,2],\n",
    "    'Dyili': [1998,1995,1996,1996,1995,1998],\n",
    "    'Numaralari': [753,268,257,478,469,135]\n",
    "}\n",
    "df = pd.DataFrame(data)\n",
    "\n",
    "grouped = df.groupby('Dyili')\n",
    "\n",
    "for name,group in grouped:\n",
    "    print(name)\n",
    "    print(group)\n",
    "    print('\\n')"
   ]
  },
  {
   "cell_type": "markdown",
   "metadata": {},
   "source": [
    "## Grup Seçmek\n",
    "Get_group () yöntemini kullanarak, tek bir grup seçebiliriz."
   ]
  },
  {
   "cell_type": "code",
   "execution_count": 19,
   "metadata": {},
   "outputs": [
    {
     "data": {
      "text/html": [
       "<div>\n",
       "<style scoped>\n",
       "    .dataframe tbody tr th:only-of-type {\n",
       "        vertical-align: middle;\n",
       "    }\n",
       "\n",
       "    .dataframe tbody tr th {\n",
       "        vertical-align: top;\n",
       "    }\n",
       "\n",
       "    .dataframe thead th {\n",
       "        text-align: right;\n",
       "    }\n",
       "</style>\n",
       "<table border=\"1\" class=\"dataframe\">\n",
       "  <thead>\n",
       "    <tr style=\"text-align: right;\">\n",
       "      <th></th>\n",
       "      <th>Takım</th>\n",
       "      <th>Yas</th>\n",
       "      <th>Grup</th>\n",
       "      <th>Dyili</th>\n",
       "      <th>Numaralari</th>\n",
       "    </tr>\n",
       "  </thead>\n",
       "  <tbody>\n",
       "    <tr>\n",
       "      <th>0</th>\n",
       "      <td>Furkan</td>\n",
       "      <td>21</td>\n",
       "      <td>1</td>\n",
       "      <td>1998</td>\n",
       "      <td>753</td>\n",
       "    </tr>\n",
       "    <tr>\n",
       "      <th>5</th>\n",
       "      <td>Merve</td>\n",
       "      <td>27</td>\n",
       "      <td>2</td>\n",
       "      <td>1998</td>\n",
       "      <td>135</td>\n",
       "    </tr>\n",
       "  </tbody>\n",
       "</table>\n",
       "</div>"
      ],
      "text/plain": [
       "    Takım  Yas  Grup  Dyili  Numaralari\n",
       "0  Furkan   21     1   1998         753\n",
       "5   Merve   27     2   1998         135"
      ]
     },
     "execution_count": 19,
     "metadata": {},
     "output_type": "execute_result"
    }
   ],
   "source": [
    "import pandas as pd\n",
    "\n",
    "data = {\n",
    "    'Takım': ['Furkan','Osman','Osman','Merve','Furkan','Merve'],\n",
    "    'Yas': [21,27,25,25,21,27],\n",
    "    'Grup': [1,3,2,3,1,2],\n",
    "    'Dyili': [1998,1995,1996,1996,1995,1998],\n",
    "    'Numaralari': [753,268,257,478,469,135]\n",
    "}\n",
    "df = pd.DataFrame(data)\n",
    "\n",
    "grouped = df.groupby('Dyili')\n",
    "grouped.get_group(1998)"
   ]
  },
  {
   "cell_type": "markdown",
   "metadata": {},
   "source": [
    "## Aggregations(toplama)\n",
    "Toplanmış bir işlev, her grup için tek bir toplanmış değer döndürür. Groupby nesnesi oluşturulduktan sonra, gruplanmış veriler üzerinde birkaç toplama işlemi gerçekleştirilebilir."
   ]
  },
  {
   "cell_type": "code",
   "execution_count": 23,
   "metadata": {},
   "outputs": [
    {
     "data": {
      "text/plain": [
       "Dyili\n",
       "1995    368.5\n",
       "1996    367.5\n",
       "1998    444.0\n",
       "Name: Numaralari, dtype: float64"
      ]
     },
     "execution_count": 23,
     "metadata": {},
     "output_type": "execute_result"
    }
   ],
   "source": [
    "import pandas as pd\n",
    "import numpy as np\n",
    "\n",
    "data = {\n",
    "    'Takım': ['Furkan','Osman','Osman','Merve','Furkan','Merve'],\n",
    "    'Yas': [21,27,25,25,21,27],\n",
    "    'Grup': [1,3,2,3,1,2],\n",
    "    'Dyili': [1998,1995,1996,1996,1995,1998],\n",
    "    'Numaralari': [753,268,257,478,469,135]\n",
    "}\n",
    "df = pd.DataFrame(data)\n",
    "\n",
    "grouped = df.groupby('Dyili')\n",
    "grouped['Numaralari'].agg(np.mean)"
   ]
  },
  {
   "cell_type": "markdown",
   "metadata": {},
   "source": [
    "### Aynı anda birden fazla toplama işlevi uygulamak\n",
    "Gruplandırılmış serilerle, toplama yapmak için bir liste veya işlev dict'i de geçirebilir ve çıktı olarak DataFrame oluşturabilirsiniz."
   ]
  },
  {
   "cell_type": "code",
   "execution_count": 24,
   "metadata": {},
   "outputs": [
    {
     "data": {
      "text/html": [
       "<div>\n",
       "<style scoped>\n",
       "    .dataframe tbody tr th:only-of-type {\n",
       "        vertical-align: middle;\n",
       "    }\n",
       "\n",
       "    .dataframe tbody tr th {\n",
       "        vertical-align: top;\n",
       "    }\n",
       "\n",
       "    .dataframe thead th {\n",
       "        text-align: right;\n",
       "    }\n",
       "</style>\n",
       "<table border=\"1\" class=\"dataframe\">\n",
       "  <thead>\n",
       "    <tr style=\"text-align: right;\">\n",
       "      <th></th>\n",
       "      <th>sum</th>\n",
       "      <th>mean</th>\n",
       "      <th>std</th>\n",
       "    </tr>\n",
       "    <tr>\n",
       "      <th>Dyili</th>\n",
       "      <th></th>\n",
       "      <th></th>\n",
       "      <th></th>\n",
       "    </tr>\n",
       "  </thead>\n",
       "  <tbody>\n",
       "    <tr>\n",
       "      <th>1995</th>\n",
       "      <td>737</td>\n",
       "      <td>368.5</td>\n",
       "      <td>142.128463</td>\n",
       "    </tr>\n",
       "    <tr>\n",
       "      <th>1996</th>\n",
       "      <td>735</td>\n",
       "      <td>367.5</td>\n",
       "      <td>156.270599</td>\n",
       "    </tr>\n",
       "    <tr>\n",
       "      <th>1998</th>\n",
       "      <td>888</td>\n",
       "      <td>444.0</td>\n",
       "      <td>436.991991</td>\n",
       "    </tr>\n",
       "  </tbody>\n",
       "</table>\n",
       "</div>"
      ],
      "text/plain": [
       "       sum   mean         std\n",
       "Dyili                        \n",
       "1995   737  368.5  142.128463\n",
       "1996   735  367.5  156.270599\n",
       "1998   888  444.0  436.991991"
      ]
     },
     "execution_count": 24,
     "metadata": {},
     "output_type": "execute_result"
    }
   ],
   "source": [
    "import pandas as pd\n",
    "import numpy as np\n",
    "\n",
    "data = {\n",
    "    'Takım': ['Furkan','Osman','Osman','Merve','Furkan','Merve'],\n",
    "    'Yas': [21,27,25,25,21,27],\n",
    "    'Grup': [1,3,2,3,1,2],\n",
    "    'Dyili': [1998,1995,1996,1996,1995,1998],\n",
    "    'Numaralari': [753,268,257,478,469,135]\n",
    "}\n",
    "df = pd.DataFrame(data)\n",
    "\n",
    "grouped = df.groupby('Dyili')\n",
    "grouped['Numaralari'].agg([np.sum,np.mean,np.std])"
   ]
  },
  {
   "cell_type": "markdown",
   "metadata": {},
   "source": [
    "## Transformations (Dönüşüm)\n",
    "Bir grup veya sütun dönüştürme, gruplandırılmış aynı boyutta dizinlenmiş bir nesne döndürür. Bu nedenle, dönüşüm, bir grup yığınının boyutuyla aynı olan bir sonuç döndürmelidir."
   ]
  },
  {
   "cell_type": "code",
   "execution_count": 25,
   "metadata": {},
   "outputs": [
    {
     "data": {
      "text/html": [
       "<div>\n",
       "<style scoped>\n",
       "    .dataframe tbody tr th:only-of-type {\n",
       "        vertical-align: middle;\n",
       "    }\n",
       "\n",
       "    .dataframe tbody tr th {\n",
       "        vertical-align: top;\n",
       "    }\n",
       "\n",
       "    .dataframe thead th {\n",
       "        text-align: right;\n",
       "    }\n",
       "</style>\n",
       "<table border=\"1\" class=\"dataframe\">\n",
       "  <thead>\n",
       "    <tr style=\"text-align: right;\">\n",
       "      <th></th>\n",
       "      <th>Yas</th>\n",
       "      <th>Grup</th>\n",
       "      <th>Numaralari</th>\n",
       "    </tr>\n",
       "  </thead>\n",
       "  <tbody>\n",
       "    <tr>\n",
       "      <th>0</th>\n",
       "      <td>-7.071068</td>\n",
       "      <td>-7.071068</td>\n",
       "      <td>7.071068</td>\n",
       "    </tr>\n",
       "    <tr>\n",
       "      <th>1</th>\n",
       "      <td>7.071068</td>\n",
       "      <td>7.071068</td>\n",
       "      <td>-7.071068</td>\n",
       "    </tr>\n",
       "    <tr>\n",
       "      <th>2</th>\n",
       "      <td>NaN</td>\n",
       "      <td>-7.071068</td>\n",
       "      <td>-7.071068</td>\n",
       "    </tr>\n",
       "    <tr>\n",
       "      <th>3</th>\n",
       "      <td>NaN</td>\n",
       "      <td>7.071068</td>\n",
       "      <td>7.071068</td>\n",
       "    </tr>\n",
       "    <tr>\n",
       "      <th>4</th>\n",
       "      <td>-7.071068</td>\n",
       "      <td>-7.071068</td>\n",
       "      <td>7.071068</td>\n",
       "    </tr>\n",
       "    <tr>\n",
       "      <th>5</th>\n",
       "      <td>7.071068</td>\n",
       "      <td>7.071068</td>\n",
       "      <td>-7.071068</td>\n",
       "    </tr>\n",
       "  </tbody>\n",
       "</table>\n",
       "</div>"
      ],
      "text/plain": [
       "        Yas      Grup  Numaralari\n",
       "0 -7.071068 -7.071068    7.071068\n",
       "1  7.071068  7.071068   -7.071068\n",
       "2       NaN -7.071068   -7.071068\n",
       "3       NaN  7.071068    7.071068\n",
       "4 -7.071068 -7.071068    7.071068\n",
       "5  7.071068  7.071068   -7.071068"
      ]
     },
     "execution_count": 25,
     "metadata": {},
     "output_type": "execute_result"
    }
   ],
   "source": [
    "import pandas as pd\n",
    "import numpy as np\n",
    "\n",
    "data = {\n",
    "    'Takım': ['Furkan','Osman','Osman','Merve','Furkan','Merve'],\n",
    "    'Yas': [21,27,25,25,21,27],\n",
    "    'Grup': [1,3,2,3,1,2],\n",
    "    'Dyili': [1998,1995,1996,1996,1995,1998],\n",
    "    'Numaralari': [753,268,257,478,469,135]\n",
    "}\n",
    "df = pd.DataFrame(data)\n",
    "\n",
    "grouped = df.groupby('Dyili')\n",
    "score = lambda x: (x-x.mean()) / x.std()*10\n",
    "grouped.transform(score)"
   ]
  },
  {
   "cell_type": "markdown",
   "metadata": {},
   "source": [
    "## Filtration (filtre)\n",
    "Filtrasyon, tanımlanmış bir ölçütteki verileri filtreler ve verilerin alt kümesini döndürür. filter() işlevi verileri filtrelemek için kullanılır."
   ]
  },
  {
   "cell_type": "code",
   "execution_count": 41,
   "metadata": {},
   "outputs": [
    {
     "data": {
      "text/html": [
       "<div>\n",
       "<style scoped>\n",
       "    .dataframe tbody tr th:only-of-type {\n",
       "        vertical-align: middle;\n",
       "    }\n",
       "\n",
       "    .dataframe tbody tr th {\n",
       "        vertical-align: top;\n",
       "    }\n",
       "\n",
       "    .dataframe thead th {\n",
       "        text-align: right;\n",
       "    }\n",
       "</style>\n",
       "<table border=\"1\" class=\"dataframe\">\n",
       "  <thead>\n",
       "    <tr style=\"text-align: right;\">\n",
       "      <th></th>\n",
       "      <th>Takım</th>\n",
       "      <th>Yas</th>\n",
       "      <th>Grup</th>\n",
       "      <th>Dyili</th>\n",
       "      <th>Numaralari</th>\n",
       "    </tr>\n",
       "  </thead>\n",
       "  <tbody>\n",
       "    <tr>\n",
       "      <th>0</th>\n",
       "      <td>Furkan</td>\n",
       "      <td>21</td>\n",
       "      <td>1</td>\n",
       "      <td>1998</td>\n",
       "      <td>753</td>\n",
       "    </tr>\n",
       "    <tr>\n",
       "      <th>1</th>\n",
       "      <td>Osman</td>\n",
       "      <td>27</td>\n",
       "      <td>3</td>\n",
       "      <td>1995</td>\n",
       "      <td>268</td>\n",
       "    </tr>\n",
       "    <tr>\n",
       "      <th>2</th>\n",
       "      <td>Osman</td>\n",
       "      <td>25</td>\n",
       "      <td>2</td>\n",
       "      <td>1996</td>\n",
       "      <td>257</td>\n",
       "    </tr>\n",
       "    <tr>\n",
       "      <th>3</th>\n",
       "      <td>Merve</td>\n",
       "      <td>25</td>\n",
       "      <td>3</td>\n",
       "      <td>1996</td>\n",
       "      <td>478</td>\n",
       "    </tr>\n",
       "    <tr>\n",
       "      <th>4</th>\n",
       "      <td>Furkan</td>\n",
       "      <td>21</td>\n",
       "      <td>1</td>\n",
       "      <td>1995</td>\n",
       "      <td>469</td>\n",
       "    </tr>\n",
       "    <tr>\n",
       "      <th>5</th>\n",
       "      <td>Merve</td>\n",
       "      <td>27</td>\n",
       "      <td>2</td>\n",
       "      <td>1998</td>\n",
       "      <td>135</td>\n",
       "    </tr>\n",
       "  </tbody>\n",
       "</table>\n",
       "</div>"
      ],
      "text/plain": [
       "    Takım  Yas  Grup  Dyili  Numaralari\n",
       "0  Furkan   21     1   1998         753\n",
       "1   Osman   27     3   1995         268\n",
       "2   Osman   25     2   1996         257\n",
       "3   Merve   25     3   1996         478\n",
       "4  Furkan   21     1   1995         469\n",
       "5   Merve   27     2   1998         135"
      ]
     },
     "execution_count": 41,
     "metadata": {},
     "output_type": "execute_result"
    }
   ],
   "source": [
    "import pandas as pd\n",
    "import numpy as np\n",
    "\n",
    "data = {\n",
    "    'Takım': ['Furkan','Osman','Osman','Merve','Furkan','Merve'],\n",
    "    'Yas': [21,27,25,25,21,27],\n",
    "    'Grup': [1,3,2,3,1,2],\n",
    "    'Dyili': [1998,1995,1996,1996,1995,1998],\n",
    "    'Numaralari': [753,268,257,478,469,135]\n",
    "}\n",
    "df = pd.DataFrame(data)\n",
    "\n",
    "df.groupby('Takım').filter(lambda x: len(x) >= 2)"
   ]
  },
  {
   "cell_type": "code",
   "execution_count": null,
   "metadata": {},
   "outputs": [],
   "source": []
  },
  {
   "cell_type": "code",
   "execution_count": null,
   "metadata": {},
   "outputs": [],
   "source": []
  }
 ],
 "metadata": {
  "kernelspec": {
   "display_name": "Python 3",
   "language": "python",
   "name": "python3"
  },
  "language_info": {
   "codemirror_mode": {
    "name": "ipython",
    "version": 3
   },
   "file_extension": ".py",
   "mimetype": "text/x-python",
   "name": "python",
   "nbconvert_exporter": "python",
   "pygments_lexer": "ipython3",
   "version": "3.7.3"
  }
 },
 "nbformat": 4,
 "nbformat_minor": 4
}
