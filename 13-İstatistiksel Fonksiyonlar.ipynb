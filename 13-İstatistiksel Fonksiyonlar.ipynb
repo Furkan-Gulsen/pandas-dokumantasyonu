{
 "cells": [
  {
   "cell_type": "markdown",
   "metadata": {},
   "source": [
    "# PYTHON Pandas - İstatistiksel Fonksiyonlar\n",
    "İstatistiksel yöntemler, verilerin davranışını anlama ve analiz etmede yardımcı olur. Şimdi pandas nesnelerine uygulayabileceğimiz birkaç istatistiksel işlevi öğreneceğiz.\n",
    "\n",
    "## Percent_change\n",
    "Seri, DataFrame ve Panel, hepsi pct_change () işlevine sahiptir. Bu işlev, her öğeyi önceki öğesiyle karşılaştırır ve değişiklik yüzdesini hesaplar."
   ]
  },
  {
   "cell_type": "code",
   "execution_count": 1,
   "metadata": {},
   "outputs": [
    {
     "data": {
      "text/plain": [
       "0         NaN\n",
       "1    1.000000\n",
       "2    0.500000\n",
       "3    0.333333\n",
       "4    0.250000\n",
       "5   -0.200000\n",
       "dtype: float64"
      ]
     },
     "execution_count": 1,
     "metadata": {},
     "output_type": "execute_result"
    }
   ],
   "source": [
    "import pandas as pd\n",
    "import numpy as np\n",
    "seri = pd.Series([1,2,3,4,5,4])\n",
    "seri.pct_change()"
   ]
  },
  {
   "cell_type": "code",
   "execution_count": 2,
   "metadata": {},
   "outputs": [
    {
     "data": {
      "text/html": [
       "<div>\n",
       "<style scoped>\n",
       "    .dataframe tbody tr th:only-of-type {\n",
       "        vertical-align: middle;\n",
       "    }\n",
       "\n",
       "    .dataframe tbody tr th {\n",
       "        vertical-align: top;\n",
       "    }\n",
       "\n",
       "    .dataframe thead th {\n",
       "        text-align: right;\n",
       "    }\n",
       "</style>\n",
       "<table border=\"1\" class=\"dataframe\">\n",
       "  <thead>\n",
       "    <tr style=\"text-align: right;\">\n",
       "      <th></th>\n",
       "      <th>0</th>\n",
       "      <th>1</th>\n",
       "    </tr>\n",
       "  </thead>\n",
       "  <tbody>\n",
       "    <tr>\n",
       "      <th>0</th>\n",
       "      <td>NaN</td>\n",
       "      <td>NaN</td>\n",
       "    </tr>\n",
       "    <tr>\n",
       "      <th>1</th>\n",
       "      <td>-0.605088</td>\n",
       "      <td>-0.168288</td>\n",
       "    </tr>\n",
       "    <tr>\n",
       "      <th>2</th>\n",
       "      <td>1.162736</td>\n",
       "      <td>-3.167074</td>\n",
       "    </tr>\n",
       "    <tr>\n",
       "      <th>3</th>\n",
       "      <td>-0.046469</td>\n",
       "      <td>-1.991705</td>\n",
       "    </tr>\n",
       "    <tr>\n",
       "      <th>4</th>\n",
       "      <td>-2.336055</td>\n",
       "      <td>-1.374431</td>\n",
       "    </tr>\n",
       "  </tbody>\n",
       "</table>\n",
       "</div>"
      ],
      "text/plain": [
       "          0         1\n",
       "0       NaN       NaN\n",
       "1 -0.605088 -0.168288\n",
       "2  1.162736 -3.167074\n",
       "3 -0.046469 -1.991705\n",
       "4 -2.336055 -1.374431"
      ]
     },
     "execution_count": 2,
     "metadata": {},
     "output_type": "execute_result"
    }
   ],
   "source": [
    "df = pd.DataFrame(np.random.randn(5, 2))\n",
    "df.pct_change()"
   ]
  },
  {
   "cell_type": "markdown",
   "metadata": {},
   "source": [
    "Varsayılan olarak, pct_change () sütunlar üzerinde çalışır; aynı satırı bilge olarak uygulamak istiyorsanız, axis = 1 () bağımsız değişkenini kullanın.\n",
    "\n",
    "## Covariance\n",
    "Kovaryans seri verilere uygulanır. Series nesnesi, series nesneleri arasındaki kovaryansı hesaplamak için bir cov yöntemine sahiptir. NA otomatik olarak hariç tutulacaktır.\n",
    "\n",
    "### Cov Series"
   ]
  },
  {
   "cell_type": "code",
   "execution_count": 3,
   "metadata": {},
   "outputs": [
    {
     "data": {
      "text/plain": [
       "0.5395237481121569"
      ]
     },
     "execution_count": 3,
     "metadata": {},
     "output_type": "execute_result"
    }
   ],
   "source": [
    "import pandas as pd\n",
    "import numpy as np\n",
    "s1 = pd.Series(np.random.randn(10))\n",
    "s2 = pd.Series(np.random.randn(10))\n",
    "s1.cov(s2)"
   ]
  },
  {
   "cell_type": "markdown",
   "metadata": {},
   "source": [
    "Kovaryans yöntemi bir veri çerçevesine uygulandığında, tüm sütunlar arasında cov hesaplar."
   ]
  },
  {
   "cell_type": "code",
   "execution_count": 4,
   "metadata": {},
   "outputs": [
    {
     "data": {
      "text/plain": [
       "0.4558624586414784"
      ]
     },
     "execution_count": 4,
     "metadata": {},
     "output_type": "execute_result"
    }
   ],
   "source": [
    "import pandas as pd\n",
    "import numpy as np\n",
    "frame = pd.DataFrame(np.random.randn(10, 5), columns=['a', 'b', 'c', 'd', 'e'])\n",
    "frame['a'].cov(frame['b'])"
   ]
  },
  {
   "cell_type": "code",
   "execution_count": 5,
   "metadata": {},
   "outputs": [
    {
     "data": {
      "text/html": [
       "<div>\n",
       "<style scoped>\n",
       "    .dataframe tbody tr th:only-of-type {\n",
       "        vertical-align: middle;\n",
       "    }\n",
       "\n",
       "    .dataframe tbody tr th {\n",
       "        vertical-align: top;\n",
       "    }\n",
       "\n",
       "    .dataframe thead th {\n",
       "        text-align: right;\n",
       "    }\n",
       "</style>\n",
       "<table border=\"1\" class=\"dataframe\">\n",
       "  <thead>\n",
       "    <tr style=\"text-align: right;\">\n",
       "      <th></th>\n",
       "      <th>a</th>\n",
       "      <th>b</th>\n",
       "      <th>c</th>\n",
       "      <th>d</th>\n",
       "      <th>e</th>\n",
       "    </tr>\n",
       "  </thead>\n",
       "  <tbody>\n",
       "    <tr>\n",
       "      <th>a</th>\n",
       "      <td>1.556875</td>\n",
       "      <td>0.455862</td>\n",
       "      <td>0.010117</td>\n",
       "      <td>0.064173</td>\n",
       "      <td>0.460187</td>\n",
       "    </tr>\n",
       "    <tr>\n",
       "      <th>b</th>\n",
       "      <td>0.455862</td>\n",
       "      <td>1.059940</td>\n",
       "      <td>-0.078298</td>\n",
       "      <td>0.064050</td>\n",
       "      <td>0.109331</td>\n",
       "    </tr>\n",
       "    <tr>\n",
       "      <th>c</th>\n",
       "      <td>0.010117</td>\n",
       "      <td>-0.078298</td>\n",
       "      <td>1.035660</td>\n",
       "      <td>0.380862</td>\n",
       "      <td>-0.071474</td>\n",
       "    </tr>\n",
       "    <tr>\n",
       "      <th>d</th>\n",
       "      <td>0.064173</td>\n",
       "      <td>0.064050</td>\n",
       "      <td>0.380862</td>\n",
       "      <td>1.153634</td>\n",
       "      <td>0.237300</td>\n",
       "    </tr>\n",
       "    <tr>\n",
       "      <th>e</th>\n",
       "      <td>0.460187</td>\n",
       "      <td>0.109331</td>\n",
       "      <td>-0.071474</td>\n",
       "      <td>0.237300</td>\n",
       "      <td>0.782376</td>\n",
       "    </tr>\n",
       "  </tbody>\n",
       "</table>\n",
       "</div>"
      ],
      "text/plain": [
       "          a         b         c         d         e\n",
       "a  1.556875  0.455862  0.010117  0.064173  0.460187\n",
       "b  0.455862  1.059940 -0.078298  0.064050  0.109331\n",
       "c  0.010117 -0.078298  1.035660  0.380862 -0.071474\n",
       "d  0.064173  0.064050  0.380862  1.153634  0.237300\n",
       "e  0.460187  0.109331 -0.071474  0.237300  0.782376"
      ]
     },
     "execution_count": 5,
     "metadata": {},
     "output_type": "execute_result"
    }
   ],
   "source": [
    "frame.cov()"
   ]
  },
  {
   "cell_type": "markdown",
   "metadata": {},
   "source": [
    "## Correlation\n",
    "Korelasyon, herhangi iki değer dizisi (seri) arasındaki doğrusal ilişkiyi gösterir. Pearson(default), spearman ve kendall gibi korelasyonu hesaplamak için birden fazla yöntem vardır."
   ]
  },
  {
   "cell_type": "code",
   "execution_count": 6,
   "metadata": {},
   "outputs": [
    {
     "data": {
      "text/plain": [
       "0.008880333006314677"
      ]
     },
     "execution_count": 6,
     "metadata": {},
     "output_type": "execute_result"
    }
   ],
   "source": [
    "import pandas as pd\n",
    "import numpy as np\n",
    "frame = pd.DataFrame(np.random.randn(10, 5), columns=['a', 'b', 'c', 'd', 'e'])\n",
    "\n",
    "frame['a'].corr(frame['b'])"
   ]
  },
  {
   "cell_type": "code",
   "execution_count": 7,
   "metadata": {},
   "outputs": [
    {
     "data": {
      "text/html": [
       "<div>\n",
       "<style scoped>\n",
       "    .dataframe tbody tr th:only-of-type {\n",
       "        vertical-align: middle;\n",
       "    }\n",
       "\n",
       "    .dataframe tbody tr th {\n",
       "        vertical-align: top;\n",
       "    }\n",
       "\n",
       "    .dataframe thead th {\n",
       "        text-align: right;\n",
       "    }\n",
       "</style>\n",
       "<table border=\"1\" class=\"dataframe\">\n",
       "  <thead>\n",
       "    <tr style=\"text-align: right;\">\n",
       "      <th></th>\n",
       "      <th>a</th>\n",
       "      <th>b</th>\n",
       "      <th>c</th>\n",
       "      <th>d</th>\n",
       "      <th>e</th>\n",
       "    </tr>\n",
       "  </thead>\n",
       "  <tbody>\n",
       "    <tr>\n",
       "      <th>a</th>\n",
       "      <td>1.000000</td>\n",
       "      <td>0.008880</td>\n",
       "      <td>0.043211</td>\n",
       "      <td>0.104936</td>\n",
       "      <td>-0.092959</td>\n",
       "    </tr>\n",
       "    <tr>\n",
       "      <th>b</th>\n",
       "      <td>0.008880</td>\n",
       "      <td>1.000000</td>\n",
       "      <td>0.514105</td>\n",
       "      <td>0.626372</td>\n",
       "      <td>-0.115394</td>\n",
       "    </tr>\n",
       "    <tr>\n",
       "      <th>c</th>\n",
       "      <td>0.043211</td>\n",
       "      <td>0.514105</td>\n",
       "      <td>1.000000</td>\n",
       "      <td>0.348168</td>\n",
       "      <td>-0.199399</td>\n",
       "    </tr>\n",
       "    <tr>\n",
       "      <th>d</th>\n",
       "      <td>0.104936</td>\n",
       "      <td>0.626372</td>\n",
       "      <td>0.348168</td>\n",
       "      <td>1.000000</td>\n",
       "      <td>-0.602838</td>\n",
       "    </tr>\n",
       "    <tr>\n",
       "      <th>e</th>\n",
       "      <td>-0.092959</td>\n",
       "      <td>-0.115394</td>\n",
       "      <td>-0.199399</td>\n",
       "      <td>-0.602838</td>\n",
       "      <td>1.000000</td>\n",
       "    </tr>\n",
       "  </tbody>\n",
       "</table>\n",
       "</div>"
      ],
      "text/plain": [
       "          a         b         c         d         e\n",
       "a  1.000000  0.008880  0.043211  0.104936 -0.092959\n",
       "b  0.008880  1.000000  0.514105  0.626372 -0.115394\n",
       "c  0.043211  0.514105  1.000000  0.348168 -0.199399\n",
       "d  0.104936  0.626372  0.348168  1.000000 -0.602838\n",
       "e -0.092959 -0.115394 -0.199399 -0.602838  1.000000"
      ]
     },
     "execution_count": 7,
     "metadata": {},
     "output_type": "execute_result"
    }
   ],
   "source": [
    "frame.corr()"
   ]
  },
  {
   "cell_type": "markdown",
   "metadata": {},
   "source": [
    "## Veri Sıralaması\n",
    "Veri sıralaması, öğe dizisindeki her öğe için sıralama üretir. Bağlar halinde, ortalama rütbeyi atar."
   ]
  },
  {
   "cell_type": "code",
   "execution_count": 9,
   "metadata": {},
   "outputs": [
    {
     "data": {
      "text/plain": [
       "a    4.0\n",
       "b    1.5\n",
       "c    5.0\n",
       "d    1.5\n",
       "e    3.0\n",
       "dtype: float64"
      ]
     },
     "execution_count": 9,
     "metadata": {},
     "output_type": "execute_result"
    }
   ],
   "source": [
    "import pandas as pd\n",
    "import numpy as np\n",
    "\n",
    "s = pd.Series(np.random.np.random.randn(5), index=list('abcde'))\n",
    "s['d'] = s['b']\n",
    "s.rank()"
   ]
  },
  {
   "cell_type": "markdown",
   "metadata": {},
   "source": [
    "Rank isteğe bağlı olarak, varsayılan olarak true olan artan bir parametre alır; false olduğunda, veriler daha küçük bir sıralama atanan daha büyük değerlerle ters sıralanır.\n",
    "\n",
    "Rank, yöntem parametresi ile belirtilen farklı kravat kırma yöntemlerini destekler.\n",
    "- average − bağlı grubun ortalama sırası\n",
    "- min − gruptaki en düşük rütbe\n",
    "- max − gruptaki en yüksek rütbe\n",
    "- first − dizide göründükleri sırayla atanan rütbeler"
   ]
  },
  {
   "cell_type": "code",
   "execution_count": null,
   "metadata": {},
   "outputs": [],
   "source": []
  },
  {
   "cell_type": "code",
   "execution_count": null,
   "metadata": {},
   "outputs": [],
   "source": []
  }
 ],
 "metadata": {
  "kernelspec": {
   "display_name": "Python 3",
   "language": "python",
   "name": "python3"
  },
  "language_info": {
   "codemirror_mode": {
    "name": "ipython",
    "version": 3
   },
   "file_extension": ".py",
   "mimetype": "text/x-python",
   "name": "python",
   "nbconvert_exporter": "python",
   "pygments_lexer": "ipython3",
   "version": "3.7.3"
  }
 },
 "nbformat": 4,
 "nbformat_minor": 4
}
