{
 "cells": [
  {
   "cell_type": "markdown",
   "metadata": {},
   "source": [
    "# PYTHON Pandas Fonksiyon Uygulama\n",
    "Kendi veya başka bir kütüphanenin işlevlerini pandas nesnelerine uygulamak için üç önemli yöntemin farkında olmalısınız. Kullanılacak uygun yöntem, işlevinizin tüm DataFrame, row veya column - wise veya element wise üzerinde çalışmasını bekleyip beklemediğine bağlıdır.\n",
    "- Tablo Fonksiyon Uygulaması: pipe()\n",
    "- Satır veya Sütun Fonksiyon Uygulaması: apply()\n",
    "- Eleman Fonksiyon Uygulaması: applymap()\n",
    "\n",
    "## Tablo Fonksiyon Uygulaması: apply()\n",
    "Özel işlemler işlevi ve boru bağımsız değişkenleri olarak parametrelerin uygun sayıda geçirerek gerçekleştirilebilir. Böylece, işlem tüm veri üzerinde gerçekleştirilir. \n",
    "Örneğin, Dataframe'deki tüm öğelere değer olarak 2 ekleyin."
   ]
  },
  {
   "cell_type": "code",
   "execution_count": 1,
   "metadata": {},
   "outputs": [],
   "source": [
    "def ekleme(ele1,ele2):\n",
    "    return ele1 + ele2"
   ]
  },
  {
   "cell_type": "markdown",
   "metadata": {},
   "source": [
    "Şimdi DataFrame üzerinde işlem yapmak için özel işlevi kullanacağız."
   ]
  },
  {
   "cell_type": "code",
   "execution_count": null,
   "metadata": {},
   "outputs": [],
   "source": [
    "df = pd.DataFrame(np.random.randn(5,3),columns=['sutun1','sutun2','sutun3'])\n",
    "df.pipe(ekleme,2)"
   ]
  },
  {
   "cell_type": "markdown",
   "metadata": {},
   "source": [
    "Tam programı görelim:"
   ]
  },
  {
   "cell_type": "code",
   "execution_count": 36,
   "metadata": {},
   "outputs": [
    {
     "data": {
      "text/html": [
       "<div>\n",
       "<style scoped>\n",
       "    .dataframe tbody tr th:only-of-type {\n",
       "        vertical-align: middle;\n",
       "    }\n",
       "\n",
       "    .dataframe tbody tr th {\n",
       "        vertical-align: top;\n",
       "    }\n",
       "\n",
       "    .dataframe thead th {\n",
       "        text-align: right;\n",
       "    }\n",
       "</style>\n",
       "<table border=\"1\" class=\"dataframe\">\n",
       "  <thead>\n",
       "    <tr style=\"text-align: right;\">\n",
       "      <th></th>\n",
       "      <th>sutun1</th>\n",
       "      <th>sutun2</th>\n",
       "      <th>sutun3</th>\n",
       "    </tr>\n",
       "  </thead>\n",
       "  <tbody>\n",
       "    <tr>\n",
       "      <th>0</th>\n",
       "      <td>3.444891</td>\n",
       "      <td>3.390373</td>\n",
       "      <td>1.838314</td>\n",
       "    </tr>\n",
       "    <tr>\n",
       "      <th>1</th>\n",
       "      <td>1.116019</td>\n",
       "      <td>2.015870</td>\n",
       "      <td>1.563431</td>\n",
       "    </tr>\n",
       "    <tr>\n",
       "      <th>2</th>\n",
       "      <td>3.615770</td>\n",
       "      <td>1.656108</td>\n",
       "      <td>1.313535</td>\n",
       "    </tr>\n",
       "    <tr>\n",
       "      <th>3</th>\n",
       "      <td>2.217141</td>\n",
       "      <td>-1.208859</td>\n",
       "      <td>0.698390</td>\n",
       "    </tr>\n",
       "    <tr>\n",
       "      <th>4</th>\n",
       "      <td>2.975013</td>\n",
       "      <td>-0.120729</td>\n",
       "      <td>3.568476</td>\n",
       "    </tr>\n",
       "  </tbody>\n",
       "</table>\n",
       "</div>"
      ],
      "text/plain": [
       "     sutun1    sutun2    sutun3\n",
       "0  3.444891  3.390373  1.838314\n",
       "1  1.116019  2.015870  1.563431\n",
       "2  3.615770  1.656108  1.313535\n",
       "3  2.217141 -1.208859  0.698390\n",
       "4  2.975013 -0.120729  3.568476"
      ]
     },
     "execution_count": 36,
     "metadata": {},
     "output_type": "execute_result"
    }
   ],
   "source": [
    "import pandas as pd\n",
    "import numpy as np\n",
    "\n",
    "def ekleme(ele1,ele2):\n",
    "    return ele1 + ele2\n",
    "\n",
    "df = pd.DataFrame(np.random.randn(5,3),columns=['sutun1','sutun2','sutun3'])\n",
    "df.pipe(ekleme,2)"
   ]
  },
  {
   "cell_type": "markdown",
   "metadata": {},
   "source": [
    "## Satır veya Sütun Fonksiyon Uygulaması\n",
    "Tanımlayıcı istatistik yöntemleri gibi isteğe bağlı bir eksen argümanı alan apply() yöntemini kullanarak bir veri çerçevesinin veya panelin eksenleri boyunca keyfi işlevler uygulanabilir. Varsayılan olarak, işlem, her sütunu bir dizi benzeri olarak alarak column wise gerçekleştirir.\n",
    "\n",
    "**Örnek 1**"
   ]
  },
  {
   "cell_type": "code",
   "execution_count": 40,
   "metadata": {},
   "outputs": [
    {
     "data": {
      "text/plain": [
       "sutun1   -0.351974\n",
       "sutun2   -0.495009\n",
       "sutun3    0.111530\n",
       "dtype: float64"
      ]
     },
     "execution_count": 40,
     "metadata": {},
     "output_type": "execute_result"
    }
   ],
   "source": [
    "import pandas as pd\n",
    "import numpy as np\n",
    "\n",
    "df = pd.DataFrame(np.random.randn(5,3),columns=['sutun1','sutun2','sutun3'])\n",
    "df.apply(np.mean) "
   ]
  },
  {
   "cell_type": "markdown",
   "metadata": {},
   "source": [
    "**Örnek 2**"
   ]
  },
  {
   "cell_type": "code",
   "execution_count": 18,
   "metadata": {},
   "outputs": [
    {
     "data": {
      "text/plain": [
       "sutun1    0.433517\n",
       "sutun2    2.410229\n",
       "sutun3    1.663377\n",
       "dtype: float64"
      ]
     },
     "execution_count": 18,
     "metadata": {},
     "output_type": "execute_result"
    }
   ],
   "source": [
    "import pandas as pd\n",
    "import numpy as np\n",
    "\n",
    "df = pd.DataFrame(np.random.randn(5,3),columns=['sutun1','sutun2','sutun3'])\n",
    "df.apply(lambda x: x.max() - x.min())"
   ]
  },
  {
   "cell_type": "markdown",
   "metadata": {},
   "source": [
    "**Örnek 3**"
   ]
  },
  {
   "cell_type": "code",
   "execution_count": 25,
   "metadata": {},
   "outputs": [
    {
     "data": {
      "text/plain": [
       "0   -0.923194\n",
       "1   -0.584883\n",
       "2    0.309061\n",
       "3    0.217995\n",
       "4   -0.873165\n",
       "dtype: float64"
      ]
     },
     "execution_count": 25,
     "metadata": {},
     "output_type": "execute_result"
    }
   ],
   "source": [
    "import pandas as pd\n",
    "import numpy as np\n",
    "\n",
    "df = pd.DataFrame(np.random.randn(5,3),columns=['sutun1','sutun2','sutun3'])\n",
    "df.apply(np.mean, axis=1)"
   ]
  },
  {
   "cell_type": "markdown",
   "metadata": {},
   "source": [
    "Eksen parametresi geçirerek, tabloyu row yapısına dönüştürdük.\n",
    "\n",
    "## Element Fonksiyon Uygulaması\n",
    "Tüm işlevler vektörleştirilemez (ne başka bir dizi ne de herhangi bir değer döndüren NumPy dizileri), dataframe'deki applymap () yöntemleri ve serilerdeki benzer şekilde map (), tek bir değer alan ve tek bir değer döndüren herhangi bir Python işlevini kabul eder.\n",
    "\n",
    "**Örnek 1**"
   ]
  },
  {
   "cell_type": "code",
   "execution_count": 34,
   "metadata": {},
   "outputs": [
    {
     "data": {
      "text/plain": [
       "0    110.724381\n",
       "1   -117.182626\n",
       "2   -144.942798\n",
       "3     17.917625\n",
       "4     70.566406\n",
       "Name: sutun1, dtype: float64"
      ]
     },
     "execution_count": 34,
     "metadata": {},
     "output_type": "execute_result"
    }
   ],
   "source": [
    "import pandas as pd\n",
    "import numpy as np\n",
    "\n",
    "df = pd.DataFrame(np.random.randn(5,3),columns=['sutun1','sutun2','sutun3'])\n",
    "df['sutun1'].map(lambda x: x*100)"
   ]
  },
  {
   "cell_type": "markdown",
   "metadata": {},
   "source": [
    "**Örnek 2**"
   ]
  },
  {
   "cell_type": "code",
   "execution_count": 32,
   "metadata": {},
   "outputs": [
    {
     "data": {
      "text/html": [
       "<div>\n",
       "<style scoped>\n",
       "    .dataframe tbody tr th:only-of-type {\n",
       "        vertical-align: middle;\n",
       "    }\n",
       "\n",
       "    .dataframe tbody tr th {\n",
       "        vertical-align: top;\n",
       "    }\n",
       "\n",
       "    .dataframe thead th {\n",
       "        text-align: right;\n",
       "    }\n",
       "</style>\n",
       "<table border=\"1\" class=\"dataframe\">\n",
       "  <thead>\n",
       "    <tr style=\"text-align: right;\">\n",
       "      <th></th>\n",
       "      <th>sutun1</th>\n",
       "      <th>sutun2</th>\n",
       "      <th>sutun3</th>\n",
       "    </tr>\n",
       "  </thead>\n",
       "  <tbody>\n",
       "    <tr>\n",
       "      <th>0</th>\n",
       "      <td>211.455295</td>\n",
       "      <td>-73.292867</td>\n",
       "      <td>75.056796</td>\n",
       "    </tr>\n",
       "    <tr>\n",
       "      <th>1</th>\n",
       "      <td>-58.301220</td>\n",
       "      <td>-12.748636</td>\n",
       "      <td>160.021287</td>\n",
       "    </tr>\n",
       "    <tr>\n",
       "      <th>2</th>\n",
       "      <td>51.575829</td>\n",
       "      <td>-24.679839</td>\n",
       "      <td>-95.600926</td>\n",
       "    </tr>\n",
       "    <tr>\n",
       "      <th>3</th>\n",
       "      <td>27.966831</td>\n",
       "      <td>-69.207877</td>\n",
       "      <td>46.247728</td>\n",
       "    </tr>\n",
       "    <tr>\n",
       "      <th>4</th>\n",
       "      <td>30.243748</td>\n",
       "      <td>92.220954</td>\n",
       "      <td>-167.328170</td>\n",
       "    </tr>\n",
       "  </tbody>\n",
       "</table>\n",
       "</div>"
      ],
      "text/plain": [
       "       sutun1     sutun2      sutun3\n",
       "0  211.455295 -73.292867   75.056796\n",
       "1  -58.301220 -12.748636  160.021287\n",
       "2   51.575829 -24.679839  -95.600926\n",
       "3   27.966831 -69.207877   46.247728\n",
       "4   30.243748  92.220954 -167.328170"
      ]
     },
     "execution_count": 32,
     "metadata": {},
     "output_type": "execute_result"
    }
   ],
   "source": [
    "import pandas as pd\n",
    "import numpy as np\n",
    "\n",
    "df = pd.DataFrame(np.random.randn(5,3),columns=['sutun1','sutun2','sutun3'])\n",
    "df.applymap(lambda x:x*100)"
   ]
  },
  {
   "cell_type": "code",
   "execution_count": null,
   "metadata": {},
   "outputs": [],
   "source": []
  },
  {
   "cell_type": "code",
   "execution_count": null,
   "metadata": {},
   "outputs": [],
   "source": []
  }
 ],
 "metadata": {
  "kernelspec": {
   "display_name": "Python 3",
   "language": "python",
   "name": "python3"
  },
  "language_info": {
   "codemirror_mode": {
    "name": "ipython",
    "version": 3
   },
   "file_extension": ".py",
   "mimetype": "text/x-python",
   "name": "python",
   "nbconvert_exporter": "python",
   "pygments_lexer": "ipython3",
   "version": "3.7.3"
  }
 },
 "nbformat": 4,
 "nbformat_minor": 4
}
