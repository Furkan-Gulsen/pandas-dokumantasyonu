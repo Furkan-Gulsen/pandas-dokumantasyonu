{
 "cells": [
  {
   "cell_type": "markdown",
   "metadata": {},
   "source": [
    "# PYTHON Pandas DataFrame Kullanımı\n",
    "\n",
    "Bir veri çerçevesi iki boyutlu bir veri yapısıdır, yani veriler satır ve sütunlarda tablo şeklinde hizalanır.\n",
    "Bir veri çerçevesi iki boyutlu bir veri yapısıdır, yani veriler satır ve sütunlarda tablo şeklinde hizalanır.\n",
    "DataFrame Özellikleri:\n",
    "- Potansiyel olarak sütunlar farklı tiptedir\n",
    "- Boyut değiştirilebilir\n",
    "- Satır ve sütunlanlardan oluşur\n",
    "- Satır ve sütunlarda aritmatik işlemler yapılabilir\n",
    "\n",
    "DataFrame parametreleri:\n",
    "data    : Veriler ndarray, series, map, list, dict, sabitler ve başka bir veri DataFrame gibi çeşitli formları alır.\n",
    "index   : index isteğe bağlı olarak kullanılır. Satır değerlerini ayarlar.\n",
    "columns : Sütun işlemeri için isteğe bağlı olarak kullanılır.\n",
    "dtype   : Her sütunun veri türü.\n",
    "copy    : Varsayılan değer False. Bu komut (veya her neyse) verilerin kopyalanması için kullanılır.\n",
    "\n",
    "## DataFrame Oluşturma\n",
    "Bir pandas DataFrame çeşitli girişler kullanılarak oluşturulabilir:\n",
    "- List\n",
    "- dict\n",
    "- Series\n",
    "- Numpy ndarrrays\n",
    "- Başka bir DataFrame\n",
    "Bu bölümün sonraki bölümlerinde, bu girdileri kullanarak bir veri çerçevesinin nasıl oluşturulacağını göreceğiz.\n",
    "\n",
    "## Boş Bir DataFrame Oluşturma"
   ]
  },
  {
   "cell_type": "code",
   "execution_count": 1,
   "metadata": {},
   "outputs": [
    {
     "name": "stdout",
     "output_type": "stream",
     "text": [
      "Empty DataFrame\n",
      "Columns: []\n",
      "Index: []\n"
     ]
    }
   ],
   "source": [
    "import pandas as pd\n",
    "df = pd.DataFrame()\n",
    "print(df)"
   ]
  },
  {
   "cell_type": "markdown",
   "metadata": {},
   "source": [
    "## Liste İle DataFrame Oluşturma\n",
    "DataFrame tek bir liste veya liste listesi kullanılarak oluşturulabilir.\n",
    "\n",
    "**Örnek 1**"
   ]
  },
  {
   "cell_type": "code",
   "execution_count": 2,
   "metadata": {},
   "outputs": [
    {
     "name": "stdout",
     "output_type": "stream",
     "text": [
      "   0\n",
      "0  1\n",
      "1  2\n",
      "2  3\n",
      "3  4\n",
      "4  5\n"
     ]
    }
   ],
   "source": [
    "import pandas as pd\n",
    "data = [1,2,3,4,5]\n",
    "df = pd.DataFrame(data)\n",
    "print(df)"
   ]
  },
  {
   "cell_type": "markdown",
   "metadata": {},
   "source": [
    "**Örnek 2**"
   ]
  },
  {
   "cell_type": "code",
   "execution_count": 1,
   "metadata": {},
   "outputs": [
    {
     "data": {
      "text/html": [
       "<div>\n",
       "<style scoped>\n",
       "    .dataframe tbody tr th:only-of-type {\n",
       "        vertical-align: middle;\n",
       "    }\n",
       "\n",
       "    .dataframe tbody tr th {\n",
       "        vertical-align: top;\n",
       "    }\n",
       "\n",
       "    .dataframe thead th {\n",
       "        text-align: right;\n",
       "    }\n",
       "</style>\n",
       "<table border=\"1\" class=\"dataframe\">\n",
       "  <thead>\n",
       "    <tr style=\"text-align: right;\">\n",
       "      <th></th>\n",
       "      <th>Ad</th>\n",
       "      <th>Yaş</th>\n",
       "    </tr>\n",
       "  </thead>\n",
       "  <tbody>\n",
       "    <tr>\n",
       "      <th>0</th>\n",
       "      <td>Furkan</td>\n",
       "      <td>20</td>\n",
       "    </tr>\n",
       "    <tr>\n",
       "      <th>1</th>\n",
       "      <td>Kemal</td>\n",
       "      <td>25</td>\n",
       "    </tr>\n",
       "    <tr>\n",
       "      <th>2</th>\n",
       "      <td>Ayşe</td>\n",
       "      <td>22</td>\n",
       "    </tr>\n",
       "  </tbody>\n",
       "</table>\n",
       "</div>"
      ],
      "text/plain": [
       "       Ad  Yaş\n",
       "0  Furkan   20\n",
       "1   Kemal   25\n",
       "2    Ayşe   22"
      ]
     },
     "execution_count": 1,
     "metadata": {},
     "output_type": "execute_result"
    }
   ],
   "source": [
    "import pandas as pd\n",
    "data = [['Furkan',20],['Kemal',25],['Ayşe',22]]\n",
    "df = pd.DataFrame(data,columns=['Ad','Yaş'])\n",
    "df"
   ]
  },
  {
   "cell_type": "markdown",
   "metadata": {},
   "source": [
    "**Örnek 3**"
   ]
  },
  {
   "cell_type": "code",
   "execution_count": 2,
   "metadata": {},
   "outputs": [
    {
     "data": {
      "text/html": [
       "<div>\n",
       "<style scoped>\n",
       "    .dataframe tbody tr th:only-of-type {\n",
       "        vertical-align: middle;\n",
       "    }\n",
       "\n",
       "    .dataframe tbody tr th {\n",
       "        vertical-align: top;\n",
       "    }\n",
       "\n",
       "    .dataframe thead th {\n",
       "        text-align: right;\n",
       "    }\n",
       "</style>\n",
       "<table border=\"1\" class=\"dataframe\">\n",
       "  <thead>\n",
       "    <tr style=\"text-align: right;\">\n",
       "      <th></th>\n",
       "      <th>Ad</th>\n",
       "      <th>Yaş</th>\n",
       "    </tr>\n",
       "  </thead>\n",
       "  <tbody>\n",
       "    <tr>\n",
       "      <th>0</th>\n",
       "      <td>Furkan</td>\n",
       "      <td>20.0</td>\n",
       "    </tr>\n",
       "    <tr>\n",
       "      <th>1</th>\n",
       "      <td>Kemal</td>\n",
       "      <td>25.0</td>\n",
       "    </tr>\n",
       "    <tr>\n",
       "      <th>2</th>\n",
       "      <td>Ayşe</td>\n",
       "      <td>22.0</td>\n",
       "    </tr>\n",
       "  </tbody>\n",
       "</table>\n",
       "</div>"
      ],
      "text/plain": [
       "       Ad   Yaş\n",
       "0  Furkan  20.0\n",
       "1   Kemal  25.0\n",
       "2    Ayşe  22.0"
      ]
     },
     "execution_count": 2,
     "metadata": {},
     "output_type": "execute_result"
    }
   ],
   "source": [
    "import pandas as pd\n",
    "data = [['Furkan',20],['Kemal',25],['Ayşe',22]]\n",
    "df = pd.DataFrame(data,columns=['Ad','Yaş'],dtype=float)\n",
    "df"
   ]
  },
  {
   "cell_type": "markdown",
   "metadata": {},
   "source": [
    "## Dict(sözlük) İle DataFrame Oluşturma\n",
    "Tüm ndarrays aynı uzunlukta olmalıdır. Dizinin uzunluğu diğer dizinin uzunluğuna eşit olmalıdır.\n",
    "\n",
    "**Örnek 1**"
   ]
  },
  {
   "cell_type": "code",
   "execution_count": 3,
   "metadata": {},
   "outputs": [
    {
     "data": {
      "text/html": [
       "<div>\n",
       "<style scoped>\n",
       "    .dataframe tbody tr th:only-of-type {\n",
       "        vertical-align: middle;\n",
       "    }\n",
       "\n",
       "    .dataframe tbody tr th {\n",
       "        vertical-align: top;\n",
       "    }\n",
       "\n",
       "    .dataframe thead th {\n",
       "        text-align: right;\n",
       "    }\n",
       "</style>\n",
       "<table border=\"1\" class=\"dataframe\">\n",
       "  <thead>\n",
       "    <tr style=\"text-align: right;\">\n",
       "      <th></th>\n",
       "      <th>İsim</th>\n",
       "      <th>Yaş</th>\n",
       "    </tr>\n",
       "  </thead>\n",
       "  <tbody>\n",
       "    <tr>\n",
       "      <th>0</th>\n",
       "      <td>Furkan</td>\n",
       "      <td>22</td>\n",
       "    </tr>\n",
       "    <tr>\n",
       "      <th>1</th>\n",
       "      <td>Ayşe</td>\n",
       "      <td>25</td>\n",
       "    </tr>\n",
       "    <tr>\n",
       "      <th>2</th>\n",
       "      <td>Osman</td>\n",
       "      <td>27</td>\n",
       "    </tr>\n",
       "  </tbody>\n",
       "</table>\n",
       "</div>"
      ],
      "text/plain": [
       "     İsim  Yaş\n",
       "0  Furkan   22\n",
       "1    Ayşe   25\n",
       "2   Osman   27"
      ]
     },
     "execution_count": 3,
     "metadata": {},
     "output_type": "execute_result"
    }
   ],
   "source": [
    "import pandas as pd\n",
    "data = {'İsim':['Furkan','Ayşe','Osman'],'Yaş':[22,25,27]}\n",
    "df   = pd.DataFrame(data)\n",
    "df"
   ]
  },
  {
   "cell_type": "markdown",
   "metadata": {},
   "source": [
    "**Örnek 2**\n",
    "\n",
    "Şimdi diziler kullanarak dizinlenmiş bir veri DataFrame oluşturalım."
   ]
  },
  {
   "cell_type": "code",
   "execution_count": 4,
   "metadata": {},
   "outputs": [
    {
     "data": {
      "text/html": [
       "<div>\n",
       "<style scoped>\n",
       "    .dataframe tbody tr th:only-of-type {\n",
       "        vertical-align: middle;\n",
       "    }\n",
       "\n",
       "    .dataframe tbody tr th {\n",
       "        vertical-align: top;\n",
       "    }\n",
       "\n",
       "    .dataframe thead th {\n",
       "        text-align: right;\n",
       "    }\n",
       "</style>\n",
       "<table border=\"1\" class=\"dataframe\">\n",
       "  <thead>\n",
       "    <tr style=\"text-align: right;\">\n",
       "      <th></th>\n",
       "      <th>İsim</th>\n",
       "      <th>Yaş</th>\n",
       "    </tr>\n",
       "  </thead>\n",
       "  <tbody>\n",
       "    <tr>\n",
       "      <th>1.Kişi</th>\n",
       "      <td>Furkan</td>\n",
       "      <td>22</td>\n",
       "    </tr>\n",
       "    <tr>\n",
       "      <th>2.Kişi</th>\n",
       "      <td>Ayşe</td>\n",
       "      <td>25</td>\n",
       "    </tr>\n",
       "    <tr>\n",
       "      <th>3.Kişi</th>\n",
       "      <td>Osman</td>\n",
       "      <td>27</td>\n",
       "    </tr>\n",
       "  </tbody>\n",
       "</table>\n",
       "</div>"
      ],
      "text/plain": [
       "          İsim  Yaş\n",
       "1.Kişi  Furkan   22\n",
       "2.Kişi    Ayşe   25\n",
       "3.Kişi   Osman   27"
      ]
     },
     "execution_count": 4,
     "metadata": {},
     "output_type": "execute_result"
    }
   ],
   "source": [
    "import pandas as pd\n",
    "data = {'İsim':['Furkan','Ayşe','Osman'],'Yaş':[22,25,27]}\n",
    "df   = pd.DataFrame(data,index=['1.Kişi','2.Kişi','3.Kişi'])\n",
    "df"
   ]
  },
  {
   "cell_type": "markdown",
   "metadata": {},
   "source": [
    "**Örnek 3**\n",
    "\n",
    "Dict yapısını direk olarak kullanarak daha kısa bir şekilde yazabiliriz. "
   ]
  },
  {
   "cell_type": "code",
   "execution_count": 14,
   "metadata": {},
   "outputs": [
    {
     "name": "stdout",
     "output_type": "stream",
     "text": [
      "     isim  yaş\n",
      "0  furkan   22\n",
      "1    Ayşe   25\n",
      "2   Osman   27\n"
     ]
    }
   ],
   "source": [
    "import pandas as pd\n",
    "data = [\n",
    "    {'isim':'furkan','yaş':22},\n",
    "    {'isim':'Ayşe','yaş':25},\n",
    "    {'isim':'Osman','yaş':27}\n",
    "]\n",
    "df   = pd.DataFrame(data)\n",
    "print(df)"
   ]
  },
  {
   "cell_type": "markdown",
   "metadata": {},
   "source": [
    "**Örnek 4**"
   ]
  },
  {
   "cell_type": "code",
   "execution_count": 5,
   "metadata": {},
   "outputs": [
    {
     "data": {
      "text/html": [
       "<div>\n",
       "<style scoped>\n",
       "    .dataframe tbody tr th:only-of-type {\n",
       "        vertical-align: middle;\n",
       "    }\n",
       "\n",
       "    .dataframe tbody tr th {\n",
       "        vertical-align: top;\n",
       "    }\n",
       "\n",
       "    .dataframe thead th {\n",
       "        text-align: right;\n",
       "    }\n",
       "</style>\n",
       "<table border=\"1\" class=\"dataframe\">\n",
       "  <thead>\n",
       "    <tr style=\"text-align: right;\">\n",
       "      <th></th>\n",
       "      <th>isim</th>\n",
       "      <th>yaş</th>\n",
       "    </tr>\n",
       "  </thead>\n",
       "  <tbody>\n",
       "    <tr>\n",
       "      <th>1.Kişi</th>\n",
       "      <td>furkan</td>\n",
       "      <td>22</td>\n",
       "    </tr>\n",
       "    <tr>\n",
       "      <th>2.Kişi</th>\n",
       "      <td>Ayşe</td>\n",
       "      <td>25</td>\n",
       "    </tr>\n",
       "    <tr>\n",
       "      <th>3.Kişi</th>\n",
       "      <td>Osman</td>\n",
       "      <td>27</td>\n",
       "    </tr>\n",
       "  </tbody>\n",
       "</table>\n",
       "</div>"
      ],
      "text/plain": [
       "          isim  yaş\n",
       "1.Kişi  furkan   22\n",
       "2.Kişi    Ayşe   25\n",
       "3.Kişi   Osman   27"
      ]
     },
     "execution_count": 5,
     "metadata": {},
     "output_type": "execute_result"
    }
   ],
   "source": [
    "import pandas as pd\n",
    "data = [\n",
    "    {'isim':'furkan','yaş':22},\n",
    "    {'isim':'Ayşe','yaş':25},\n",
    "    {'isim':'Osman','yaş':27}\n",
    "]\n",
    "df   = pd.DataFrame(data,['1.Kişi','2.Kişi','3.Kişi'])\n",
    "df"
   ]
  },
  {
   "cell_type": "markdown",
   "metadata": {},
   "source": [
    "**Örnek 5**"
   ]
  },
  {
   "cell_type": "code",
   "execution_count": 8,
   "metadata": {},
   "outputs": [
    {
     "data": {
      "text/html": [
       "<div>\n",
       "<style scoped>\n",
       "    .dataframe tbody tr th:only-of-type {\n",
       "        vertical-align: middle;\n",
       "    }\n",
       "\n",
       "    .dataframe tbody tr th {\n",
       "        vertical-align: top;\n",
       "    }\n",
       "\n",
       "    .dataframe thead th {\n",
       "        text-align: right;\n",
       "    }\n",
       "</style>\n",
       "<table border=\"1\" class=\"dataframe\">\n",
       "  <thead>\n",
       "    <tr style=\"text-align: right;\">\n",
       "      <th></th>\n",
       "      <th>a</th>\n",
       "      <th>b1</th>\n",
       "    </tr>\n",
       "  </thead>\n",
       "  <tbody>\n",
       "    <tr>\n",
       "      <th>birinci</th>\n",
       "      <td>1</td>\n",
       "      <td>NaN</td>\n",
       "    </tr>\n",
       "    <tr>\n",
       "      <th>ikinci</th>\n",
       "      <td>5</td>\n",
       "      <td>NaN</td>\n",
       "    </tr>\n",
       "  </tbody>\n",
       "</table>\n",
       "</div>"
      ],
      "text/plain": [
       "         a  b1\n",
       "birinci  1 NaN\n",
       "ikinci   5 NaN"
      ]
     },
     "execution_count": 8,
     "metadata": {},
     "output_type": "execute_result"
    }
   ],
   "source": [
    "import pandas as pd\n",
    "data = [{'a': 1, 'b': 2},{'a': 5, 'b': 10, 'c': 20}]\n",
    "\n",
    "df1 = pd.DataFrame(data, index=['birinci', 'ikinci'], columns=['a', 'b'])\n",
    "df2 = pd.DataFrame(data, index=['birinci', 'ikinci'], columns=['a', 'b1'])\n",
    "\n",
    "df1\n",
    "df2"
   ]
  },
  {
   "cell_type": "markdown",
   "metadata": {},
   "source": [
    "**Örnek 6**"
   ]
  },
  {
   "cell_type": "code",
   "execution_count": 9,
   "metadata": {},
   "outputs": [
    {
     "data": {
      "text/html": [
       "<div>\n",
       "<style scoped>\n",
       "    .dataframe tbody tr th:only-of-type {\n",
       "        vertical-align: middle;\n",
       "    }\n",
       "\n",
       "    .dataframe tbody tr th {\n",
       "        vertical-align: top;\n",
       "    }\n",
       "\n",
       "    .dataframe thead th {\n",
       "        text-align: right;\n",
       "    }\n",
       "</style>\n",
       "<table border=\"1\" class=\"dataframe\">\n",
       "  <thead>\n",
       "    <tr style=\"text-align: right;\">\n",
       "      <th></th>\n",
       "      <th>isim</th>\n",
       "      <th>meslek</th>\n",
       "    </tr>\n",
       "  </thead>\n",
       "  <tbody>\n",
       "    <tr>\n",
       "      <th>a</th>\n",
       "      <td>Ayşe</td>\n",
       "      <td>Doktor</td>\n",
       "    </tr>\n",
       "    <tr>\n",
       "      <th>b</th>\n",
       "      <td>Fatma</td>\n",
       "      <td>Mühendis</td>\n",
       "    </tr>\n",
       "    <tr>\n",
       "      <th>c</th>\n",
       "      <td>Hayriye</td>\n",
       "      <td>Mimar</td>\n",
       "    </tr>\n",
       "    <tr>\n",
       "      <th>d</th>\n",
       "      <td>Betül</td>\n",
       "      <td>NaN</td>\n",
       "    </tr>\n",
       "  </tbody>\n",
       "</table>\n",
       "</div>"
      ],
      "text/plain": [
       "      isim    meslek\n",
       "a     Ayşe    Doktor\n",
       "b    Fatma  Mühendis\n",
       "c  Hayriye     Mimar\n",
       "d    Betül       NaN"
      ]
     },
     "execution_count": 9,
     "metadata": {},
     "output_type": "execute_result"
    }
   ],
   "source": [
    "import pandas as pd\n",
    "data = {\n",
    "    'isim': pd.Series(['Ayşe','Fatma','Hayriye','Betül'],\n",
    "                      index=['a','b','c','d']),\n",
    "    'meslek': pd.Series(['Doktor','Mühendis','Mimar'],\n",
    "                       index=['a','b','c'])\n",
    "}\n",
    "df = pd.DataFrame(data)\n",
    "df"
   ]
  },
  {
   "cell_type": "markdown",
   "metadata": {},
   "source": [
    "**Örnek 7**\n",
    "\n",
    "DataFrame'den sütun değerlerini çekmek için aşağıdaki yapıyı uyguluyoruz."
   ]
  },
  {
   "cell_type": "code",
   "execution_count": 10,
   "metadata": {},
   "outputs": [
    {
     "data": {
      "text/plain": [
       "a       Ayşe\n",
       "b      Fatma\n",
       "c    Hayriye\n",
       "d      Betül\n",
       "Name: isim, dtype: object"
      ]
     },
     "execution_count": 10,
     "metadata": {},
     "output_type": "execute_result"
    }
   ],
   "source": [
    "import pandas as pd\n",
    "data = {\n",
    "    'isim': pd.Series(['Ayşe','Fatma','Hayriye','Betül'],\n",
    "                      index=['a','b','c','d']),\n",
    "    'meslek': pd.Series(['Doktor','Mühendis','Mimar'],\n",
    "                       index=['a','b','c'])\n",
    "}\n",
    "df = pd.DataFrame(data)\n",
    "df['isim']"
   ]
  },
  {
   "cell_type": "code",
   "execution_count": 36,
   "metadata": {},
   "outputs": [
    {
     "name": "stdout",
     "output_type": "stream",
     "text": [
      "a      Doktor\n",
      "b    Mühendis\n",
      "c       Mimar\n",
      "d         NaN\n",
      "Name: meslek, dtype: object\n"
     ]
    }
   ],
   "source": [
    "import pandas as pd\n",
    "data = {\n",
    "    'isim': pd.Series(['Ayşe','Fatma','Hayriye','Betül'],\n",
    "                      index=['a','b','c','d']),\n",
    "    'meslek': pd.Series(['Doktor','Mühendis','Mimar'],\n",
    "                       index=['a','b','c'])\n",
    "}\n",
    "df = pd.DataFrame(data)\n",
    "print(df['meslek'])"
   ]
  },
  {
   "cell_type": "markdown",
   "metadata": {},
   "source": [
    "## Pandas İle Yeni Sütun Ekleme\n",
    "DataFrame verisine yeni sütun eklemek için aşağıdaki yapıyı uyguluyoruz."
   ]
  },
  {
   "cell_type": "code",
   "execution_count": 13,
   "metadata": {},
   "outputs": [
    {
     "name": "stdout",
     "output_type": "stream",
     "text": [
      "yaş sütunu eklendi:\n",
      "      isim    meslek  yaş\n",
      "a     Ayşe    Doktor   24\n",
      "b    Fatma  Mühendis   26\n",
      "c  Hayriye     Mimar   32\n",
      "\n",
      "\n",
      "memleket sütunu eklendi:\n",
      "      isim    meslek  yaş memleket\n",
      "a     Ayşe    Doktor   24   Ankara\n",
      "b    Fatma  Mühendis   26    Sinop\n",
      "c  Hayriye     Mimar   32   Amasya\n"
     ]
    }
   ],
   "source": [
    "import pandas as pd\n",
    "data = {\n",
    "    'isim': pd.Series(['Ayşe','Fatma','Hayriye'],\n",
    "                      index=['a','b','c']),\n",
    "    'meslek': pd.Series(['Doktor','Mühendis','Mimar'],\n",
    "                       index=['a','b','c'])\n",
    "}\n",
    "df = pd.DataFrame(data)\n",
    "\n",
    "# 1.yöntem\n",
    "print('yaş sütunu eklendi:')\n",
    "df['yaş'] = [24,26,32]\n",
    "print(df)\n",
    "\n",
    "print('\\n')\n",
    "\n",
    "# 2.yöntem\n",
    "print('memleket sütunu eklendi:')\n",
    "df['memleket'] = pd.Series(['Ankara','Sinop','Amasya'],index=['a','b','c'])\n",
    "print(df)"
   ]
  },
  {
   "cell_type": "markdown",
   "metadata": {},
   "source": [
    "## Pandas İle Sütun Silme\n",
    "Yukarıda oluşturduğumuz 2 adet sütunu burada sırasıyla sileceğiz."
   ]
  },
  {
   "cell_type": "code",
   "execution_count": 16,
   "metadata": {},
   "outputs": [
    {
     "name": "stdout",
     "output_type": "stream",
     "text": [
      "yaş sütunu siliniyor\n",
      "      isim    meslek memleket\n",
      "a     Ayşe    Doktor   Ankara\n",
      "b    Fatma  Mühendis    Sinop\n",
      "c  Hayriye     Mimar   Amasya\n",
      "\n",
      "\n",
      "memleket sütunu siliniyor\n",
      "      isim    meslek\n",
      "a     Ayşe    Doktor\n",
      "b    Fatma  Mühendis\n",
      "c  Hayriye     Mimar\n"
     ]
    }
   ],
   "source": [
    "import pandas as pd\n",
    "data = {\n",
    "    'isim': pd.Series(['Ayşe','Fatma','Hayriye'],\n",
    "                      index=['a','b','c']),\n",
    "    'meslek': pd.Series(['Doktor','Mühendis','Mimar'],\n",
    "                       index=['a','b','c'])\n",
    "}\n",
    "df = pd.DataFrame(data)\n",
    "df['yaş'] = [24,26,32]\n",
    "df['memleket'] = pd.Series(['Ankara','Sinop','Amasya'],index=['a','b','c'])\n",
    "\n",
    "# 1.Yöntem\n",
    "print('yaş sütunu siliniyor')\n",
    "del df['yaş']\n",
    "print(df)\n",
    "\n",
    "print('\\n')\n",
    "\n",
    "# 2.Yöntem\n",
    "print('memleket sütunu siliniyor')\n",
    "df.pop('memleket')\n",
    "print(df)"
   ]
  },
  {
   "cell_type": "markdown",
   "metadata": {},
   "source": [
    "## Pandas İle Satır Seçimi\n",
    "Pandas kütüphanesinde iki adet satır seçme şekli vardır. Bunlardan biri direk olarak etiket ismi ile, diğer ise bulunan konum ile satıra ulaşır.\n",
    "Bundan sonraki işlemleri aşağıdaki DataFrame'i kullanarak göstereceğim."
   ]
  },
  {
   "cell_type": "code",
   "execution_count": 17,
   "metadata": {},
   "outputs": [
    {
     "data": {
      "text/html": [
       "<div>\n",
       "<style scoped>\n",
       "    .dataframe tbody tr th:only-of-type {\n",
       "        vertical-align: middle;\n",
       "    }\n",
       "\n",
       "    .dataframe tbody tr th {\n",
       "        vertical-align: top;\n",
       "    }\n",
       "\n",
       "    .dataframe thead th {\n",
       "        text-align: right;\n",
       "    }\n",
       "</style>\n",
       "<table border=\"1\" class=\"dataframe\">\n",
       "  <thead>\n",
       "    <tr style=\"text-align: right;\">\n",
       "      <th></th>\n",
       "      <th>harf</th>\n",
       "      <th>değer</th>\n",
       "    </tr>\n",
       "  </thead>\n",
       "  <tbody>\n",
       "    <tr>\n",
       "      <th>birinci</th>\n",
       "      <td>a</td>\n",
       "      <td>1</td>\n",
       "    </tr>\n",
       "    <tr>\n",
       "      <th>ikinci</th>\n",
       "      <td>b</td>\n",
       "      <td>2</td>\n",
       "    </tr>\n",
       "    <tr>\n",
       "      <th>üçüncü</th>\n",
       "      <td>c</td>\n",
       "      <td>3</td>\n",
       "    </tr>\n",
       "  </tbody>\n",
       "</table>\n",
       "</div>"
      ],
      "text/plain": [
       "        harf  değer\n",
       "birinci    a      1\n",
       "ikinci     b      2\n",
       "üçüncü     c      3"
      ]
     },
     "execution_count": 17,
     "metadata": {},
     "output_type": "execute_result"
    }
   ],
   "source": [
    "import pandas as pd\n",
    "data = {\n",
    "    'harf': pd.Series(['a','b','c'],index=['birinci','ikinci','üçüncü']),\n",
    "    'değer': pd.Series([1,2,3],index=['birinci','ikinci','üçüncü']),\n",
    "}\n",
    "df = pd.DataFrame(data)\n",
    "df"
   ]
  },
  {
   "cell_type": "code",
   "execution_count": 19,
   "metadata": {},
   "outputs": [
    {
     "name": "stdout",
     "output_type": "stream",
     "text": [
      "harf     b\n",
      "değer    2\n",
      "Name: ikinci, dtype: object\n",
      "\n",
      "\n",
      "harf     b\n",
      "değer    2\n",
      "Name: ikinci, dtype: object\n"
     ]
    }
   ],
   "source": [
    "import pandas as pd\n",
    "data = {\n",
    "    'harf': pd.Series(['a','b','c'],index=['birinci','ikinci','üçüncü']),\n",
    "    'değer': pd.Series([1,2,3],index=['birinci','ikinci','üçüncü']),\n",
    "}\n",
    "df = pd.DataFrame(data)\n",
    "\n",
    "# 1.Seçme Yöntemi\n",
    "birinci = df.loc['ikinci']\n",
    "print(birinci)\n",
    "\n",
    "print('\\n')\n",
    "\n",
    "# 2.Seçme Yöntemi\n",
    "ikinci = df.iloc[1]\n",
    "print(ikinci)"
   ]
  },
  {
   "cell_type": "markdown",
   "metadata": {},
   "source": [
    "Diğer bir yöntem olarak en başta kullandığımız ':' sembolü ile satılarımızı DataFrame'den çekebiliyoruz."
   ]
  },
  {
   "cell_type": "code",
   "execution_count": 21,
   "metadata": {},
   "outputs": [
    {
     "data": {
      "text/html": [
       "<div>\n",
       "<style scoped>\n",
       "    .dataframe tbody tr th:only-of-type {\n",
       "        vertical-align: middle;\n",
       "    }\n",
       "\n",
       "    .dataframe tbody tr th {\n",
       "        vertical-align: top;\n",
       "    }\n",
       "\n",
       "    .dataframe thead th {\n",
       "        text-align: right;\n",
       "    }\n",
       "</style>\n",
       "<table border=\"1\" class=\"dataframe\">\n",
       "  <thead>\n",
       "    <tr style=\"text-align: right;\">\n",
       "      <th></th>\n",
       "      <th>harf</th>\n",
       "      <th>değer</th>\n",
       "    </tr>\n",
       "  </thead>\n",
       "  <tbody>\n",
       "    <tr>\n",
       "      <th>birinci</th>\n",
       "      <td>a</td>\n",
       "      <td>1</td>\n",
       "    </tr>\n",
       "  </tbody>\n",
       "</table>\n",
       "</div>"
      ],
      "text/plain": [
       "        harf  değer\n",
       "birinci    a      1"
      ]
     },
     "execution_count": 21,
     "metadata": {},
     "output_type": "execute_result"
    }
   ],
   "source": [
    "import pandas as pd\n",
    "data = {\n",
    "    'harf': pd.Series(['a','b','c'],index=['birinci','ikinci','üçüncü']),\n",
    "    'değer': pd.Series([1,2,3],index=['birinci','ikinci','üçüncü']),\n",
    "}\n",
    "df = pd.DataFrame(data)\n",
    "\n",
    "veriCek = df[1:3]\n",
    "print(veriCek)\n",
    "\n",
    "print('\\n')\n",
    "\n",
    "veriCek2 = df[0:1]\n",
    "print(veriCek2)"
   ]
  },
  {
   "cell_type": "markdown",
   "metadata": {},
   "source": [
    "## Pandas İle Satır Ekleme\n",
    "Pandas DataFrame yapısına satır eklemek için append fonksiyonu kullanılır. "
   ]
  },
  {
   "cell_type": "code",
   "execution_count": 22,
   "metadata": {},
   "outputs": [
    {
     "data": {
      "text/html": [
       "<div>\n",
       "<style scoped>\n",
       "    .dataframe tbody tr th:only-of-type {\n",
       "        vertical-align: middle;\n",
       "    }\n",
       "\n",
       "    .dataframe tbody tr th {\n",
       "        vertical-align: top;\n",
       "    }\n",
       "\n",
       "    .dataframe thead th {\n",
       "        text-align: right;\n",
       "    }\n",
       "</style>\n",
       "<table border=\"1\" class=\"dataframe\">\n",
       "  <thead>\n",
       "    <tr style=\"text-align: right;\">\n",
       "      <th></th>\n",
       "      <th>harf</th>\n",
       "      <th>değer</th>\n",
       "    </tr>\n",
       "  </thead>\n",
       "  <tbody>\n",
       "    <tr>\n",
       "      <th>birinci</th>\n",
       "      <td>a</td>\n",
       "      <td>1</td>\n",
       "    </tr>\n",
       "    <tr>\n",
       "      <th>ikinci</th>\n",
       "      <td>b</td>\n",
       "      <td>2</td>\n",
       "    </tr>\n",
       "    <tr>\n",
       "      <th>üçüncü</th>\n",
       "      <td>c</td>\n",
       "      <td>3</td>\n",
       "    </tr>\n",
       "    <tr>\n",
       "      <th>dördüncü</th>\n",
       "      <td>d</td>\n",
       "      <td>4</td>\n",
       "    </tr>\n",
       "  </tbody>\n",
       "</table>\n",
       "</div>"
      ],
      "text/plain": [
       "         harf  değer\n",
       "birinci     a      1\n",
       "ikinci      b      2\n",
       "üçüncü      c      3\n",
       "dördüncü    d      4"
      ]
     },
     "execution_count": 22,
     "metadata": {},
     "output_type": "execute_result"
    }
   ],
   "source": [
    "import pandas as pd\n",
    "data1 = {\n",
    "    'harf': pd.Series(['a','b','c'],index=['birinci','ikinci','üçüncü']),\n",
    "    'değer': pd.Series([1,2,3],index=['birinci','ikinci','üçüncü']),\n",
    "}\n",
    "data2 = {\n",
    "    'harf': pd.Series(['d'],index=['dördüncü']),\n",
    "    'değer': pd.Series([4],index=['dördüncü']),\n",
    "}\n",
    "\n",
    "df1 = pd.DataFrame(data1)\n",
    "df2 = pd.DataFrame(data2)\n",
    "\n",
    "df = df1.append(df2)\n",
    "df"
   ]
  },
  {
   "cell_type": "markdown",
   "metadata": {},
   "source": [
    "## Pandas İle Satır Silme\n",
    "Bir veri çerçevesinden satırları silmek veya bırakmak için drop etiketini kullanın. Etiket çoğaltılırsa, birden çok satır silinir."
   ]
  },
  {
   "cell_type": "code",
   "execution_count": 1,
   "metadata": {},
   "outputs": [
    {
     "data": {
      "text/html": [
       "<div>\n",
       "<style scoped>\n",
       "    .dataframe tbody tr th:only-of-type {\n",
       "        vertical-align: middle;\n",
       "    }\n",
       "\n",
       "    .dataframe tbody tr th {\n",
       "        vertical-align: top;\n",
       "    }\n",
       "\n",
       "    .dataframe thead th {\n",
       "        text-align: right;\n",
       "    }\n",
       "</style>\n",
       "<table border=\"1\" class=\"dataframe\">\n",
       "  <thead>\n",
       "    <tr style=\"text-align: right;\">\n",
       "      <th></th>\n",
       "      <th>Ad</th>\n",
       "      <th>Yaş</th>\n",
       "    </tr>\n",
       "  </thead>\n",
       "  <tbody>\n",
       "    <tr>\n",
       "      <th>0</th>\n",
       "      <td>Furkan</td>\n",
       "      <td>20</td>\n",
       "    </tr>\n",
       "    <tr>\n",
       "      <th>1</th>\n",
       "      <td>Kemal</td>\n",
       "      <td>25</td>\n",
       "    </tr>\n",
       "    <tr>\n",
       "      <th>2</th>\n",
       "      <td>Ayşe</td>\n",
       "      <td>22</td>\n",
       "    </tr>\n",
       "  </tbody>\n",
       "</table>\n",
       "</div>"
      ],
      "text/plain": [
       "       Ad  Yaş\n",
       "0  Furkan   20\n",
       "1   Kemal   25\n",
       "2    Ayşe   22"
      ]
     },
     "execution_count": 1,
     "metadata": {},
     "output_type": "execute_result"
    }
   ],
   "source": [
    "import pandas as pd\n",
    "data1 = {\n",
    "    'harf': pd.Series(['a','b','c'],index=['birinci','ikinci','üçüncü']),\n",
    "    'değer': pd.Series([1,2,3],index=['birinci','ikinci','üçüncü']),\n",
    "}\n",
    "data2 = {\n",
    "    'harf': pd.Series(['d'],index=['dördüncü']),\n",
    "    'değer': pd.Series([4],index=['dördüncü']),\n",
    "}\n",
    "\n",
    "df1 = pd.DataFrame(data1)\n",
    "df2 = pd.DataFrame(data2)\n",
    "\n",
    "df = df1.append(df2)\n",
    "\n",
    "# satır silme:\n",
    "df = df.drop('dördüncü')\n",
    "df"
   ]
  },
  {
   "cell_type": "code",
   "execution_count": null,
   "metadata": {},
   "outputs": [],
   "source": []
  },
  {
   "cell_type": "code",
   "execution_count": null,
   "metadata": {},
   "outputs": [],
   "source": []
  },
  {
   "cell_type": "code",
   "execution_count": null,
   "metadata": {},
   "outputs": [],
   "source": []
  },
  {
   "cell_type": "code",
   "execution_count": null,
   "metadata": {},
   "outputs": [],
   "source": []
  }
 ],
 "metadata": {
  "kernelspec": {
   "display_name": "Python 3",
   "language": "python",
   "name": "python3"
  },
  "language_info": {
   "codemirror_mode": {
    "name": "ipython",
    "version": 3
   },
   "file_extension": ".py",
   "mimetype": "text/x-python",
   "name": "python",
   "nbconvert_exporter": "python",
   "pygments_lexer": "ipython3",
   "version": "3.7.3"
  }
 },
 "nbformat": 4,
 "nbformat_minor": 4
}
