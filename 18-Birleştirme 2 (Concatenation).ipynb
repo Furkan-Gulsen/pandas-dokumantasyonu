{
 "cells": [
  {
   "cell_type": "markdown",
   "metadata": {},
   "source": [
    "# PYTHON Pandas - Birleştirme 2\n",
    "Pandas, seri, dataframe ve panel nesnelerini kolayca birleştirmek için çeşitli olanaklar sunar."
   ]
  },
  {
   "cell_type": "code",
   "execution_count": null,
   "metadata": {},
   "outputs": [],
   "source": [
    "pd.concat(objs,axis=0,join='outer',join_axes=None,ignore_index=False)"
   ]
  },
  {
   "cell_type": "markdown",
   "metadata": {},
   "source": [
    "- objs: Bu, seri, DataFrame veya Panel nesnelerinin bir dizisi veya eşlemesidir.\n",
    "- axis: {0,1,2...}. Varsayılan değer 0\n",
    "- join: {inner,outer}. Varsayılan değer outer.\n",
    "- ignore_index: boolean, Varsayılan değer False. True ise, birleştirme ekseninde dizin değerlerini kullanmayın.\n",
    "\n",
    "## Nesneleri Birleştirme\n",
    "Concat işlevi, bir eksen boyunca birleştirme işlemlerini gerçekleştirmenin tüm olanaklarını sağlar. Şimdi farklı nesneler oluşturup ve birleştirme yapalım."
   ]
  },
  {
   "cell_type": "code",
   "execution_count": 1,
   "metadata": {},
   "outputs": [
    {
     "data": {
      "text/html": [
       "<div>\n",
       "<style scoped>\n",
       "    .dataframe tbody tr th:only-of-type {\n",
       "        vertical-align: middle;\n",
       "    }\n",
       "\n",
       "    .dataframe tbody tr th {\n",
       "        vertical-align: top;\n",
       "    }\n",
       "\n",
       "    .dataframe thead th {\n",
       "        text-align: right;\n",
       "    }\n",
       "</style>\n",
       "<table border=\"1\" class=\"dataframe\">\n",
       "  <thead>\n",
       "    <tr style=\"text-align: right;\">\n",
       "      <th></th>\n",
       "      <th>id</th>\n",
       "      <th>isim</th>\n",
       "      <th>konu_id</th>\n",
       "    </tr>\n",
       "  </thead>\n",
       "  <tbody>\n",
       "    <tr>\n",
       "      <th>0</th>\n",
       "      <td>1</td>\n",
       "      <td>Furkan</td>\n",
       "      <td>konu1</td>\n",
       "    </tr>\n",
       "    <tr>\n",
       "      <th>1</th>\n",
       "      <td>2</td>\n",
       "      <td>Kemal</td>\n",
       "      <td>konu2</td>\n",
       "    </tr>\n",
       "    <tr>\n",
       "      <th>2</th>\n",
       "      <td>3</td>\n",
       "      <td>Sinan</td>\n",
       "      <td>konu3</td>\n",
       "    </tr>\n",
       "    <tr>\n",
       "      <th>3</th>\n",
       "      <td>4</td>\n",
       "      <td>Ekin</td>\n",
       "      <td>konu4</td>\n",
       "    </tr>\n",
       "    <tr>\n",
       "      <th>4</th>\n",
       "      <td>5</td>\n",
       "      <td>Mustafa</td>\n",
       "      <td>konu5</td>\n",
       "    </tr>\n",
       "    <tr>\n",
       "      <th>0</th>\n",
       "      <td>1</td>\n",
       "      <td>Ayşe</td>\n",
       "      <td>konu2</td>\n",
       "    </tr>\n",
       "    <tr>\n",
       "      <th>1</th>\n",
       "      <td>2</td>\n",
       "      <td>Merve</td>\n",
       "      <td>konu1</td>\n",
       "    </tr>\n",
       "    <tr>\n",
       "      <th>2</th>\n",
       "      <td>3</td>\n",
       "      <td>Zeynep</td>\n",
       "      <td>konu4</td>\n",
       "    </tr>\n",
       "    <tr>\n",
       "      <th>3</th>\n",
       "      <td>4</td>\n",
       "      <td>Begüm</td>\n",
       "      <td>konu3</td>\n",
       "    </tr>\n",
       "    <tr>\n",
       "      <th>4</th>\n",
       "      <td>5</td>\n",
       "      <td>Ceren</td>\n",
       "      <td>konu5</td>\n",
       "    </tr>\n",
       "  </tbody>\n",
       "</table>\n",
       "</div>"
      ],
      "text/plain": [
       "   id     isim konu_id\n",
       "0   1   Furkan   konu1\n",
       "1   2    Kemal   konu2\n",
       "2   3    Sinan   konu3\n",
       "3   4     Ekin   konu4\n",
       "4   5  Mustafa   konu5\n",
       "0   1     Ayşe   konu2\n",
       "1   2    Merve   konu1\n",
       "2   3   Zeynep   konu4\n",
       "3   4    Begüm   konu3\n",
       "4   5    Ceren   konu5"
      ]
     },
     "execution_count": 1,
     "metadata": {},
     "output_type": "execute_result"
    }
   ],
   "source": [
    "import pandas as pd\n",
    "\n",
    "bir = pd.DataFrame({\n",
    "    'id': [1,2,3,4,5],\n",
    "    'isim': ['Furkan','Kemal','Sinan','Ekin','Mustafa'],\n",
    "    'konu_id': ['konu1','konu2','konu3','konu4','konu5']\n",
    "})\n",
    "\n",
    "iki = pd.DataFrame({\n",
    "    'id': [1,2,3,4,5],\n",
    "    'isim': ['Ayşe','Merve','Zeynep','Begüm','Ceren'],\n",
    "    'konu_id': ['konu2','konu1','konu4','konu3','konu5']\n",
    "})\n",
    "\n",
    "pd.concat([bir,iki])"
   ]
  },
  {
   "cell_type": "markdown",
   "metadata": {},
   "source": [
    "Belirli anahtarları, parçalanmış dataframe'in her biriyle ilişkilendirmek istediğimizi varsayalım. Bunu keys argümanını kullanarak yapabiliriz."
   ]
  },
  {
   "cell_type": "code",
   "execution_count": 3,
   "metadata": {},
   "outputs": [
    {
     "data": {
      "text/html": [
       "<div>\n",
       "<style scoped>\n",
       "    .dataframe tbody tr th:only-of-type {\n",
       "        vertical-align: middle;\n",
       "    }\n",
       "\n",
       "    .dataframe tbody tr th {\n",
       "        vertical-align: top;\n",
       "    }\n",
       "\n",
       "    .dataframe thead th {\n",
       "        text-align: right;\n",
       "    }\n",
       "</style>\n",
       "<table border=\"1\" class=\"dataframe\">\n",
       "  <thead>\n",
       "    <tr style=\"text-align: right;\">\n",
       "      <th></th>\n",
       "      <th></th>\n",
       "      <th>id</th>\n",
       "      <th>isim</th>\n",
       "      <th>konu_id</th>\n",
       "    </tr>\n",
       "  </thead>\n",
       "  <tbody>\n",
       "    <tr>\n",
       "      <th rowspan=\"5\" valign=\"top\">1.Grup</th>\n",
       "      <th>0</th>\n",
       "      <td>1</td>\n",
       "      <td>Furkan</td>\n",
       "      <td>konu1</td>\n",
       "    </tr>\n",
       "    <tr>\n",
       "      <th>1</th>\n",
       "      <td>2</td>\n",
       "      <td>Kemal</td>\n",
       "      <td>konu2</td>\n",
       "    </tr>\n",
       "    <tr>\n",
       "      <th>2</th>\n",
       "      <td>3</td>\n",
       "      <td>Sinan</td>\n",
       "      <td>konu3</td>\n",
       "    </tr>\n",
       "    <tr>\n",
       "      <th>3</th>\n",
       "      <td>4</td>\n",
       "      <td>Ekin</td>\n",
       "      <td>konu4</td>\n",
       "    </tr>\n",
       "    <tr>\n",
       "      <th>4</th>\n",
       "      <td>5</td>\n",
       "      <td>Mustafa</td>\n",
       "      <td>konu5</td>\n",
       "    </tr>\n",
       "    <tr>\n",
       "      <th rowspan=\"5\" valign=\"top\">2.Grup</th>\n",
       "      <th>0</th>\n",
       "      <td>1</td>\n",
       "      <td>Ayşe</td>\n",
       "      <td>konu2</td>\n",
       "    </tr>\n",
       "    <tr>\n",
       "      <th>1</th>\n",
       "      <td>2</td>\n",
       "      <td>Merve</td>\n",
       "      <td>konu1</td>\n",
       "    </tr>\n",
       "    <tr>\n",
       "      <th>2</th>\n",
       "      <td>3</td>\n",
       "      <td>Zeynep</td>\n",
       "      <td>konu4</td>\n",
       "    </tr>\n",
       "    <tr>\n",
       "      <th>3</th>\n",
       "      <td>4</td>\n",
       "      <td>Begüm</td>\n",
       "      <td>konu3</td>\n",
       "    </tr>\n",
       "    <tr>\n",
       "      <th>4</th>\n",
       "      <td>5</td>\n",
       "      <td>Ceren</td>\n",
       "      <td>konu5</td>\n",
       "    </tr>\n",
       "  </tbody>\n",
       "</table>\n",
       "</div>"
      ],
      "text/plain": [
       "          id     isim konu_id\n",
       "1.Grup 0   1   Furkan   konu1\n",
       "       1   2    Kemal   konu2\n",
       "       2   3    Sinan   konu3\n",
       "       3   4     Ekin   konu4\n",
       "       4   5  Mustafa   konu5\n",
       "2.Grup 0   1     Ayşe   konu2\n",
       "       1   2    Merve   konu1\n",
       "       2   3   Zeynep   konu4\n",
       "       3   4    Begüm   konu3\n",
       "       4   5    Ceren   konu5"
      ]
     },
     "execution_count": 3,
     "metadata": {},
     "output_type": "execute_result"
    }
   ],
   "source": [
    "import pandas as pd\n",
    "\n",
    "bir = pd.DataFrame({\n",
    "    'id': [1,2,3,4,5],\n",
    "    'isim': ['Furkan','Kemal','Sinan','Ekin','Mustafa'],\n",
    "    'konu_id': ['konu1','konu2','konu3','konu4','konu5']\n",
    "})\n",
    "\n",
    "iki = pd.DataFrame({\n",
    "    'id': [1,2,3,4,5],\n",
    "    'isim': ['Ayşe','Merve','Zeynep','Begüm','Ceren'],\n",
    "    'konu_id': ['konu2','konu1','konu4','konu3','konu5']\n",
    "})\n",
    "\n",
    "pd.concat([bir,iki],keys=['1.Grup','2.Grup'])"
   ]
  },
  {
   "cell_type": "markdown",
   "metadata": {},
   "source": [
    "Sonuç olarak dizini çoğaltılır ve her dizin tekrarlanır."
   ]
  },
  {
   "cell_type": "code",
   "execution_count": 5,
   "metadata": {},
   "outputs": [
    {
     "data": {
      "text/html": [
       "<div>\n",
       "<style scoped>\n",
       "    .dataframe tbody tr th:only-of-type {\n",
       "        vertical-align: middle;\n",
       "    }\n",
       "\n",
       "    .dataframe tbody tr th {\n",
       "        vertical-align: top;\n",
       "    }\n",
       "\n",
       "    .dataframe thead th {\n",
       "        text-align: right;\n",
       "    }\n",
       "</style>\n",
       "<table border=\"1\" class=\"dataframe\">\n",
       "  <thead>\n",
       "    <tr style=\"text-align: right;\">\n",
       "      <th></th>\n",
       "      <th></th>\n",
       "      <th>id</th>\n",
       "      <th>isim</th>\n",
       "      <th>konu_id</th>\n",
       "    </tr>\n",
       "  </thead>\n",
       "  <tbody>\n",
       "    <tr>\n",
       "      <th rowspan=\"5\" valign=\"top\">1.Grup</th>\n",
       "      <th>0</th>\n",
       "      <td>1</td>\n",
       "      <td>Furkan</td>\n",
       "      <td>konu1</td>\n",
       "    </tr>\n",
       "    <tr>\n",
       "      <th>1</th>\n",
       "      <td>2</td>\n",
       "      <td>Kemal</td>\n",
       "      <td>konu2</td>\n",
       "    </tr>\n",
       "    <tr>\n",
       "      <th>2</th>\n",
       "      <td>3</td>\n",
       "      <td>Sinan</td>\n",
       "      <td>konu3</td>\n",
       "    </tr>\n",
       "    <tr>\n",
       "      <th>3</th>\n",
       "      <td>4</td>\n",
       "      <td>Ekin</td>\n",
       "      <td>konu4</td>\n",
       "    </tr>\n",
       "    <tr>\n",
       "      <th>4</th>\n",
       "      <td>5</td>\n",
       "      <td>Mustafa</td>\n",
       "      <td>konu5</td>\n",
       "    </tr>\n",
       "    <tr>\n",
       "      <th rowspan=\"5\" valign=\"top\">2.Grup</th>\n",
       "      <th>0</th>\n",
       "      <td>1</td>\n",
       "      <td>Ayşe</td>\n",
       "      <td>konu2</td>\n",
       "    </tr>\n",
       "    <tr>\n",
       "      <th>1</th>\n",
       "      <td>2</td>\n",
       "      <td>Merve</td>\n",
       "      <td>konu1</td>\n",
       "    </tr>\n",
       "    <tr>\n",
       "      <th>2</th>\n",
       "      <td>3</td>\n",
       "      <td>Zeynep</td>\n",
       "      <td>konu4</td>\n",
       "    </tr>\n",
       "    <tr>\n",
       "      <th>3</th>\n",
       "      <td>4</td>\n",
       "      <td>Begüm</td>\n",
       "      <td>konu3</td>\n",
       "    </tr>\n",
       "    <tr>\n",
       "      <th>4</th>\n",
       "      <td>5</td>\n",
       "      <td>Ceren</td>\n",
       "      <td>konu5</td>\n",
       "    </tr>\n",
       "  </tbody>\n",
       "</table>\n",
       "</div>"
      ],
      "text/plain": [
       "          id     isim konu_id\n",
       "1.Grup 0   1   Furkan   konu1\n",
       "       1   2    Kemal   konu2\n",
       "       2   3    Sinan   konu3\n",
       "       3   4     Ekin   konu4\n",
       "       4   5  Mustafa   konu5\n",
       "2.Grup 0   1     Ayşe   konu2\n",
       "       1   2    Merve   konu1\n",
       "       2   3   Zeynep   konu4\n",
       "       3   4    Begüm   konu3\n",
       "       4   5    Ceren   konu5"
      ]
     },
     "execution_count": 5,
     "metadata": {},
     "output_type": "execute_result"
    }
   ],
   "source": [
    "import pandas as pd\n",
    "\n",
    "bir = pd.DataFrame({\n",
    "    'id': [1,2,3,4,5],\n",
    "    'isim': ['Furkan','Kemal','Sinan','Ekin','Mustafa'],\n",
    "    'konu_id': ['konu1','konu2','konu3','konu4','konu5']\n",
    "})\n",
    "\n",
    "iki = pd.DataFrame({\n",
    "    'id': [1,2,3,4,5],\n",
    "    'isim': ['Ayşe','Merve','Zeynep','Begüm','Ceren'],\n",
    "    'konu_id': ['konu2','konu1','konu4','konu3','konu5']\n",
    "})\n",
    "\n",
    "pd.concat([bir,iki],keys=['1.Grup','2.Grup'],ignore_index=True) \n",
    "## Varsayılan değer: False"
   ]
  },
  {
   "cell_type": "markdown",
   "metadata": {},
   "source": [
    "ignore_index kullanıldığında keys özelliği geçersiz kılınır.\n",
    "Eğer tüm tabloları yan yana birleştirmek istersek axis=1 değerini kullanmamız gerekiyor.\n"
   ]
  },
  {
   "cell_type": "code",
   "execution_count": 7,
   "metadata": {},
   "outputs": [
    {
     "data": {
      "text/html": [
       "<div>\n",
       "<style scoped>\n",
       "    .dataframe tbody tr th:only-of-type {\n",
       "        vertical-align: middle;\n",
       "    }\n",
       "\n",
       "    .dataframe tbody tr th {\n",
       "        vertical-align: top;\n",
       "    }\n",
       "\n",
       "    .dataframe thead th {\n",
       "        text-align: right;\n",
       "    }\n",
       "</style>\n",
       "<table border=\"1\" class=\"dataframe\">\n",
       "  <thead>\n",
       "    <tr style=\"text-align: right;\">\n",
       "      <th></th>\n",
       "      <th>id</th>\n",
       "      <th>isim</th>\n",
       "      <th>konu_id</th>\n",
       "      <th>id</th>\n",
       "      <th>isim</th>\n",
       "      <th>konu_id</th>\n",
       "    </tr>\n",
       "  </thead>\n",
       "  <tbody>\n",
       "    <tr>\n",
       "      <th>0</th>\n",
       "      <td>1</td>\n",
       "      <td>Furkan</td>\n",
       "      <td>konu1</td>\n",
       "      <td>1</td>\n",
       "      <td>Ayşe</td>\n",
       "      <td>konu2</td>\n",
       "    </tr>\n",
       "    <tr>\n",
       "      <th>1</th>\n",
       "      <td>2</td>\n",
       "      <td>Kemal</td>\n",
       "      <td>konu2</td>\n",
       "      <td>2</td>\n",
       "      <td>Merve</td>\n",
       "      <td>konu1</td>\n",
       "    </tr>\n",
       "    <tr>\n",
       "      <th>2</th>\n",
       "      <td>3</td>\n",
       "      <td>Sinan</td>\n",
       "      <td>konu3</td>\n",
       "      <td>3</td>\n",
       "      <td>Zeynep</td>\n",
       "      <td>konu4</td>\n",
       "    </tr>\n",
       "    <tr>\n",
       "      <th>3</th>\n",
       "      <td>4</td>\n",
       "      <td>Ekin</td>\n",
       "      <td>konu4</td>\n",
       "      <td>4</td>\n",
       "      <td>Begüm</td>\n",
       "      <td>konu3</td>\n",
       "    </tr>\n",
       "    <tr>\n",
       "      <th>4</th>\n",
       "      <td>5</td>\n",
       "      <td>Mustafa</td>\n",
       "      <td>konu5</td>\n",
       "      <td>5</td>\n",
       "      <td>Ceren</td>\n",
       "      <td>konu5</td>\n",
       "    </tr>\n",
       "  </tbody>\n",
       "</table>\n",
       "</div>"
      ],
      "text/plain": [
       "   id     isim konu_id  id    isim konu_id\n",
       "0   1   Furkan   konu1   1    Ayşe   konu2\n",
       "1   2    Kemal   konu2   2   Merve   konu1\n",
       "2   3    Sinan   konu3   3  Zeynep   konu4\n",
       "3   4     Ekin   konu4   4   Begüm   konu3\n",
       "4   5  Mustafa   konu5   5   Ceren   konu5"
      ]
     },
     "execution_count": 7,
     "metadata": {},
     "output_type": "execute_result"
    }
   ],
   "source": [
    "import pandas as pd\n",
    "\n",
    "bir = pd.DataFrame({\n",
    "    'id': [1,2,3,4,5],\n",
    "    'isim': ['Furkan','Kemal','Sinan','Ekin','Mustafa'],\n",
    "    'konu_id': ['konu1','konu2','konu3','konu4','konu5']\n",
    "})\n",
    "\n",
    "iki = pd.DataFrame({\n",
    "    'id': [1,2,3,4,5],\n",
    "    'isim': ['Ayşe','Merve','Zeynep','Begüm','Ceren'],\n",
    "    'konu_id': ['konu2','konu1','konu4','konu3','konu5']\n",
    "})\n",
    "\n",
    "pd.concat([bir,iki],axis=1)"
   ]
  },
  {
   "cell_type": "markdown",
   "metadata": {},
   "source": [
    "## Append Kullanarak Birleştirme\n",
    "Concat için yararlı bir kısayol, ama bunun yanında append metodu da vardır. Kullanımı concat metoduna benzer. Örnekler ile append metodunu anlamaya çalışalım."
   ]
  },
  {
   "cell_type": "code",
   "execution_count": 8,
   "metadata": {},
   "outputs": [
    {
     "data": {
      "text/html": [
       "<div>\n",
       "<style scoped>\n",
       "    .dataframe tbody tr th:only-of-type {\n",
       "        vertical-align: middle;\n",
       "    }\n",
       "\n",
       "    .dataframe tbody tr th {\n",
       "        vertical-align: top;\n",
       "    }\n",
       "\n",
       "    .dataframe thead th {\n",
       "        text-align: right;\n",
       "    }\n",
       "</style>\n",
       "<table border=\"1\" class=\"dataframe\">\n",
       "  <thead>\n",
       "    <tr style=\"text-align: right;\">\n",
       "      <th></th>\n",
       "      <th>id</th>\n",
       "      <th>isim</th>\n",
       "      <th>konu_id</th>\n",
       "    </tr>\n",
       "  </thead>\n",
       "  <tbody>\n",
       "    <tr>\n",
       "      <th>0</th>\n",
       "      <td>1</td>\n",
       "      <td>Furkan</td>\n",
       "      <td>konu1</td>\n",
       "    </tr>\n",
       "    <tr>\n",
       "      <th>1</th>\n",
       "      <td>2</td>\n",
       "      <td>Kemal</td>\n",
       "      <td>konu2</td>\n",
       "    </tr>\n",
       "    <tr>\n",
       "      <th>2</th>\n",
       "      <td>3</td>\n",
       "      <td>Sinan</td>\n",
       "      <td>konu3</td>\n",
       "    </tr>\n",
       "    <tr>\n",
       "      <th>3</th>\n",
       "      <td>4</td>\n",
       "      <td>Ekin</td>\n",
       "      <td>konu4</td>\n",
       "    </tr>\n",
       "    <tr>\n",
       "      <th>4</th>\n",
       "      <td>5</td>\n",
       "      <td>Mustafa</td>\n",
       "      <td>konu5</td>\n",
       "    </tr>\n",
       "    <tr>\n",
       "      <th>0</th>\n",
       "      <td>1</td>\n",
       "      <td>Ayşe</td>\n",
       "      <td>konu2</td>\n",
       "    </tr>\n",
       "    <tr>\n",
       "      <th>1</th>\n",
       "      <td>2</td>\n",
       "      <td>Merve</td>\n",
       "      <td>konu1</td>\n",
       "    </tr>\n",
       "    <tr>\n",
       "      <th>2</th>\n",
       "      <td>3</td>\n",
       "      <td>Zeynep</td>\n",
       "      <td>konu4</td>\n",
       "    </tr>\n",
       "    <tr>\n",
       "      <th>3</th>\n",
       "      <td>4</td>\n",
       "      <td>Begüm</td>\n",
       "      <td>konu3</td>\n",
       "    </tr>\n",
       "    <tr>\n",
       "      <th>4</th>\n",
       "      <td>5</td>\n",
       "      <td>Ceren</td>\n",
       "      <td>konu5</td>\n",
       "    </tr>\n",
       "  </tbody>\n",
       "</table>\n",
       "</div>"
      ],
      "text/plain": [
       "   id     isim konu_id\n",
       "0   1   Furkan   konu1\n",
       "1   2    Kemal   konu2\n",
       "2   3    Sinan   konu3\n",
       "3   4     Ekin   konu4\n",
       "4   5  Mustafa   konu5\n",
       "0   1     Ayşe   konu2\n",
       "1   2    Merve   konu1\n",
       "2   3   Zeynep   konu4\n",
       "3   4    Begüm   konu3\n",
       "4   5    Ceren   konu5"
      ]
     },
     "execution_count": 8,
     "metadata": {},
     "output_type": "execute_result"
    }
   ],
   "source": [
    "import pandas as pd\n",
    "\n",
    "bir = pd.DataFrame({\n",
    "    'id': [1,2,3,4,5],\n",
    "    'isim': ['Furkan','Kemal','Sinan','Ekin','Mustafa'],\n",
    "    'konu_id': ['konu1','konu2','konu3','konu4','konu5']\n",
    "})\n",
    "\n",
    "iki = pd.DataFrame({\n",
    "    'id': [1,2,3,4,5],\n",
    "    'isim': ['Ayşe','Merve','Zeynep','Begüm','Ceren'],\n",
    "    'konu_id': ['konu2','konu1','konu4','konu3','konu5']\n",
    "})\n",
    "\n",
    "bir.append(iki)"
   ]
  },
  {
   "cell_type": "markdown",
   "metadata": {},
   "source": [
    "Append işlevi de birden çok nesne alabilir."
   ]
  },
  {
   "cell_type": "code",
   "execution_count": 10,
   "metadata": {},
   "outputs": [
    {
     "data": {
      "text/html": [
       "<div>\n",
       "<style scoped>\n",
       "    .dataframe tbody tr th:only-of-type {\n",
       "        vertical-align: middle;\n",
       "    }\n",
       "\n",
       "    .dataframe tbody tr th {\n",
       "        vertical-align: top;\n",
       "    }\n",
       "\n",
       "    .dataframe thead th {\n",
       "        text-align: right;\n",
       "    }\n",
       "</style>\n",
       "<table border=\"1\" class=\"dataframe\">\n",
       "  <thead>\n",
       "    <tr style=\"text-align: right;\">\n",
       "      <th></th>\n",
       "      <th>id</th>\n",
       "      <th>isim</th>\n",
       "      <th>konu_id</th>\n",
       "    </tr>\n",
       "  </thead>\n",
       "  <tbody>\n",
       "    <tr>\n",
       "      <th>0</th>\n",
       "      <td>1</td>\n",
       "      <td>Furkan</td>\n",
       "      <td>konu1</td>\n",
       "    </tr>\n",
       "    <tr>\n",
       "      <th>1</th>\n",
       "      <td>2</td>\n",
       "      <td>Kemal</td>\n",
       "      <td>konu2</td>\n",
       "    </tr>\n",
       "    <tr>\n",
       "      <th>2</th>\n",
       "      <td>3</td>\n",
       "      <td>Sinan</td>\n",
       "      <td>konu3</td>\n",
       "    </tr>\n",
       "    <tr>\n",
       "      <th>3</th>\n",
       "      <td>4</td>\n",
       "      <td>Ekin</td>\n",
       "      <td>konu4</td>\n",
       "    </tr>\n",
       "    <tr>\n",
       "      <th>4</th>\n",
       "      <td>5</td>\n",
       "      <td>Mustafa</td>\n",
       "      <td>konu5</td>\n",
       "    </tr>\n",
       "    <tr>\n",
       "      <th>0</th>\n",
       "      <td>1</td>\n",
       "      <td>Ayşe</td>\n",
       "      <td>konu2</td>\n",
       "    </tr>\n",
       "    <tr>\n",
       "      <th>1</th>\n",
       "      <td>2</td>\n",
       "      <td>Merve</td>\n",
       "      <td>konu1</td>\n",
       "    </tr>\n",
       "    <tr>\n",
       "      <th>2</th>\n",
       "      <td>3</td>\n",
       "      <td>Zeynep</td>\n",
       "      <td>konu4</td>\n",
       "    </tr>\n",
       "    <tr>\n",
       "      <th>3</th>\n",
       "      <td>4</td>\n",
       "      <td>Begüm</td>\n",
       "      <td>konu3</td>\n",
       "    </tr>\n",
       "    <tr>\n",
       "      <th>4</th>\n",
       "      <td>5</td>\n",
       "      <td>Ceren</td>\n",
       "      <td>konu5</td>\n",
       "    </tr>\n",
       "    <tr>\n",
       "      <th>0</th>\n",
       "      <td>1</td>\n",
       "      <td>Furkan</td>\n",
       "      <td>konu1</td>\n",
       "    </tr>\n",
       "    <tr>\n",
       "      <th>1</th>\n",
       "      <td>2</td>\n",
       "      <td>Kemal</td>\n",
       "      <td>konu2</td>\n",
       "    </tr>\n",
       "    <tr>\n",
       "      <th>2</th>\n",
       "      <td>3</td>\n",
       "      <td>Sinan</td>\n",
       "      <td>konu3</td>\n",
       "    </tr>\n",
       "    <tr>\n",
       "      <th>3</th>\n",
       "      <td>4</td>\n",
       "      <td>Ekin</td>\n",
       "      <td>konu4</td>\n",
       "    </tr>\n",
       "    <tr>\n",
       "      <th>4</th>\n",
       "      <td>5</td>\n",
       "      <td>Mustafa</td>\n",
       "      <td>konu5</td>\n",
       "    </tr>\n",
       "    <tr>\n",
       "      <th>0</th>\n",
       "      <td>1</td>\n",
       "      <td>Ayşe</td>\n",
       "      <td>konu2</td>\n",
       "    </tr>\n",
       "    <tr>\n",
       "      <th>1</th>\n",
       "      <td>2</td>\n",
       "      <td>Merve</td>\n",
       "      <td>konu1</td>\n",
       "    </tr>\n",
       "    <tr>\n",
       "      <th>2</th>\n",
       "      <td>3</td>\n",
       "      <td>Zeynep</td>\n",
       "      <td>konu4</td>\n",
       "    </tr>\n",
       "    <tr>\n",
       "      <th>3</th>\n",
       "      <td>4</td>\n",
       "      <td>Begüm</td>\n",
       "      <td>konu3</td>\n",
       "    </tr>\n",
       "    <tr>\n",
       "      <th>4</th>\n",
       "      <td>5</td>\n",
       "      <td>Ceren</td>\n",
       "      <td>konu5</td>\n",
       "    </tr>\n",
       "  </tbody>\n",
       "</table>\n",
       "</div>"
      ],
      "text/plain": [
       "   id     isim konu_id\n",
       "0   1   Furkan   konu1\n",
       "1   2    Kemal   konu2\n",
       "2   3    Sinan   konu3\n",
       "3   4     Ekin   konu4\n",
       "4   5  Mustafa   konu5\n",
       "0   1     Ayşe   konu2\n",
       "1   2    Merve   konu1\n",
       "2   3   Zeynep   konu4\n",
       "3   4    Begüm   konu3\n",
       "4   5    Ceren   konu5\n",
       "0   1   Furkan   konu1\n",
       "1   2    Kemal   konu2\n",
       "2   3    Sinan   konu3\n",
       "3   4     Ekin   konu4\n",
       "4   5  Mustafa   konu5\n",
       "0   1     Ayşe   konu2\n",
       "1   2    Merve   konu1\n",
       "2   3   Zeynep   konu4\n",
       "3   4    Begüm   konu3\n",
       "4   5    Ceren   konu5"
      ]
     },
     "execution_count": 10,
     "metadata": {},
     "output_type": "execute_result"
    }
   ],
   "source": [
    "import pandas as pd\n",
    "\n",
    "bir = pd.DataFrame({\n",
    "    'id': [1,2,3,4,5],\n",
    "    'isim': ['Furkan','Kemal','Sinan','Ekin','Mustafa'],\n",
    "    'konu_id': ['konu1','konu2','konu3','konu4','konu5']\n",
    "})\n",
    "\n",
    "iki = pd.DataFrame({\n",
    "    'id': [1,2,3,4,5],\n",
    "    'isim': ['Ayşe','Merve','Zeynep','Begüm','Ceren'],\n",
    "    'konu_id': ['konu2','konu1','konu4','konu3','konu5']\n",
    "})\n",
    "\n",
    "bir.append([iki,bir,iki])"
   ]
  },
  {
   "cell_type": "markdown",
   "metadata": {},
   "source": [
    "## Zaman Serisi\n",
    "Pandas, özellikle finans sektöründe, zaman serisi verileri ile çalışma süresi için sağlam bir araç sağlar. Zaman serisi verileri ile çalışırken, sık sık aşağıdakileri kullanırız.\n",
    "- Zaman dizisi oluşturma\n",
    "- Zaman serisini farklı frekanslara dönüştürme\n",
    "\n",
    "Pandas, yukarıdaki görevleri yerine getirmek için nispeten kompakt ve bağımsız bir araç seti sağlar.\n",
    "\n",
    "### Geçerli Saati Al\n",
    "datetime.now () size geçerli tarih ve saati verir."
   ]
  },
  {
   "cell_type": "code",
   "execution_count": 11,
   "metadata": {},
   "outputs": [
    {
     "data": {
      "text/plain": [
       "datetime.datetime(2019, 10, 1, 14, 43, 15, 726691)"
      ]
     },
     "execution_count": 11,
     "metadata": {},
     "output_type": "execute_result"
    }
   ],
   "source": [
    "import pandas as pd\n",
    "pd.datetime.now()"
   ]
  },
  {
   "cell_type": "markdown",
   "metadata": {},
   "source": [
    "### TimeStamp Oluşturma\n",
    "TimeStamp verileri, değerleri zaman içindeki noktalarla ilişkilendiren timeseries verilerinin en temel türüdür."
   ]
  },
  {
   "cell_type": "code",
   "execution_count": 19,
   "metadata": {},
   "outputs": [
    {
     "data": {
      "text/plain": [
       "Timestamp('2019-09-19 00:00:00')"
      ]
     },
     "execution_count": 19,
     "metadata": {},
     "output_type": "execute_result"
    }
   ],
   "source": [
    "import pandas as pd\n",
    "pd.Timestamp('2019-09-19')"
   ]
  },
  {
   "cell_type": "markdown",
   "metadata": {},
   "source": [
    "Tamsayı veya float dönüştürmek de mümkündür. Bunlar için varsayılan birim nanosaniyedir. Bununla birlikte, çoğu zaman çağlar belirtilebilecek başka bir ünitede saklanır. "
   ]
  },
  {
   "cell_type": "code",
   "execution_count": 20,
   "metadata": {},
   "outputs": [
    {
     "data": {
      "text/plain": [
       "Timestamp('2020-04-24 00:14:15')"
      ]
     },
     "execution_count": 20,
     "metadata": {},
     "output_type": "execute_result"
    }
   ],
   "source": [
    "import pandas as pd\n",
    "\n",
    "pd.Timestamp(1587687255,unit='s')"
   ]
  },
  {
   "cell_type": "markdown",
   "metadata": {},
   "source": [
    "### Bir zaman aralığı oluşturma"
   ]
  },
  {
   "cell_type": "code",
   "execution_count": 23,
   "metadata": {},
   "outputs": [
    {
     "data": {
      "text/plain": [
       "array([datetime.time(11, 0), datetime.time(11, 30), datetime.time(12, 0),\n",
       "       datetime.time(12, 30), datetime.time(13, 0), datetime.time(13, 30)],\n",
       "      dtype=object)"
      ]
     },
     "execution_count": 23,
     "metadata": {},
     "output_type": "execute_result"
    }
   ],
   "source": [
    "import pandas as pd\n",
    "\n",
    "pd.date_range(\"11:00\", \"13:30\", freq=\"30min\").time"
   ]
  },
  {
   "cell_type": "markdown",
   "metadata": {},
   "source": [
    "### Zaman sıklığını değiştirme"
   ]
  },
  {
   "cell_type": "code",
   "execution_count": 22,
   "metadata": {},
   "outputs": [
    {
     "data": {
      "text/plain": [
       "array([datetime.time(11, 0), datetime.time(12, 0), datetime.time(13, 0)],\n",
       "      dtype=object)"
      ]
     },
     "execution_count": 22,
     "metadata": {},
     "output_type": "execute_result"
    }
   ],
   "source": [
    "import pandas as pd\n",
    "\n",
    "pd.date_range(\"11:00\", \"13:30\", freq=\"H\").time"
   ]
  },
  {
   "cell_type": "markdown",
   "metadata": {},
   "source": [
    "### Timestampe dönüştürme\n",
    "Tarih benzeri nesnelerin seri veya liste benzeri nesnesini (örneğin dizeler, dönemler veya karışık) dönüştürmek için to_datetime işlevini kullanabilirsiniz. "
   ]
  },
  {
   "cell_type": "code",
   "execution_count": 24,
   "metadata": {},
   "outputs": [
    {
     "data": {
      "text/plain": [
       "0   2009-07-31\n",
       "1   2010-01-10\n",
       "2          NaT\n",
       "dtype: datetime64[ns]"
      ]
     },
     "execution_count": 24,
     "metadata": {},
     "output_type": "execute_result"
    }
   ],
   "source": [
    "import pandas as pd\n",
    "\n",
    "pd.to_datetime(pd.Series(['Jul 31, 2009','2010-01-10', None]))"
   ]
  },
  {
   "cell_type": "code",
   "execution_count": null,
   "metadata": {},
   "outputs": [],
   "source": []
  },
  {
   "cell_type": "code",
   "execution_count": null,
   "metadata": {},
   "outputs": [],
   "source": []
  },
  {
   "cell_type": "code",
   "execution_count": null,
   "metadata": {},
   "outputs": [],
   "source": []
  }
 ],
 "metadata": {
  "kernelspec": {
   "display_name": "Python 3",
   "language": "python",
   "name": "python3"
  },
  "language_info": {
   "codemirror_mode": {
    "name": "ipython",
    "version": 3
   },
   "file_extension": ".py",
   "mimetype": "text/x-python",
   "name": "python",
   "nbconvert_exporter": "python",
   "pygments_lexer": "ipython3",
   "version": "3.7.3"
  }
 },
 "nbformat": 4,
 "nbformat_minor": 4
}
